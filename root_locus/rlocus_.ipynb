{
 "cells": [
  {
   "cell_type": "code",
   "execution_count": 3,
   "metadata": {},
   "outputs": [
    {
     "name": "stdout",
     "output_type": "stream",
     "text": [
      "kp = 0\n",
      "kp = 1\n",
      "kp = 2\n",
      "kp = 3\n",
      "kp = 4\n",
      "kp = 5\n",
      "kp = 6\n",
      "kp = 7\n",
      "kp = 8\n",
      "kp = 9\n",
      "kp = 10\n",
      "kp = 11\n",
      "kp = 12\n",
      "kp = 13\n",
      "kp = 14\n",
      "kp = 15\n",
      "kp = 16\n",
      "kp = 17\n",
      "kp = 18\n",
      "kp = 19\n",
      "kp = 20\n",
      "kp = 21\n",
      "kp = 22\n",
      "kp = 23\n",
      "kp = 24\n",
      "kp = 25\n",
      "kp = 26\n",
      "kp = 27\n",
      "kp = 28\n",
      "kp = 29\n",
      "kp = 30\n",
      "kp = 31\n",
      "kp = 32\n",
      "kp = 33\n",
      "kp = 34\n",
      "kp = 35\n",
      "kp = 36\n",
      "kp = 37\n",
      "kp = 38\n",
      "kp = 39\n",
      "kp = 40\n",
      "kp = 41\n",
      "kp = 42\n",
      "kp = 43\n",
      "kp = 44\n",
      "kp = 45\n",
      "kp = 46\n",
      "kp = 47\n",
      "kp = 48\n",
      "kp = 49\n",
      "kp = 50\n",
      "kp = 51\n",
      "kp = 52\n",
      "kp = 53\n",
      "kp = 54\n",
      "kp = 55\n",
      "kp = 56\n",
      "kp = 57\n",
      "kp = 58\n",
      "kp = 59\n"
     ]
    }
   ],
   "source": [
    "import control as ctl\n",
    "import numpy as np\n",
    "import matplotlib.pyplot as plt\n",
    "%matplotlib qt5\n",
    "\n",
    "plt.grid()\n",
    "tout = np.linspace(0,10,1000)\n",
    "for kp in range(0,60):\n",
    "    den = [1,6,8,kp]\n",
    "    s = np.roots(den)\n",
    "    plt.plot(np.real(s),np.imag(s),'b*')\n",
    "    #print(s)\n",
    "    print('kp =', kp)\n",
    "    G = ctl.tf([kp],den)\n",
    "    tout,yout = ctl.step_response(G,tout)\n",
    "    #print(G)\n",
    "    #plt.plot(tout,yout)\n",
    "    plt.pause(0.1)\n",
    "    plt.show()"
   ]
  },
  {
   "cell_type": "code",
   "execution_count": null,
   "metadata": {},
   "outputs": [],
   "source": []
  }
 ],
 "metadata": {
  "kernelspec": {
   "display_name": "Python 3 (ipykernel)",
   "language": "python",
   "name": "python3"
  },
  "language_info": {
   "codemirror_mode": {
    "name": "ipython",
    "version": 3
   },
   "file_extension": ".py",
   "mimetype": "text/x-python",
   "name": "python",
   "nbconvert_exporter": "python",
   "pygments_lexer": "ipython3",
   "version": "3.10.2"
  }
 },
 "nbformat": 4,
 "nbformat_minor": 4
}
