{
 "cells": [
  {
   "cell_type": "code",
   "execution_count": 1,
   "id": "6dc13a9f-3ebb-4413-ba52-7c56f973310a",
   "metadata": {},
   "outputs": [],
   "source": [
    "using Plots\n",
    "\n",
    "# Frequency domain analysis of a simple system with time delays"
   ]
  },
  {
   "cell_type": "code",
   "execution_count": 2,
   "id": "500dd79f-96d4-4385-8709-3ea3f1d4fc2f",
   "metadata": {},
   "outputs": [
    {
     "ename": "LoadError",
     "evalue": "UndefVarError: `tf` not defined",
     "output_type": "error",
     "traceback": [
      "UndefVarError: `tf` not defined",
      "",
      "Stacktrace:",
      " [1] top-level scope",
      "   @ In[2]:1"
     ]
    }
   ],
   "source": [
    "s = tf(\"s\")\n",
    "\n",
    "P = delay(0.2) * ss(1/(s+1))\n",
    "\n",
    "K = 3; Ti = 0.3;\n",
    "C = ss(K*(1 + 1/s))\n",
    "\n",
    "ω = exp10.(LinRange(-2,2,500))\n",
    "\n",
    "nyquistplot(P*C, ω, xlims=(-2,1), ylims=(-2,2), gaincircles=false)"
   ]
  },
  {
   "cell_type": "code",
   "execution_count": 3,
   "id": "90d9687d-5c0b-49ad-9b0c-14364a80d7a5",
   "metadata": {},
   "outputs": [
    {
     "ename": "LoadError",
     "evalue": "UndefVarError: `feedback` not defined",
     "output_type": "error",
     "traceback": [
      "UndefVarError: `feedback` not defined",
      "",
      "Stacktrace:",
      " [1] top-level scope",
      "   @ In[3]:1"
     ]
    }
   ],
   "source": [
    "G_yd = feedback(P, C)\n",
    "bodeplot(G_yd, ω, plotphase=false, title=\"Transfer function from load disturbances to output.\")"
   ]
  }
 ],
 "metadata": {
  "kernelspec": {
   "display_name": "Julia 1.9.3",
   "language": "julia",
   "name": "julia-1.9"
  },
  "language_info": {
   "file_extension": ".jl",
   "mimetype": "application/julia",
   "name": "julia",
   "version": "1.9.3"
  }
 },
 "nbformat": 4,
 "nbformat_minor": 5
}
