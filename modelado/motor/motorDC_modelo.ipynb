{
 "cells": [
  {
   "cell_type": "markdown",
   "id": "2de86151",
   "metadata": {
    "user_expressions": []
   },
   "source": [
    "# Motor de Corriente Continua e imán permanente: Modelado del sistema\n",
    "\n",
    "Principales comando de Python usados: \n",
    "**pyhton-control:** NonlinearIOSystem, input_output_response, ss, tf, forced_response\n",
    "**numpy:** linspace, arange, array, eye, zero, ones\n",
    "**matplotlib:** subplots, plot, set_xlabel, set_ylabel, grid, suptitle, tight_layout\n",
    "\n",
    "<div class=\"alert alert-block alert-warning\">\n",
    "<b>Warning: </b> El siguiente notebook fue ejecutado con las versiones de la librería de python-control:  0.9.1:\n",
    "</div> \n",
    "\n",
    "- [Modelo físico](#id_motor1)\n",
    "    - [Descripción y su funcionamiento](#id_motor1_1)\n",
    "    - [Parámetros de las ecuaciones del sistema](#id_motor1_2)\n",
    "    - [Desarrollo de las ecuaciones](#id_motor1_3)\n",
    "    - [Simulación del modelo usando python-control: IOmodel](#id_motor1_4)\n",
    "- [Modelo en espacio de estados](#id_motor3)\n",
    "    - [Simulación de la dinámica del motor: SSmodel](#id_motor3_1)\n",
    "- [Modelo en función de transferencia](#id_motor4)\n",
    "    - [Simulación de la dinámica del motor: TFmodel](#id_motor4_1)\n",
    "- [Citas y Referencias](#id_motor5)\n",
    "\n"
   ]
  },
  {
   "cell_type": "markdown",
   "id": "3e0c4924-f5f5-4b18-be37-fcb88d18a208",
   "metadata": {
    "user_expressions": []
   },
   "source": [
    "<a id=\"id_motor1\"></a>\n",
    "## Modelo físico"
   ]
  },
  {
   "cell_type": "markdown",
   "id": "122e8498",
   "metadata": {},
   "source": [
    "<a id=\"id_motor1_1\"></a>\n",
    "### Descripción y su funcionamiento\n",
    "\n",
    "A continuación se deja un video describiendo las partes de un motor y la forma de funcionamiento. Si bien el motor del video es un motor de ambas corrientes o motor universal de corriente alterna, a los fines prácticos es similar al un motor de continua desde el punto de vista mecánico.\n",
    "\n",
    "[![motor: descripción](motor_parte0.png)](https://youtu.be/ztMgB1UofxU \"Motor eléctrico: descripción\")"
   ]
  },
  {
   "cell_type": "markdown",
   "id": "e4d30c50-4df1-4dd9-8bf7-b26c86290ae5",
   "metadata": {},
   "source": [
    "<a id=\"id_motor1_2\"></a>\n",
    "### Parámetros de las ecuaciones del sistema\n",
    "\n",
    "- $R_a= 4 [Ohm]$ resistencia equivalente del bobinado de armadura\n",
    "- $L_a= 2.75E-6 [H]$ inductancia equivalente del bobinado de armadura\n",
    "- $K= 0.0274 [Nm/A]$ constante del motor\n",
    "- $J_m= 3.2284E-6 [kg m^2]$ Inercia del motor \n",
    "- $D_m= 3.5077E-6 [N m s]$ Coeficiente de fricción viscosa total (rodamientos y escobillas)\n",
    "\n",
    "<!---\n",
    "Jm = 4.178;\n",
    "Dm = 0.9827;\n",
    "K = 2.68;\n",
    "Ra = 3.6;\n",
    "La = 2.75e-6;\n",
    "--->"
   ]
  },
  {
   "cell_type": "markdown",
   "id": "4a8b8ba3-34e1-4b7c-9b02-05bc1262e0d9",
   "metadata": {},
   "source": [
    "El modelo matemático se obtiene planteando las ecuaciones físicas del circuito eléctrico equivalente y del modelo mecánico planteado.\n",
    "\n",
    "La primera ecuación a plantear es la que corresponde al circuito equivalente de la Armadura. Esta ecuación surge de aplicar las ecuaciones de Kirchoff.\n",
    "\n",
    "La segunda ecuación corresponde al modelo mecánico planteado. La ecuación surge de aplicar la segunda ley de Newton.\n",
    "\n",
    "Algunas  simplificaciones que consideraremos para este modelo son:\n",
    "\n",
    "1. La resistencia, inductancia, momento de inercia y \"viscosidad\" son constantes. Es decir, no contemplaremos cambios de ningún tipo, como por ejemplo el efecto de la temperatura.\n",
    "1. El rozamiento viscoso es lineal. Es decir, la viscosidad es es proporcional a la velocidad ($\\tau_d=D_m*\\omega$).\n",
    "\n",
    "<img src=\"motor_fig1.png\">\n"
   ]
  },
  {
   "cell_type": "markdown",
   "id": "c98f726c",
   "metadata": {
    "tags": []
   },
   "source": [
    "<a id=\"id_motor1_3\"></a>\n",
    "### Desarrollo de las ecuaciones\n",
    "\n",
    "El circuito eléctrico se relaciona con el mecánico, y viceversa, por medio de la siguientes ecuaciones:\n",
    "\n",
    "$$\n",
    "\\begin{aligned}\n",
    "V_b(t) &= K_b \\frac{d\\theta_m(t)}{dt} &\\text{fuerza contraelectromotriz}\\\\\n",
    " \\tau_m(t) &= K_t i_a(t) &\\text{torque del motor}\n",
    "\\end{aligned}\n",
    "$$\n",
    "\n",
    "para las mismas unidades $K_t$ es igual a $K_b$, esto es $K_t=K_b=K$\n",
    "\n",
    "$$\n",
    "\\begin{aligned}\n",
    "R_a i_a(t) + L_a \\frac{di_a(t)}{dt} + V_b(t) &= e_a(t) & \\text{Ec. de la malla eléctrica de la armadura}\\\\\n",
    "\\tau_m(t) - \\tau_r(t) - D_m\\frac{d\\theta_m(t)}{dt} &= J_m \\frac{d^2\\theta_m(t)}{dt^2} & \\text{Ecs. mecánica}\n",
    "\\end{aligned}\n",
    "$$"
   ]
  },
  {
   "cell_type": "markdown",
   "id": "c00a4d1d",
   "metadata": {},
   "source": [
    "Reemplazando obtenemos el sistema de ecuaciones de parámetros concentrados (no depende de la ubicación espacial de los componentes del sistema), lineal (cumple con superposición) e invariante en el tiempo (su comportamiento no cambia con el tiempo). Como el sistema es lineal e invariante en el tiempo se dice que el sistema es LTI (linear time invariant).\n",
    "\n",
    "<div class=\"alert alert-block alert-info\">\n",
    "<b>Ecuaciones lineales:<b/>\n",
    "<br/>\n",
    "<br/>\n",
    "$$\n",
    "\\begin{aligned}\n",
    " \\frac{di_a(t)}{dt} &= -\\frac{R_a}{L_a} i_a(t) - \\frac{K}{L_a} \\frac{d\\theta_m(t)}{dt}+\\frac{1}{L_a} e_a(t) \\\\\n",
    "\\frac{d^2\\theta_m(t)}{dt^2} &= \\frac{K}{J_m} i_a(t)  - \\frac{D_m}{J_m}\\frac{d\\theta_m(t)}{dt}- \\frac{1}{J_m}\\tau_r(t)\n",
    "\\end{aligned}\n",
    "$$\n",
    "</div>"
   ]
  },
  {
   "cell_type": "markdown",
   "id": "edc3b5e1-c27e-48f7-8afa-f2688d5a9997",
   "metadata": {},
   "source": [
    "<a id=\"id_motor1_4\"></a>\n",
    "### Simulación del modelo usando python-control: IOmodel"
   ]
  },
  {
   "cell_type": "code",
   "execution_count": 1,
   "id": "df9e3045-4828-47fc-839d-9a6060a9e858",
   "metadata": {},
   "outputs": [
    {
     "name": "stdout",
     "output_type": "stream",
     "text": [
      "version de biblioteca de control:  0.9.1\n"
     ]
    }
   ],
   "source": [
    "import control as ctrl\n",
    "import matplotlib.pyplot as plt\n",
    "import numpy as np\n",
    "\n",
    "#es necesario versión 0.9.1 de la biblioteca de control\n",
    "print('version de biblioteca de control: ', ctrl.__version__)"
   ]
  },
  {
   "cell_type": "code",
   "execution_count": 2,
   "id": "8eff8e12-4757-4206-888c-70c814db7f34",
   "metadata": {},
   "outputs": [],
   "source": [
    "# definición de parámetros del motor para los distintos modelos\n",
    "Jm = 3.2284E-6;\n",
    "Dm = 3.5077E-6;\n",
    "K = 0.0274;\n",
    "Ra = 4;\n",
    "La = 2.75E-6;"
   ]
  },
  {
   "cell_type": "markdown",
   "id": "dc0ef0a5-b8de-4b64-8945-165fb243a395",
   "metadata": {},
   "source": [
    "Para la simulación es necesario definir una función con las funciones de la derivadas y en este caso también se define una función para la salida aunque esta última no es necesaria (se podría usar solo `motor_update` con la salida de `motor_output`)."
   ]
  },
  {
   "cell_type": "code",
   "execution_count": 3,
   "id": "d18f0551",
   "metadata": {},
   "outputs": [],
   "source": [
    "def motor_update(t, x, u, params={}):\n",
    "    # Parámetros, tienen valores por defecto\n",
    "    Jm =params.get('Jm', 3.2284E-6)\n",
    "    Dm =params.get('Dm', 3.5077E-6)\n",
    "    K =params.get('K', 0.0274)\n",
    "    Ra =params.get('Ra', 4)\n",
    "    La =params.get('La', 2.75E-6)\n",
    "    \n",
    "    Ea,Tr= u[0],u[1]\n",
    "    # variables de estado\n",
    "    ia = x[0]#x1\n",
    "    dtheta = x[1]#x2 = dx3/dt\n",
    "    theta = x[2] #x3 \n",
    "    \n",
    "    #cálculo de la derivadas\n",
    "    ddtheta=(K/Jm*ia-Dm/Jm*dtheta)#-1/Jm*Tr)\n",
    "    dia = (1/La*Ea  - Ra/La*ia -K/La *dtheta) #x1/dt\n",
    "    return dia, ddtheta, dtheta\n",
    "\n",
    "def motor_output(t, x, u, params={}): \n",
    "    return x[2],x[1]"
   ]
  },
  {
   "cell_type": "markdown",
   "id": "953ebe8d-84f1-4946-8aa6-b58c231bf227",
   "metadata": {},
   "source": [
    "Si bien este sistema es lineal, como lo definimos anteriormente, usamos la función `NonlinearIOSystem` en lugar de `LinearIOSystem`, podríamos agregarle alinealidades propias del motor como el juego mecánico o _Backlash_ en el caso de reducciones mecánicas, la fricción estática en los coginetes o rodamientos y la saturación en la variable de control por las limitaciones propias de la fuente o la etapa de potencia, por ejemplo, $u_{max} = 24V$ y $u_{min} = -24V$."
   ]
  },
  {
   "cell_type": "code",
   "execution_count": 4,
   "id": "f1e12054-39e3-4331-8b23-221e4612c178",
   "metadata": {},
   "outputs": [],
   "source": [
    "io_motor = ctrl.NonlinearIOSystem(motor_update ,motor_output,name='motor_dc',\n",
    "                                  inputs=('Ea','Tr'), outputs=('theta','dtheta'),\n",
    "                                 states=('ia','dtheta','theta'))"
   ]
  },
  {
   "cell_type": "markdown",
   "id": "636c95e7-53cb-47ae-a046-81d7d0cff5be",
   "metadata": {},
   "source": [
    "La función anterior genera un sistema con la correspondiente definición para las entradas, salidas y los estados internos, el siguiente diagrama sintetiza la representación del modelo.\n",
    "\n",
    "<img src=\"motor_block1.png\"  alt=\"isolated\"  title=\"Title\" style=\"width:400px;\">\n",
    "\n",
    "En este caso estamos ante un sistema _stiff_, esto es porque hay dos modos con dinamicas muy distintas, por un lado el modo que responde a la mecánica que es mucho mas lenta que la dinámica del modo eléctrico, por este motivo fue necesario definir el método de integración distinto al método por defecto (Radau)."
   ]
  },
  {
   "cell_type": "code",
   "execution_count": 5,
   "id": "8259bafe-bb32-4c6e-9f21-6f570c19bdb6",
   "metadata": {},
   "outputs": [],
   "source": [
    "T = np.linspace(0, .2, 501)\n",
    "U =np.array([np.ones(501),np.zeros(501)])\n",
    "\n",
    "t, y = ctrl.input_output_response(io_motor, T, U, [0,0,0],solve_ivp_method='Radau')"
   ]
  },
  {
   "cell_type": "code",
   "execution_count": 6,
   "id": "9bda7e14-6013-413c-81e5-15a3b89a18bb",
   "metadata": {},
   "outputs": [
    {
     "data": {
      "image/png": "[encoded data removed]",
      "text/plain": [
       "<Figure size 504x216 with 2 Axes>"
      ]
     },
     "metadata": {
      "needs_background": "light"
     },
     "output_type": "display_data"
    }
   ],
   "source": [
    "fig, axes = plt.subplots(1, 2, figsize=(7, 3))\n",
    "\n",
    "# (a) - \n",
    "ax = axes[0]\n",
    "ax.plot(t, y[0,:])\n",
    "ax.set_xlabel('Tiempo [s]')\n",
    "ax.set_ylabel(r'Posición angular $\\theta$ [rad]')\n",
    "ax.grid()\n",
    "\n",
    "# (b) - \n",
    "ax = axes[1]\n",
    "ax.plot(t, y[1,:])\n",
    "ax.set_xlabel('Tiempo [s]')\n",
    "ax.set_ylabel(r'Velocidad angular $\\omega$ [rad/s]')\n",
    "ax.grid()\n",
    "\n",
    "plt.suptitle('Posición y velocidad de un motor de cc')\n",
    "plt.tight_layout()"
   ]
  },
  {
   "cell_type": "markdown",
   "id": "b850d991-edbf-4261-9a7c-295a384fc8a8",
   "metadata": {},
   "source": [
    "<a id=\"id_motor3\"></a>\n",
    "## Modelo en Espacio de Estados"
   ]
  },
  {
   "cell_type": "markdown",
   "id": "bff0ab71-3600-4797-8d66-5b54314d1e86",
   "metadata": {},
   "source": [
    "El sistema se representa con tres variables de estado, una por la parte eléctrica, donde el elemento que acumula energía es la bobina y el orden de la ecuación es uno, y dos por la parte mecánica, donde los modos que acumlan energía y el orden de la ecuación, es dos, la inercia y el rozamiento. En este caso, el modelo se representa con dos entradas, la de control $e_a(t)$y la perturbación $\\tau_r(t)$(no controlada). Donde:\n",
    "\n",
    "$$\n",
    "\\begin{aligned}\n",
    " \\frac{di_a(t)}{dt} &= -\\frac{R_a}{L_a} i_a(t) - \\frac{K}{L_a} \\frac{d\\theta_m(t)}{dt}+\\frac{1}{L_a} e_a(t) \\\\\n",
    "\\frac{d^2\\theta_m(t)}{dt^2} &= \\frac{K}{J_m} i_a(t)  - \\frac{D_m}{J_m}\\frac{d\\theta_m(t)}{dt}- \\frac{1}{J_m}\\tau_r(t)\n",
    "\\end{aligned}\n",
    "$$"
   ]
  },
  {
   "cell_type": "markdown",
   "id": "df66ab5b-d598-4780-a667-30530467c2f9",
   "metadata": {},
   "source": [
    "Luego consideraremos las siguiente variables de estado:\n",
    "$$\n",
    "\\mathbf{x_1(t)}= i_a(t) \\rightarrow \\dot{\\mathbf{x_1}}(t)= \\frac{di_a(t)}{dt}\\newline\n",
    "\\mathbf{x_2(t)}= \\frac{d\\theta_m(t)}{dt} \\rightarrow \\dot{\\mathbf{x_2}}(t)= \\frac{d^2\\theta_m(t)}{dt^2}\\newline\n",
    "\\mathbf{x_3(t)}= \\theta_m(t) \\rightarrow \\dot{\\mathbf{x_3}}(t)= \\frac{d\\theta_m(t)}{dt}\\newline\n",
    "\\mathbf{u(t)}=e_a(t)\\newline\n",
    "\\mathbf{d(t)}=\\tau_r(t)\n",
    "$$"
   ]
  },
  {
   "cell_type": "markdown",
   "id": "9898735e-eac0-4f44-baa6-af5f1b48d9be",
   "metadata": {},
   "source": [
    "<div class=\"alert alert-block alert-info\">\n",
    "Por lo que, la representación en <b>variables de estado</b> se puede escribir:\n",
    "<br/>\n",
    "<br/>\n",
    "$$\n",
    "\\begin{split}\n",
    "\\left[{\\begin{array}{c}\\dot{\\mathbf{x_1}} \\\\ \\dot{\\mathbf{x_2}} \\\\ \\dot{\\mathbf{x_3}}\\end{array}}\\right] \n",
    "&=\n",
    "\\left[{\\begin{array}{c} -\\frac{R_a}{L_a}  &&  - \\frac{K}{L_a} && 0 \\\\ \\frac{K}{J_m} &&  - \\frac{D_m}{J_m} && 0 \\\\ 0 && 1 && 0 \\end{array}}\\right] \\left[{\\begin{array}{c}\\mathbf{x_1} \\\\ \\mathbf{x_2} \\\\ \\mathbf{x_3}\\end{array}}\\right] + \\left[{\\begin{array}{c}\\frac{1}{L_a} \\\\ 0 \\\\ 0\\end{array}}\\right][\\mathbf{u}]  + \\left[{\\begin{array}{c}0 \\\\ \\frac{1}{J_m} \\\\0 \\end{array}}\\right][\\mathbf{d}] \\newline\n",
    "y&=\\left[{\\begin{array}{c} 1 && 0 && 0\\\\0 && 1 && 0\\\\0 && 0 && 1\\end{array}}\\right]\\left[{\\begin{array}{c}\\mathbf{x_1} \\\\ \\mathbf{x_2} \\\\ \\mathbf{x_3}\\end{array}}\\right]\n",
    "\\end{split}\n",
    "$$\n",
    "    \n",
    "También se puede escribir:\n",
    "    \n",
    "$$\n",
    "\\begin{split}\n",
    "\\left[{\\begin{array}{c}\\dot{\\mathbf{x_1}} \\\\ \\dot{\\mathbf{x_2}} \\\\ \\dot{\\mathbf{x_3}}\\end{array}}\\right] \n",
    "&=\n",
    "\\left[{\\begin{array}{c} -\\frac{R_a}{L_a}  &&  - \\frac{K}{L_a} && 0 \\\\ \\frac{K}{J_m} &&  - \\frac{D_m}{J_m} && 0 \\\\ 0 && 1 && 0 \\end{array}}\\right] \\left[{\\begin{array}{c}\\mathbf{x_1} \\\\ \\mathbf{x_2} \\\\ \\mathbf{x_3}\\end{array}}\\right] + \\left[{\\begin{array}{c}\\frac{1}{L_a} && 0 \\\\ 0 && \\frac{1}{J_m} \\\\ 0 && 0 \\end{array}}\\right]\\left[{\\begin{array}{c}\\mathbf{u} && \\mathbf{d}\\end{array}}\\right]\\newline\n",
    "\\end{split}\n",
    "$$\n",
    "\n",
    "</div>"
   ]
  },
  {
   "cell_type": "markdown",
   "id": "4b3fe2c4-dae6-4fb9-ba6d-46507ef8cf2d",
   "metadata": {},
   "source": [
    "<a id=\"id_motor3_1\"></a>\n",
    "### Simulación de la dinámica del motor: SSmodel"
   ]
  },
  {
   "cell_type": "code",
   "execution_count": 7,
   "id": "8bf7707a-2218-4c02-ac70-4bcae8c097ca",
   "metadata": {},
   "outputs": [
    {
     "data": {
      "text/latex": [
       "\\[\n",
       "\\left(\\begin{array}{rllrllrll|rllrll}\n",
       "-1.&\\hspace{-1em}45&\\hspace{-1em}\\cdot10^{6}&-9.&\\hspace{-1em}96&\\hspace{-1em}\\cdot10^{3}&0\\phantom{.}&\\hspace{-1em}&\\hspace{-1em}\\phantom{\\cdot}&3.&\\hspace{-1em}64&\\hspace{-1em}\\cdot10^{5}&0\\phantom{.}&\\hspace{-1em}&\\hspace{-1em}\\phantom{\\cdot}\\\\\n",
       "8.&\\hspace{-1em}49&\\hspace{-1em}\\cdot10^{3}&-1.&\\hspace{-1em}09&\\hspace{-1em}\\phantom{\\cdot}&0\\phantom{.}&\\hspace{-1em}&\\hspace{-1em}\\phantom{\\cdot}&0\\phantom{.}&\\hspace{-1em}&\\hspace{-1em}\\phantom{\\cdot}&3.&\\hspace{-1em}1&\\hspace{-1em}\\cdot10^{5}\\\\\n",
       "0\\phantom{.}&\\hspace{-1em}&\\hspace{-1em}\\phantom{\\cdot}&1\\phantom{.}&\\hspace{-1em}&\\hspace{-1em}\\phantom{\\cdot}&0\\phantom{.}&\\hspace{-1em}&\\hspace{-1em}\\phantom{\\cdot}&0\\phantom{.}&\\hspace{-1em}&\\hspace{-1em}\\phantom{\\cdot}&0\\phantom{.}&\\hspace{-1em}&\\hspace{-1em}\\phantom{\\cdot}\\\\\n",
       "\\hline\n",
       "1\\phantom{.}&\\hspace{-1em}&\\hspace{-1em}\\phantom{\\cdot}&0\\phantom{.}&\\hspace{-1em}&\\hspace{-1em}\\phantom{\\cdot}&0\\phantom{.}&\\hspace{-1em}&\\hspace{-1em}\\phantom{\\cdot}&0\\phantom{.}&\\hspace{-1em}&\\hspace{-1em}\\phantom{\\cdot}&0\\phantom{.}&\\hspace{-1em}&\\hspace{-1em}\\phantom{\\cdot}\\\\\n",
       "0\\phantom{.}&\\hspace{-1em}&\\hspace{-1em}\\phantom{\\cdot}&1\\phantom{.}&\\hspace{-1em}&\\hspace{-1em}\\phantom{\\cdot}&0\\phantom{.}&\\hspace{-1em}&\\hspace{-1em}\\phantom{\\cdot}&0\\phantom{.}&\\hspace{-1em}&\\hspace{-1em}\\phantom{\\cdot}&0\\phantom{.}&\\hspace{-1em}&\\hspace{-1em}\\phantom{\\cdot}\\\\\n",
       "0\\phantom{.}&\\hspace{-1em}&\\hspace{-1em}\\phantom{\\cdot}&0\\phantom{.}&\\hspace{-1em}&\\hspace{-1em}\\phantom{\\cdot}&1\\phantom{.}&\\hspace{-1em}&\\hspace{-1em}\\phantom{\\cdot}&0\\phantom{.}&\\hspace{-1em}&\\hspace{-1em}\\phantom{\\cdot}&0\\phantom{.}&\\hspace{-1em}&\\hspace{-1em}\\phantom{\\cdot}\\\\\n",
       "\\end{array}\\right)\n",
       "\\]"
      ],
      "text/plain": [
       "StateSpace(array([[-1.45454545e+06, -9.96363636e+03,  0.00000000e+00],\n",
       "       [ 8.48717631e+03, -1.08651344e+00,  0.00000000e+00],\n",
       "       [ 0.00000000e+00,  1.00000000e+00,  0.00000000e+00]]), array([[363636.36363636,      0.        ],\n",
       "       [     0.        , 309750.96022798],\n",
       "       [     0.        ,      0.        ]]), array([[1., 0., 0.],\n",
       "       [0., 1., 0.],\n",
       "       [0., 0., 1.]]), array([[0., 0.],\n",
       "       [0., 0.],\n",
       "       [0., 0.]]))"
      ]
     },
     "execution_count": 7,
     "metadata": {},
     "output_type": "execute_result"
    }
   ],
   "source": [
    "A = [ [-Ra/La, -K/La ,  0],\n",
    "      [ K/Jm , -Dm/Jm,  0],\n",
    "      [  0   ,   1   ,  0] ];\n",
    "\n",
    "B = [ [1/La ,  0  ],\n",
    "      [0    , 1/Jm],\n",
    "      [0    ,  0  ] ];\n",
    "\n",
    "C = np.eye(3);\n",
    "\n",
    "D = np.zeros((3,2))\n",
    "\n",
    "motor_ss= ctrl.ss(A,B,C,D)\n",
    "motor_ss"
   ]
  },
  {
   "cell_type": "markdown",
   "id": "22f2e27f-db86-40b8-9dc8-38a386e70c7e",
   "metadata": {},
   "source": [
    "La representación del sistema se puede resumir en el siguiente diagrama en bloques:\n",
    "\n",
    "<img src=\"motor_block_ss.png\"  alt=\"isolated\"  title=\"Title\" style=\"width:400px;\">\n",
    "\n",
    "Hay muchas formas de hacer la siguiente simulación, usamos `forced_response`, porque es la más completa y complicada de usar, también se puede usar `step_response` que es una una función derivada de la anterior. En este caso usamos la matriz $C$ como la identidad para medir las tres variables de estado por separado, obserbar que en este caso $y$ es un vector columna con tres señales, como se puede ver en la gráfica siguiente."
   ]
  },
  {
   "cell_type": "code",
   "execution_count": 8,
   "id": "866a8f29-0c0b-455f-b28e-588da3d4a6bd",
   "metadata": {},
   "outputs": [
    {
     "data": {
      "image/png": "[encoded data removed]",
      "text/plain": [
       "<Figure size 864x216 with 3 Axes>"
      ]
     },
     "metadata": {
      "needs_background": "light"
     },
     "output_type": "display_data"
    }
   ],
   "source": [
    "t = np.arange(0,.2,0.005)\n",
    "u = np.ones(t.size)\n",
    "d = np.zeros(t.size)\n",
    "x0 = [0, 0, 0]\n",
    "\n",
    "t,yy,x = ctrl.forced_response(motor_ss,U=[u,d],T=t,X0=x0,return_x=True);\n",
    "\n",
    "fig, axes = plt.subplots(1, 3, figsize=(12, 3))\n",
    "\n",
    "# (a) - \n",
    "ax = axes[0]\n",
    "ax.plot(t, yy[0,:])\n",
    "ax.set_xlabel('Tiempo [s]')\n",
    "ax.set_ylabel(r'Corriente de armadura $i_a$ [A]')\n",
    "ax.grid()\n",
    "\n",
    "# (b) - \n",
    "ax = axes[1]\n",
    "ax.plot(t, yy[1,:])\n",
    "ax.set_xlabel('Tiempo [s]')\n",
    "ax.set_ylabel(r'Velocidad angular $\\omega$ [rad/s]')\n",
    "ax.grid()\n",
    "\n",
    "# (c) - \n",
    "ax = axes[2]\n",
    "ax.plot(t, yy[2,:])\n",
    "ax.set_xlabel('Tiempo [s]')\n",
    "ax.set_ylabel(r'Posición angular $\\theta$ [rad]')\n",
    "ax.grid()\n",
    "\n",
    "plt.suptitle('Corriente, velocidad y posición angular del motor de cc')\n",
    "plt.tight_layout()"
   ]
  },
  {
   "cell_type": "markdown",
   "id": "cf3ea80e-8cdc-4abb-bd44-19b013ec2d6f",
   "metadata": {},
   "source": [
    "<a id=\"id_motor4\"></a>\n",
    "## Función de transferencia"
   ]
  },
  {
   "cell_type": "markdown",
   "id": "c6224086-238a-4b44-9557-4216874beb21",
   "metadata": {},
   "source": [
    "Supongamos CI nulas, es decir $i_a(t=0)=0$ y $\\theta_m(t=0)=0$ entonces de las ecuaciones del motor obtenidas en ejemplos anteriores y aplicando la transformada de Laplace, tenemos:\n",
    "\n",
    "$$ \n",
    "\\left\\{\\begin{array}{c}\n",
    "s~I_a(s) = \\frac{1}{L_a} E_a(s) -\\frac{ R_a}{L_a} I_a(s) -  \\frac{K}{L_a} s~\\Theta_m(s)  \\\\\n",
    "s^2~\\Theta_m(s) =   \\frac{K}{J_m} I_a(s) - \\frac{D_m}{J_m}s~\\Theta_m(s) - \\frac{1}{J_m} T_r(s)\n",
    "\\end{array}\\right.\n",
    "$$"
   ]
  },
  {
   "cell_type": "markdown",
   "id": "e857dfa5",
   "metadata": {},
   "source": [
    "agrupando las variables y despejando de la segunda ecuación la corriente $I_a(s)$:\n",
    "\n",
    "$$ \n",
    "\\begin{aligned}\n",
    "s~I_a(s) = \\frac{1}{L_a} E_a(s) -\\frac{ R_a}{L_a} I_a(s) -  \\frac{K}{L_a} s~\\Theta_m(s)\n",
    "\\end{aligned}\n",
    "$$\n",
    "\n",
    "Luego reemplazando y operando sobre la primer ecuación, tenemos:\n",
    "<!---\n",
    "$$ \n",
    "\\begin{aligned}\n",
    " \\left(s+\\frac{ R_a}{L_a}\\right)\\left(\\frac{J_m}{K}\\left(s+ \\frac{D_m}{J_m}\\right)s~\\Theta_m(s) + \\frac{1}{K} T_r(s)\\right) +  \\frac{K}{L_a} s~\\Theta_m(s) = \\frac{1}{L_a} E_a(s) \n",
    "\\end{aligned}\n",
    "$$\n",
    "--->\n",
    "$$ \n",
    "\\begin{aligned}\n",
    " \\left(s+\\frac{R_a}{L_a}\\right)\\frac{J_m}{K}\\left(s+ \\frac{D_m}{J_m}\\right) + \\frac{K}{L_a}  s~\\Theta_m(s) = \\frac{1}{L_a} E_a(s) -\\left(s+\\frac{ R_a}{L_a}\\right)\\frac{1}{K} T_r(s)\n",
    "\\end{aligned}\n",
    "$$\n",
    "\n",
    "Luego podemos escribir la posición en función de la entrada de control $E_a(s)$ y de perturbación $\\tau_r(s)$\n",
    "\n",
    "$$ \n",
    "\\begin{aligned}\n",
    "   \\Theta_m(s) = \\frac{\\frac{1}{L_a} }{\\left[\\left(s+\\frac{R_a}{L_a}\\right)\\frac{J_m}{K}\\left(s+ \\frac{D_m}{J_m}\\right) + \\frac{K}{L_a}\\right]s~}E_a(s) -\\frac{\\left(s+\\frac{ R_a}{L_a}\\right)\\frac{1}{K}}{\\left[\\left(s+\\frac{R_a}{L_a}\\right)\\frac{J_m}{K}\\left(s+ \\frac{D_m}{J_m}\\right) + \\frac{K}{L_a}\\right]s~} T_r(s)\n",
    "\\end{aligned}\n",
    "$$\n",
    "\n",
    "Por propiedades de Laplace, la derivada de $\\Theta_m(s)$ se obtiene muliplicando por la variable $s$, es decir la velocidad angular es $\\Omega_m(s)=s\\Theta_m(s)$, entonces podemos escribir:\n",
    "\n",
    "$$ \n",
    "\\begin{aligned}\n",
    "   \\Omega_m(s) = \\frac{\\frac{1}{L_a} }{\\left(s+\\frac{R_a}{L_a}\\right)\\frac{J_m}{K}\\left(s+ \\frac{D_m}{J_m}\\right) + \\frac{K}{L_a}}E_a(s) -\\frac{\\left(s+\\frac{ R_a}{L_a}\\right)\\frac{1}{K}}{\\left(s+\\frac{R_a}{L_a}\\right)\\frac{J_m}{K}\\left(s+ \\frac{D_m}{J_m}\\right) + \\frac{K}{L_a}} T_r(s)\n",
    "\\end{aligned}\n",
    "$$"
   ]
  },
  {
   "cell_type": "markdown",
   "id": "09717054",
   "metadata": {},
   "source": [
    "Este sistema tiene dos entradas, la entrada que podemos controlar $E_a(s)$ y la entrada de perturbación $T_r(s)$, por ser un sistema LTI podemos hallar las FTs de la siguiente forma, primero considerando $T_r=0$, hallamos la FT desde la entrada $E_a$ a la salida $\\Theta_m$:\n",
    "\n",
    "$$ \n",
    "\\frac{\\Theta_m(s)} {E_a(s)}  = \\frac{\\frac{1}{L_a} }{\\left[\\left(s+\\frac{R_a}{L_a}\\right)\\frac{J_m}{K}\\left(s+ \\frac{D_m}{J_m}\\right) + \\frac{K}{L_a}\\right]s}  \n",
    "$$\n",
    "\n",
    "Por otro lado, la función de transferencia de $Ea(s)$ a $\\Omega_m(s)$, con $T_r(s)=0$, es:\n",
    "\n",
    "$$ \n",
    "\\frac{\\Omega_m(s)} {E_a(s)}  = \\frac{\\frac{1}{L_a}}{\\left(s+ \\frac{ R_a}{L_a}\\right)\\frac{J_m}{K}\\left(s+ \\frac{D_m}{J_m}\\right)+\\frac{K}{L_a}}  \n",
    "$$\n",
    "\n",
    "\n",
    "finalmente si consideramos que $E_a=0$, hallamos la FT desde la entrada de perturbación $T_r$ a la salida $\\Theta_m$:\n",
    "\n",
    "$$\n",
    "\\frac{\\Theta_m(s)} {T_r(s)}  =\\frac{-\\left(s+\\frac{ R_a}{L_a}\\right)\\frac{1}{K}}{\\left[\\left(s+\\frac{R_a}{L_a}\\right)\\frac{J_m}{K}\\left(s+ \\frac{D_m}{J_m}\\right) + \\frac{K}{L_a}\\right]s~}\n",
    "$$\n",
    "\n",
    "y la velocidad respecto a la perturbación, cuando la entrada de tensión es nula $E_a(s)=0$, queda:\n",
    "\n",
    "$$ \n",
    "\\begin{aligned}\n",
    "   \\frac{\\Omega_m(s)}{T_r(s)} = \\frac{-\\left(s+\\frac{ R_a}{L_a}\\right)\\frac{1}{K}}{\\left(s+\\frac{R_a}{L_a}\\right)\\frac{J_m}{K}\\left(s+ \\frac{D_m}{J_m}\\right) + \\frac{K}{L_a}} \n",
    "\\end{aligned}\n",
    "$$"
   ]
  },
  {
   "cell_type": "markdown",
   "id": "99705135",
   "metadata": {},
   "source": [
    "<a id=\"id_motor4_1\"></a>\n",
    "### Simulación de la dinámica del motor: TFmodel"
   ]
  },
  {
   "cell_type": "markdown",
   "id": "5863fa07-1c6b-43e9-af22-09aacf0fb749",
   "metadata": {},
   "source": [
    "Hay varias formas de representar una función de transferencia, dependiendo de la información con que contamos, en este caso elegí hacerlo de forma \"simbólica\" definiendo la variable $s$ como la FT básica y luego hacemos operaciones con $s$, pero esto no siempre da buenos resultados, puede tener problemas de cálculo."
   ]
  },
  {
   "cell_type": "code",
   "execution_count": 9,
   "id": "99387e0f-9ab7-4c8b-b1e9-792eb1e8ea47",
   "metadata": {},
   "outputs": [
    {
     "data": {
      "text/latex": [
       "$$\\frac{9964}{3.228 \\times 10^{-6} s^3 + 4.696 s^2 + 278.1 s}$$"
      ],
      "text/plain": [
       "TransferFunction(array([9963.63636364]), array([3.22840000e-06, 4.69585805e+00, 2.78105745e+02, 0.00000000e+00]))"
      ]
     },
     "execution_count": 9,
     "metadata": {},
     "output_type": "execute_result"
    }
   ],
   "source": [
    "s = ctrl.tf('s');\n",
    "E2theta = 1/La/((s+Ra/La)*Jm/K*(s**2+Dm/Jm*s)+K/La*s)\n",
    "E2theta"
   ]
  },
  {
   "cell_type": "code",
   "execution_count": 10,
   "id": "ffd6b2ed-6123-4968-9b35-e93aa9612f4b",
   "metadata": {},
   "outputs": [
    {
     "data": {
      "text/latex": [
       "$$\\frac{9964}{3.228 \\times 10^{-6} s^2 + 4.696 s + 278.1}$$"
      ],
      "text/plain": [
       "TransferFunction(array([9963.63636364]), array([3.22840000e-06, 4.69585805e+00, 2.78105745e+02]))"
      ]
     },
     "execution_count": 10,
     "metadata": {},
     "output_type": "execute_result"
    }
   ],
   "source": [
    "E2omega = 1/La/((s+Ra/La)*Jm/K*(s+Dm/Jm)+K/La)\n",
    "E2omega"
   ]
  },
  {
   "cell_type": "code",
   "execution_count": 11,
   "id": "d7b817cb-db42-47fd-bdf8-24fc91f96d05",
   "metadata": {},
   "outputs": [],
   "source": [
    "t,theta=ctrl.step_response(E2theta,T)\n",
    "t,omega=ctrl.step_response(E2omega,T)"
   ]
  },
  {
   "cell_type": "code",
   "execution_count": 12,
   "id": "98285e69-25b1-4841-9470-960b42601dbf",
   "metadata": {},
   "outputs": [
    {
     "data": {
      "image/png": "[encoded data removed]",
      "text/plain": [
       "<Figure size 504x216 with 2 Axes>"
      ]
     },
     "metadata": {
      "needs_background": "light"
     },
     "output_type": "display_data"
    }
   ],
   "source": [
    "fig, axes = plt.subplots(1, 2, figsize=(7, 3))\n",
    "\n",
    "# (a) - Posición TF y IOmodel\n",
    "ax = axes[0]\n",
    "ax.plot(t,theta)\n",
    "ax.plot(t, y[0,:],'r--')\n",
    "ax.set_xlabel('Tiempo [s]')\n",
    "ax.set_ylabel(r'Posición angular $\\theta$ [rad]')\n",
    "ax.legend(['FT','IOmodel'])\n",
    "ax.grid()\n",
    "\n",
    "# (b) - \n",
    "ax = axes[1]\n",
    "ax.plot(t,omega)\n",
    "ax.plot(t, y[1,:],'r--')\n",
    "ax.set_xlabel('Tiempo [s]')\n",
    "ax.set_ylabel(r'Velocidad angular $\\omega$ [rad/s]')\n",
    "ax.legend(['FT','IOmodel'])\n",
    "ax.grid()\n",
    "\n",
    "plt.suptitle('Posición y velocidad comparación de modelos FT y IOmodel')\n",
    "plt.tight_layout()"
   ]
  },
  {
   "cell_type": "code",
   "execution_count": 13,
   "id": "2c6a3f5e-a36d-48c1-b60d-4281d2269463",
   "metadata": {},
   "outputs": [
    {
     "data": {
      "text/latex": [
       "$$\\frac{-0.0274 s - 3.985 \\times 10^{4}}{8.846 \\times 10^{-8} s^2 + 0.1287 s + 7.62}$$"
      ],
      "text/plain": [
       "TransferFunction(array([-2.74000000e-02, -3.98545455e+04]), array([8.84581600e-08, 1.28666511e-01, 7.62009743e+00]))"
      ]
     },
     "execution_count": 13,
     "metadata": {},
     "output_type": "execute_result"
    }
   ],
   "source": [
    "Tr2omega = -(s/K+Ra/La/K)/((s+Ra/La)*Jm/K*(s+Dm/Jm)+K/La)\n",
    "Tr2omega"
   ]
  },
  {
   "cell_type": "code",
   "execution_count": 14,
   "id": "18b57ca1-9813-4674-9166-d5e60a65cd39",
   "metadata": {},
   "outputs": [
    {
     "data": {
      "text/plain": [
       "[<matplotlib.lines.Line2D at 0x7f3728205c00>]"
      ]
     },
     "execution_count": 14,
     "metadata": {},
     "output_type": "execute_result"
    },
    {
     "data": {
      "image/png": "[encoded data removed]",
      "text/plain": [
       "<Figure size 432x288 with 1 Axes>"
      ]
     },
     "metadata": {
      "needs_background": "light"
     },
     "output_type": "display_data"
    }
   ],
   "source": [
    "t,theta_d=ctrl.step_response(Tr2omega)\n",
    "\n",
    "plt.plot(t,theta_d)"
   ]
  },
  {
   "cell_type": "markdown",
   "id": "5c9a39ee-f764-4dcd-91e0-9a3fbf572681",
   "metadata": {
    "user_expressions": []
   },
   "source": [
    "<a id=\"id_motor5\"></a>\n",
    "## Citas y Referencias:"
   ]
  },
  {
   "cell_type": "markdown",
   "id": "193f7317-2caa-4107-b1f7-18d7c8f7a241",
   "metadata": {
    "user_expressions": []
   },
   "source": [
    "<div class=\"alert alert-block alert-info\">\n",
    "<b></b> Por ahora dejo las citas y referencia con este formato, si encuentro algo mejor lo cambio.\n",
    "</div>\n",
    "\n",
    "\n",
    "___\n",
    "<a id=\"cite1\"></a>\n",
    "**REF#1: Control Tutorials for Matlab & Simulink**.\n",
    "\n",
    "title = Introduction: State-Space Methods for Controller Design.   \n",
    "url = https://ctms.engin.umich.edu/CTMS/index.php?example=MotorPosition&section=SystemModeling    \n",
    "note = Accessed: 2022-11-29   \n",
    "\n",
    "___\n",
    "<a id=\"cite2\"></a>\n",
    "**REF#2: Apuntes de Control Clásico y Variables de Estado**   \n",
    "\n",
    "autor = Molina, Gonzalo  \n",
    "url = https://gonmolina.github.io/CCyVE_book/sources/notebooks_sources/modulo1/laplace/funcion_transferencia.html\n",
    "note = Accessed: 2022-11-29      \n",
    "\n",
    "___\n",
    "\n",
    "    \n",
    "<!--bibtex\n",
    "@misc{ctms,\n",
    "  title = {{Control Tutorials for Matlab & Simulink} Introduction: State-Space Methods for Controller Design},\n",
    "  howpublished = {\\url{https://ctms.engin.umich.edu/CTMS/index.php?example=Introduction&section=ControlStateSpace}},\n",
    "  note = {Accessed: 2022-04-18}\n",
    "  \n",
    "\n",
    "@misc{CCyVE,\n",
    "  title = {{Apuntes de Control Clásico y Variables de Estado} Linealización},\n",
    "  author = {Molina, Gonzalo},\n",
    "  howpublished = \\url{https://gonmolina.github.io/CCyVE_book/sources/notebooks_sources/modulo1/linealizacion/linealizacion.html}},\n",
    "  note = {Accessed: 2022-04-18}\n",
    "  \n",
    " -->"
   ]
  },
  {
   "cell_type": "markdown",
   "id": "00e82c21-4138-4c28-a14f-7348407f9dac",
   "metadata": {},
   "source": [
    "<a rel=\"license\" href=\"http://creativecommons.org/licenses/by/4.0/\"><img alt=\"Licencia Creative Commons\" style=\"border-width:0\" src=\"https://i.creativecommons.org/l/by/4.0/88x31.png\" /></a><br />Esta obra está bajo una <a rel=\"license\" href=\"http://creativecommons.org/licenses/by/4.0/\">Licencia Creative Commons Atribución 4.0 Internacional</a>."
   ]
  }
 ],
 "metadata": {
  "kernelspec": {
   "display_name": "Python 3 (ipykernel)",
   "language": "python",
   "name": "python3"
  },
  "language_info": {
   "codemirror_mode": {
    "name": "ipython",
    "version": 3
   },
   "file_extension": ".py",
   "mimetype": "text/x-python",
   "name": "python",
   "nbconvert_exporter": "python",
   "pygments_lexer": "ipython3",
   "version": "3.10.2"
  }
 },
 "nbformat": 4,
 "nbformat_minor": 5
}
