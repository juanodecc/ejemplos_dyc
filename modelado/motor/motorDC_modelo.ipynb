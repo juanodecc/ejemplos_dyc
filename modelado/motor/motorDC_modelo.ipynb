{
 "cells": [
  {
   "cell_type": "markdown",
   "id": "2de86151",
   "metadata": {},
   "source": [
    "# Modelado Motor de Corriente Continua e imán permanente\n",
    "\n",
    "#### Esquema de la idealización física del motor eléctrico\n",
    "\n",
    "```{figure} fig_circuito_motor.png\n",
    ":alt: diagrama del motor de continua\n",
    ":name: diagrama_motor\n",
    ":align: center\n",
    ":width: 450px\n",
    "\n",
    "Diagrama idealizado del motor de corriente continua\n",
    "```"
   ]
  },
  {
   "cell_type": "markdown",
   "id": "d90ff625",
   "metadata": {},
   "source": [
    "#### Diagrama del sistema desde el punto de vista de entradas y salidas\n",
    "\n",
    "```{figure} esquema_motor.png\n",
    ":name: motor_es\n",
    ":width: 450px\n",
    ":align: center\n",
    ":alt: Esquema Rotacional\n",
    "\n",
    "Esquema entrada/salida del motor de corriente continua\n",
    "```"
   ]
  },
  {
   "cell_type": "markdown",
   "id": "122e8498",
   "metadata": {},
   "source": [
    "\n",
    "### Descripción del motor y su funcionamiento\n",
    "\n",
    "A continuación se deja un video describiendo las partes de un motor y la forma de funcionamiento.\n",
    "\n",
    "[![motor: descripción](motor_parte0.png)](https://youtu.be/ztMgB1UofxU \"Motor eléctrico: descripción\")"
   ]
  },
  {
   "cell_type": "markdown",
   "id": "d7198735",
   "metadata": {},
   "source": [
    "#### Modelado del motor\n",
    "\n",
    "Los modelos matemáticos proveen de una predicción de como el sistema se va a comportar o evolucionar. En general los modelos matemáticos **NO son exactos**. Sin embargo, serán útiles para el diseño de los sistemas de control, debido a que este deberá proveer de la robustez requerida mediante el uso de la realimentación.\n",
    "\n",
    "Algunas  simplificaciones que consideraremos para este modelo son:\n",
    "\n",
    "1. La resistencia, inductancia, masa (o momento de inercia) y \"viscosidad\" son constantes. Es decir, no contemplaremos cambios de ningún tipo, como por ejemplo el efecto de la temperatura.\n",
    "1. El rozamiento viscoso es lineal. Es decir, la viscosidad es es proporcional a la velocidad ($\\tau_d=D_m*\\omega$)."
   ]
  },
  {
   "cell_type": "markdown",
   "id": "c98f726c",
   "metadata": {},
   "source": [
    "#### Desarrollo de las ecuaciones\n",
    "\n",
    "El circuito eléctrico se relaciona con el mecánico, y viceversa, por medio de la siguientes ecuaciones:\n",
    "\n",
    "$$\n",
    "\\begin{aligned}\n",
    "V_b(t) &= K_b \\frac{d\\theta_m(t)}{dt} &\\text{(fuerza contraelectromotriz)}\\\\\n",
    " \\tau_m(t) &= K_t i_a(t) &\\text{(torque del motor)}\n",
    "\\end{aligned}\n",
    "$$\n",
    "\n",
    "para las mismas unidades $K_t = K_b$\n",
    "\n",
    "$$\n",
    "\\begin{aligned}\n",
    "R_a i_a(t) + L_a \\frac{di_a(t)}{dt} + V_b(t) &= e_a(t) & \\text{(Ec. de la malla eléctrica de la armadura)}\\\\\n",
    "\\tau_m(t) - \\tau_r(t) - D_m\\frac{d\\theta_m(t)}{dt} &= J_m \\frac{d^2\\theta_m(t)}{dt^2} & \\text{(Ecs. mecánica)}\n",
    "\\end{aligned}\n",
    "$$"
   ]
  },
  {
   "cell_type": "markdown",
   "id": "c00a4d1d",
   "metadata": {},
   "source": [
    "Reemplazando obtenemos el sistema de ecuaciones de parámetros concentrados (no depende de la ubicación espacial de los componentes del sistema), lineal (cumple con superposición) e invariante en el tiempo (su comportamiento no cambia con el tiempo). Como el sistema es lineal e invariante en el tiempo se dice que el sistema es LTI (linear time invariant).\n",
    "\n",
    "$$\n",
    "\\begin{aligned}\n",
    "R_a i_a(t) + L_a \\frac{di_a(t)}{dt} + K_b \\frac{d\\theta_m(t)}{dt} &= e_a(t) \\\\\n",
    "K_t i_a(t) - \\tau_r(t) - D_m\\frac{d\\theta_m(t)}{dt} &= J_m \\frac{d^2\\theta_m(t)}{dt^2}\n",
    "\\end{aligned}\n",
    "$$"
   ]
  },
  {
   "cell_type": "markdown",
   "id": "81ffc8ad",
   "metadata": {},
   "source": [
    "## Funcion de transferencia: motor eléctrico DC de imán permanente\n",
    "\n",
    "### Hallamos la TF usando la transformada de laplace\n",
    "\n",
    "Supongamos CI nulas, es decir $i_a(t=0)=0$ y $(\\theta_m(t=0)=0)$ entonces de las ecuaciones del motor obtenidas en ejemplos anteriores y aplicando la transformada de Laplace, tenemos:\n",
    "\n",
    "$$ \n",
    "\\left\\{\\begin{array}{c}\n",
    "s~I_a(s) = \\frac{1}{L_a} E_a(s) -\\frac{ R_a}{L_a} I_a(s) -  \\frac{K_b}{L_a} s~\\Theta_m(s)  \\\\\n",
    "s^2~\\Theta_m(s) =   \\frac{K_t}{J_m} I_a(s) - \\frac{D_m}{J_m}s~\\Theta_m(s) - \\frac{1}{J_m} T_r(s)\n",
    "\\end{array}\\right.\n",
    "$$"
   ]
  },
  {
   "cell_type": "markdown",
   "id": "e857dfa5",
   "metadata": {},
   "source": [
    "agrupando las variables y despejando de la segunda ecuación la corriente $I_a(s)$:\n",
    "\n",
    "$$ \n",
    "\\begin{aligned}\n",
    "\\left(s+ \\frac{ R_a}{L_a}\\right)I_a(s) &= \\frac{1}{L_a} E_a(s) - \\frac{K_b}{L_a} s~\\Theta_m(s)  \\\\\n",
    " I_a(s) &= \\frac{J_m}{K_t}\\left(s^2+ \\frac{D_m}{J_m}s\\right)~\\Theta_m(s) + \\frac{1}{K_t} T_r(s)\n",
    "\\end{aligned}\n",
    "$$"
   ]
  },
  {
   "cell_type": "markdown",
   "id": "01c43c4c",
   "metadata": {},
   "source": [
    "Este sistema tiene 2 entradas, la entrada que podemos controlar $E_a(s)$ y la entrada de perturbación $T_r(s)$, por ser un sistema LTI podemos hallar las FTs de la siguiente forma:\n",
    "\n",
    "$$ \n",
    "\\left(s+ \\frac{ R_a}{L_a}\\right)\\frac{J_m}{K_t}\\left(s^2+ \\frac{D_m}{J_m}s\\right)\\Theta_m(s) + \\left(s+ \\frac{ R_a}{L_a}\\right)\\frac{1}{K_t} T_r(s) = \\frac{1}{L_a} E_a(s) - \\frac{K_b}{L_a} s\\Theta_m(s) \n",
    "$$\n",
    "\n",
    "luego,\n",
    "\n",
    "$$ \n",
    "\\left(\\left(s+ \\frac{ R_a}{L_a}\\right)~\\frac{J_m}{K_t}\\left(s^2+ \\frac{D_m}{J_m}s\\right)+\\frac{K_b}{L_a} s\\right)\\Theta_m(s)  = \\frac{1}{L_a} E_a(s) - \\left(s+ \\frac{ R_a}{L_a}\\right)\\frac{1}{K_t} T_r(s)\n",
    "$$"
   ]
  },
  {
   "cell_type": "markdown",
   "id": "09717054",
   "metadata": {},
   "source": [
    "luego considerando $T_r=0$, hallamos la FT desde la entrada $E_a$ a la salida $\\Theta_m$:\n",
    "\n",
    "$$ \n",
    "\\frac{\\Theta_m(s)} {E_a(s)}  = \\frac{\\frac{1}{L_a}}{\\left(s+ \\frac{ R_a}{L_a}\\right)\\frac{J_m}{K_t}\\left(s^2+ \\frac{D_m}{J_m}s\\right)+\\frac{K_b}{L_a} s}  \n",
    "$$\n",
    "\n",
    "finalmente si consideramos que $E_a=0$, hallamos la FT desde la entrada de perturbación $T_r$ a la salida $\\Theta_m$:\n",
    "\n",
    "$$\n",
    "\\frac{\\Theta_m(s)} {T_r(s)}  =- \\frac{\\left(s+ \\frac{ R_a}{L_a}\\right)\\frac{1}{K_t} }{\\left(s+ \\frac{ R_a}{L_a}\\right)\\frac{J_m}{K_t}\\left(s^2+ \\frac{D_m}{J_m}s\\right)+\\frac{K_b}{L_a} s}\n",
    "$$"
   ]
  },
  {
   "cell_type": "markdown",
   "id": "99705135",
   "metadata": {},
   "source": [
    "## Simulación de la dinámica del motor"
   ]
  },
  {
   "cell_type": "code",
   "execution_count": 2,
   "id": "95d8da07",
   "metadata": {},
   "outputs": [],
   "source": [
    "import control as ctrl\n",
    "import matplotlib.pyplot as plt\n",
    "import numpy as np"
   ]
  },
  {
   "cell_type": "code",
   "execution_count": 6,
   "id": "948d7783",
   "metadata": {},
   "outputs": [
    {
     "data": {
      "text/latex": [
       "$$\\frac{9964}{3.228 \\times 10^{-6} s^3 + 4.696 s^2 + 278.1 s}$$"
      ],
      "text/plain": [
       "TransferFunction(array([9963.63636364]), array([3.22840000e-06, 4.69585805e+00, 2.78105745e+02, 0.00000000e+00]))"
      ]
     },
     "execution_count": 6,
     "metadata": {},
     "output_type": "execute_result"
    }
   ],
   "source": [
    "Jm = 3.2284E-6;\n",
    "Dm = 3.5077E-6;\n",
    "K = 0.0274;\n",
    "Ra = 4;\n",
    "La = 2.75E-6;\n",
    "\n",
    "s = ctrl.tf('s');\n",
    "P_E2theta = 1/La/((s+Ra/La)*Jm/K*(s**2+Dm/Jm*s)+K/La*s)\n",
    "P_E2theta"
   ]
  },
  {
   "cell_type": "code",
   "execution_count": 10,
   "id": "0d1758b9",
   "metadata": {},
   "outputs": [
    {
     "data": {
      "image/png": "[encoded data removed]",
      "text/plain": [
       "<Figure size 432x288 with 1 Axes>"
      ]
     },
     "metadata": {
      "needs_background": "light"
     },
     "output_type": "display_data"
    }
   ],
   "source": [
    "T = np.linspace(0,0.2,1000)\n",
    "t,theta=ctrl.step_response(P_E2theta,T=T)\n",
    "plt.figure()\n",
    "plt.plot(t,theta)\n",
    "plt.grid()"
   ]
  },
  {
   "cell_type": "code",
   "execution_count": null,
   "id": "14e0f617",
   "metadata": {},
   "outputs": [],
   "source": []
  }
 ],
 "metadata": {
  "kernelspec": {
   "display_name": "Python 3 (ipykernel)",
   "language": "python",
   "name": "python3"
  },
  "language_info": {
   "codemirror_mode": {
    "name": "ipython",
    "version": 3
   },
   "file_extension": ".py",
   "mimetype": "text/x-python",
   "name": "python",
   "nbconvert_exporter": "python",
   "pygments_lexer": "ipython3",
   "version": "3.10.2"
  }
 },
 "nbformat": 4,
 "nbformat_minor": 5
}
