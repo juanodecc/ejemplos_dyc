{
 "cells": [
  {
   "cell_type": "code",
   "execution_count": 9,
   "id": "13d5b736-b657-46a0-ad3c-563eb3b85c59",
   "metadata": {
    "tags": []
   },
   "outputs": [],
   "source": [
    "from ipywidgets.widgets import Label, FloatProgress, FloatSlider, Button\n",
    "from ipywidgets.widgets import Layout, HBox, VBox\n",
    "from IPython.display import display\n",
    "import numpy as np\n",
    "import bqplot as bq\n",
    "import time\n",
    "import threading\n",
    "from scipy.integrate import odeint\n",
    "import matplotlib.pyplot as plt"
   ]
  },
  {
   "cell_type": "code",
   "execution_count": 18,
   "id": "b946d834-9a0b-4900-8a81-a0c635f7899a",
   "metadata": {
    "tags": []
   },
   "outputs": [],
   "source": [
    "flag = True\n",
    "t = np.linspace(0,2*np.pi,500)\n",
    "dt = t[1]-t[0]\n",
    "y = np.zeros(len(t))"
   ]
  },
  {
   "cell_type": "code",
   "execution_count": 15,
   "id": "e069c1f1-b1c7-47e2-a874-2db5239eaab2",
   "metadata": {
    "tags": []
   },
   "outputs": [],
   "source": [
    "b_stop = Button(\n",
    "    description = 'Stop',\n",
    "    icon = 'stop',\n",
    "    button_style = 'warning',\n",
    "    layout =  Layout(width='100px')\n",
    ")\n",
    "\n",
    "def stop_click(b):\n",
    "    global flag\n",
    "    flag = False\n",
    "    \n",
    "b_stop.on_click(stop_click)\n",
    "\n",
    "w1 = FloatProgress(\n",
    "    value = y[-1],\n",
    "    min=0,\n",
    "    max=2,\n",
    "    description = 'PV:',\n",
    "    style ={'description_width':'initial'},\n",
    "    layout=Layout(width='365px'),\n",
    "    orientation='vertical'\n",
    ")\n",
    "\n",
    "w2 = Label(\n",
    "    value=str(np.round(y[-1],2)),\n",
    "    layout=Layout(margin='0 10px 31px')\n",
    ")\n",
    "\n",
    "w12 = HBox(\n",
    "    children=(w1,w2),\n",
    "    layout = Layout(margin='0 0 0 43px')\n",
    ")\n",
    "\n",
    "wA = FloatSlider(\n",
    "    value=0,\n",
    "    min=0,\n",
    "    max= 100,\n",
    "    step =1,\n",
    "    description='Valve Out:',\n",
    "    layout=Layout(width='490px',margin='0 0 5px 0')\n",
    ")\n",
    "\n",
    "    "
   ]
  },
  {
   "cell_type": "code",
   "execution_count": 26,
   "id": "1de835af-7c71-42c9-8b03-cd9290cbf21b",
   "metadata": {
    "tags": []
   },
   "outputs": [],
   "source": [
    "x_sc = bq.LinearScale()\n",
    "y_sc = bq.LinearScale()\n",
    "\n",
    "x_ax = bq.Axis(\n",
    "    label='time [min]',\n",
    "    scale=x_sc\n",
    ")\n",
    "\n",
    "y_ax = bq.Axis(\n",
    "    label='Level [m]',\n",
    "    scale=y_sc,\n",
    "    orientation= 'vertical'\n",
    ")\n",
    "\n",
    "Line = bq.Lines(\n",
    "    x=x,\n",
    "    y=y,\n",
    "    scales={'x':x_sc,'y':y_sc}\n",
    ")\n",
    "\n",
    "fig = bq.Figure(\n",
    "    layout=Layout(width='500px',height='300px'),\n",
    "    axes=[x_ax,y_ax],\n",
    "    marks= [Line],\n",
    "    fig_margin = dict(top=10,bottom=40,left=50, right=10)\n",
    ")"
   ]
  },
  {
   "cell_type": "code",
   "execution_count": 27,
   "id": "40c059d5-c574-4976-9062-0deacbc1098a",
   "metadata": {
    "tags": []
   },
   "outputs": [
    {
     "data": {
      "application/vnd.jupyter.widget-view+json": {
       "model_id": "81c419de4d41487092d8d2feb5e6aae8",
       "version_major": 2,
       "version_minor": 0
      },
      "text/plain": [
       "VBox(children=(Button(button_style='warning', description='Stop', icon='stop', layout=Layout(width='100px'), s…"
      ]
     },
     "execution_count": 27,
     "metadata": {},
     "output_type": "execute_result"
    }
   ],
   "source": [
    "box= VBox(\n",
    "0    children=(fig,w12,wA),\n",
    "    layout=Layout(border='solid 2px gray',width='510px')\n",
    ")\n",
    "\n",
    "app =VBox(\n",
    "    children=(b_stop,box)\n",
    ")\n",
    "app"
   ]
  },
  {
   "cell_type": "code",
   "execution_count": 6,
   "id": "4043ee5c-345c-4be5-b5da-cb9b519c2d6b",
   "metadata": {
    "tags": []
   },
   "outputs": [],
   "source": [
    "def work():\n",
    "    global x\n",
    "    global y\n",
    "    \n",
    "    while flag:\n",
    "        A = wA.value\n",
    "        \n",
    "        x = np.delete(x, 0)\n",
    "        y = np.delete(y, 0)\n",
    "        \n",
    "        x = np.append(x,x[-1]+dx)\n",
    "        noise = A*np.random.rand()\n",
    "        y = np.append(y,1+np.sin(x[-1])+noise)\n",
    "         \n",
    "        w1.value = y[-1]\n",
    "        w2.value = str(np.round(y[-1],2))\n",
    "        \n",
    "        Line.x = x\n",
    "        Line.y = y\n",
    "        time.sleep(0.05)        "
   ]
  },
  {
   "cell_type": "code",
   "execution_count": 7,
   "id": "f6253ea1-1c12-4f78-bc00-490e44430e53",
   "metadata": {
    "tags": []
   },
   "outputs": [
    {
     "data": {
      "application/vnd.jupyter.widget-view+json": {
       "model_id": "140ac8fd864347909154bd7edee0b2d1",
       "version_major": 2,
       "version_minor": 0
      },
      "text/plain": [
       "VBox(children=(Button(button_style='warning', description='Stop', icon='stop', layout=Layout(width='100px'), s…"
      ]
     },
     "metadata": {},
     "output_type": "display_data"
    }
   ],
   "source": [
    "flag = True\n",
    "\n",
    "thread = threading.Thread(target=work)\n",
    "\n",
    "display(app)\n",
    "\n",
    "thread.start()\n"
   ]
  },
  {
   "cell_type": "code",
   "execution_count": null,
   "id": "c1b566d7-ee23-44d4-91a0-963f7e26efa4",
   "metadata": {},
   "outputs": [],
   "source": []
  }
 ],
 "metadata": {
  "kernelspec": {
   "display_name": "Python 3 (ipykernel)",
   "language": "python",
   "name": "python3"
  },
  "language_info": {
   "codemirror_mode": {
    "name": "ipython",
    "version": 3
   },
   "file_extension": ".py",
   "mimetype": "text/x-python",
   "name": "python",
   "nbconvert_exporter": "python",
   "pygments_lexer": "ipython3",
   "version": "3.11.0"
  }
 },
 "nbformat": 4,
 "nbformat_minor": 5
}
