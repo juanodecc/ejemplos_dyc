{
 "cells": [
  {
   "cell_type": "markdown",
   "id": "7bb08373",
   "metadata": {
    "user_expressions": []
   },
   "source": [
    "# Tanque simple: Modelado del sistema\n",
    "\n",
    "En el siguiente Notebook de Python, mostraremos modelar un sistema basado en principios físicos y linealizarlo por diferentes métodos de linealización.\n",
    "\n",
    "principales comando de Python usados: de la biblioteca **pyhton-control:** ss , tf\n",
    "\n",
    "<div class=\"alert alert-block alert-warning\">\n",
    "<b>Warning: </b> El siguiente notebook fue ejecutado con las versiones de la librería de python-control:  0.9.1:\n",
    "</div> \n",
    "\n",
    "- [Modelo físico no lineal](#id_tk1)\n",
    "    - [Parámetros del sistema](#id_tk1_1)\n",
    "    - [Ecuaciones del sistema](#id_tk1_2)\n",
    "    - [Punto de equilibrio y Condición Inicial](#id_tk1_3)\n",
    "    - [Simulación del modelo no lineal usando python-control](#id_tk1_4)\n",
    "- [Modelo linealizado por Taylor](#id_tk3)\n",
    "- [Modelo en espacio de estados](#id_tk4)\n",
    "- [Modelo en función de transferencia ](#id_tk5)\n",
    "- [Citas y Referencias](#id_tk6)\n"
   ]
  },
  {
   "cell_type": "markdown",
   "id": "50513b17",
   "metadata": {
    "user_expressions": []
   },
   "source": [
    "<a id=\"id_tk1\"></a>\n",
    "## Modelo físico no lineal"
   ]
  },
  {
   "cell_type": "markdown",
   "id": "05f4b929-870b-4c5a-b249-ce419f7d5edf",
   "metadata": {
    "user_expressions": []
   },
   "source": [
    "\n",
    "Consideremos el siguiente sistemas, un tanque de área uniforme con una entrada y una salida, como muestra las siguiente figura:\n",
    "\n",
    "<img src=\"fig1_tank_model.png\">\n",
    "\n",
    "<a id=\"id_tk1_1\"></a>\n",
    "### Parámetros del sistema:\n",
    "- $A = 1 [m^2]$ área transversal del tanque\n",
    "- $g = 9.81 [m^2/s]$ constante gravitacional\n",
    "- $k = 0.1$ constante de salida del tanque\n",
    "- $h $ altura o nivel del tanque en $m$\n",
    "- $Q_i $ el caudal de entrada\n",
    "- $Q_o $ el caudal de salida\n",
    "\n",
    "Como hipótesis de modelado, consideraremos que el fluido en el tanque es agua, el área del tanque uniforme ($A$ es el mismo para todo valor de $h$), el área de salida del tanque es mucho menor que el área transversal del tanque (es lo habitual), el caudal de entrada $Q_i$ es proporcional a la apertura de válvula.\n"
   ]
  },
  {
   "cell_type": "markdown",
   "id": "6503615b-3eb6-4d22-af5e-e4e945939d8e",
   "metadata": {
    "user_expressions": []
   },
   "source": [
    "<a id=\"id_tk1_2\"></a>\n",
    "### Ecuaciones del sistema"
   ]
  },
  {
   "cell_type": "markdown",
   "id": "1adfe218-1797-49b4-aab2-820ba11ab5d9",
   "metadata": {
    "user_expressions": []
   },
   "source": [
    "Considerando las hipótesis del punto anterior simplificamos la contante de salida que llamaremos $k$, esta constante incluye, entre otras cosas, a $g$ y las áreas del tanque y de salida, $A$ y $A_2$.\n",
    "\n",
    "<div class=\"alert alert-block alert-info\">\n",
    "<b>Ecuaciones del sistema no lineales:<b/>\n",
    "<br/>\n",
    "<br/>    \n",
    "$$\n",
    "\\begin{split}\n",
    "\\frac{dh(t)}{dt} &= \\frac{1}{A}(Q_i(t) - Q_o(t)) \\newline\n",
    "Q_o(t) &= k\\sqrt{h(t)}\n",
    "\\end{split}\n",
    "$$\n",
    "</div>\n"
   ]
  },
  {
   "cell_type": "markdown",
   "id": "a8fd820f-1830-4922-9bff-ee809eab079f",
   "metadata": {
    "user_expressions": []
   },
   "source": [
    "<a id=\"id_tk1_3\"></a>\n",
    "### Punto de equilibrio y Condición Inicial\n",
    "Para el punto de equilibrio cuando no hay variaciones del nivel, es decir el caudal de entrada y salida es el mismo:\n",
    "\n",
    "$$\\frac{\\delta h(t)}{dt}=0 \\Rightarrow  Q_i = Q_o$$ \n",
    "\n",
    "para el instante de tiempo $t=0$ definimos:\n",
    "\n",
    "$$h(0)=h_0, \\quad Q_i(0) = Q_{i0}\\quad y \\quad Q_o(0)= Q_{o0}$$\n",
    "\n",
    "por lo cual:\n",
    "\n",
    "$$Q_{o0} = k\\sqrt{h_0}= Q_{i0} $$ \n",
    "\n",
    "finalmente la condición inicial queda definida por el valor de $h_0$, es decir el nivel inicial, luego podemos calcular el cacudal de salida y por consecuencia el de entrada que debe ser igual al caudal de salida. Esa es la condición inicial del sistema.\n",
    "\n",
    "<div class=\"alert alert-block alert-success\">\n",
    "<b>Nota:</b> Es importante usar la condición inicial al simular por primera vez un sistema, con la finalidad de verificar que el modelo no tiene errores evidentes.\n",
    "</div>"
   ]
  },
  {
   "cell_type": "markdown",
   "id": "8d9ec0b4-6e3b-44d2-b28a-bc8d5255c363",
   "metadata": {
    "user_expressions": []
   },
   "source": [
    "Los detalles del modelo dinámico los pueden ver en el siguiente video\n",
    "\n",
    "[![tanque: descripción](fig2_video_part1.png)](https://www.youtube.com/watch?v=7G2o8KGon9A \"Tanque: modelo y linealización\")"
   ]
  },
  {
   "cell_type": "markdown",
   "id": "0135a235-dc4f-4591-8713-43fc977bdaf6",
   "metadata": {
    "user_expressions": []
   },
   "source": [
    "<a id=\"id_tk1_4\"></a>\n",
    "### Simulación del modelo no lineal usando python-control"
   ]
  },
  {
   "cell_type": "markdown",
   "id": "4d1c138c-af8c-437f-8a08-f72b95ba5a34",
   "metadata": {
    "user_expressions": []
   },
   "source": [
    "Hay muchas formas en Python para simular un modelo de un sistema no lineal, en este caso usamos un nuevo _Feature_ de la biblioteca de python-control que se encuentra a partir de la versión 0.9.1.\n",
    "\n",
    "Como parte de las hipótesis del modelado y para evitar errores de cálculo, se limitó el nivel solo a valores positivos, es decir $h>=0$"
   ]
  },
  {
   "cell_type": "code",
   "execution_count": 1,
   "id": "daceae49",
   "metadata": {},
   "outputs": [
    {
     "name": "stdout",
     "output_type": "stream",
     "text": [
      "version de biblioteca de control:  0.9.1\n"
     ]
    }
   ],
   "source": [
    "import control as ctrl #biblioteca de control\n",
    "import matplotlib.pyplot as plt #biblioteca para realizar graficos 2D\n",
    "import numpy as np #biblioteca \n",
    "\n",
    "#es necesario versión 0.9.1 de la biblioteca de control\n",
    "print('version de biblioteca de control: ', ctrl.__version__)"
   ]
  },
  {
   "cell_type": "code",
   "execution_count": 2,
   "id": "d18f0551",
   "metadata": {},
   "outputs": [],
   "source": [
    "def derivs_fun(t, x, u, params):\n",
    "    # Parametros, tienen valores por defecto\n",
    "    k=params.get('k', 0.1)\n",
    "    A=params.get('A', 1)\n",
    "    h_min = params.get('h_min',0)  # h mínimo no puede ser negativo, por defecto h debe ser mayor a 0\n",
    "    h_max = params.get('h_max',10) # h máximo debe ser mayor a h_max...por defecto a 10m \n",
    "    \n",
    "    # variables de estado\n",
    "    h = x[0]\n",
    "    \n",
    "    # Cálculo de la acción de control\n",
    "    Qi = u if u > 0 else 0 # solo caudales positivos\n",
    "    \n",
    "    #calculo de la derivada de h... dh/dt\n",
    "    h_sat = max(h_min, min(h, h_max))\n",
    "    dh = (Qi - k*np.sqrt(h_sat))/A\n",
    "    return [dh]\n",
    "\n",
    "io_tank = ctrl.NonlinearIOSystem(\n",
    "    derivs_fun, None, inputs=('u'), outputs=('h'),\n",
    "    states=('h'), name='tank')\n"
   ]
  },
  {
   "cell_type": "markdown",
   "id": "596525ee-7c56-4874-82df-ae50ce867cec",
   "metadata": {
    "user_expressions": []
   },
   "source": [
    "Con el **modelo no lineal** definido **io_tank**, podemos explorar la dinámica del sistema por simulación. \n",
    "Partiendo de un nivel inicial $h_0=3m$, por ejemplo, y con el caudal de entrada, $Q_i$, como el caudal de equilibrio $Q_i=Q_{o0} = k*\\sqrt{h_0}$, luego deberíamos ver que el nivel del tanque se mantiene constante...veamos el resultado en la simulación"
   ]
  },
  {
   "cell_type": "code",
   "execution_count": 3,
   "id": "dd54164f",
   "metadata": {},
   "outputs": [
    {
     "name": "stdout",
     "output_type": "stream",
     "text": [
      "Caudal de equilibrio Qi0=  0.17320508075688773\n"
     ]
    },
    {
     "data": {
      "image/png": "[encoded data removed]",
      "text/plain": [
       "<Figure size 432x288 with 1 Axes>"
      ]
     },
     "metadata": {
      "needs_background": "light"
     },
     "output_type": "display_data"
    }
   ],
   "source": [
    "T = np.linspace(0, 300, 800)   # tiempo de simulacion\n",
    "#parámetros del tanque\n",
    "k=0.1\n",
    "A_tank = 1 #defino el parámetro área del tanque, A como A_tanque, porque A es la matriz de estados\n",
    "\n",
    "#condición inicial\n",
    "h0 = 3                 # Altura inicial h0\n",
    "Qi0 = k*np.sqrt(h0) #cálculo del caudal de equilibrio\n",
    "print('Caudal de equilibrio Qi0= ',Qi0)\n",
    "\n",
    "# Simulate the system\n",
    "t, y = ctrl.input_output_response(io_tank, T, Qi0, h0)\n",
    "\n",
    "# Plot the response\n",
    "plt.figure(1)\n",
    "plt.plot(t, y)\n",
    "plt.legend(['Altura'])\n",
    "plt.grid()\n",
    "plt.show(block=False)\n"
   ]
  },
  {
   "cell_type": "markdown",
   "id": "f6cfbf6b-88a3-4c80-8eb0-79a5313f67fc",
   "metadata": {
    "user_expressions": []
   },
   "source": [
    "Ahora, a partir de la condición de equilibrio para el nivel definida en $h_0=3m$, analizamos la dinámica del sistema viendo la respuesta ante variaciones en el caudal de entrada, para lo que aumentamos y disminuimos el caudal de entrada un 10%, para ver que efecto tiene esto sobre el nivel."
   ]
  },
  {
   "cell_type": "code",
   "execution_count": 4,
   "id": "e9cc2a92",
   "metadata": {},
   "outputs": [
    {
     "data": {
      "image/png": "[encoded data removed]",
      "text/plain": [
       "<Figure size 432x288 with 1 Axes>"
      ]
     },
     "metadata": {
      "needs_background": "light"
     },
     "output_type": "display_data"
    }
   ],
   "source": [
    "# Simulación no lineal con variaciones en el cuadal\n",
    "t_nolin, y_nolin = ctrl.input_output_response(io_tank, T, Qi0, h0)\n",
    "#aumentamos un 10% el caudal de entrada\n",
    "t_nolin1, y_nolin1 = ctrl.input_output_response(io_tank, T, Qi0*1.1, h0) \n",
    "#disminuimos un 10% el caudal de entrada\n",
    "t_nolin2, y_nolin2 = ctrl.input_output_response(io_tank, T, Qi0*.9, h0)\n",
    "\n",
    "# Plot the response\n",
    "plt.figure(1)\n",
    "plt.plot(t_nolin, y_nolin)\n",
    "plt.plot(t_nolin1, y_nolin1)\n",
    "plt.plot(t_nolin2, y_nolin2)\n",
    "\n",
    "plt.legend(['Nivel h(t)'])\n",
    "plt.grid()\n",
    "plt.show(block=False)"
   ]
  },
  {
   "cell_type": "code",
   "execution_count": 5,
   "id": "9b02e02e-5cd7-46fb-afaf-9dfcbc755672",
   "metadata": {},
   "outputs": [
    {
     "name": "stdout",
     "output_type": "stream",
     "text": [
      "Al aumentar el caudal de entrada dQi= 10%, la variación del nivel es, dh =  21 %\n",
      "Al disminuir el caudal de entrada dQi= 10%, la variación del nivel es,  -19 %\n"
     ]
    }
   ],
   "source": [
    "dh_1=round(100*(y_nolin1[-1]-y_nolin1[0])/y_nolin1[0]) #hint: y1 es un array el indice 0 es el primer elemento y -1 es el último\n",
    "dh_2=round(100*(y_nolin2[-1]-y_nolin2[0])/y_nolin2[0])\n",
    "\n",
    "print(\"Al aumentar el caudal de entrada dQi= 10%, la variación del nivel es, dh = \", dh_1,\"%\")\n",
    "print(\"Al disminuir el caudal de entrada dQi= 10%, la variación del nivel es, \",dh_2,\"%\")"
   ]
  },
  {
   "cell_type": "markdown",
   "id": "59fbefa1-aa80-4b58-ab4a-ee4dd83a7da0",
   "metadata": {
    "user_expressions": []
   },
   "source": [
    "<div class=\"alert alert-block alert-success\">\n",
    "<b>Nota:</b> Observar que la variacíon porcentual del caudal de entrada de un 10%, no da una variación porcentual en el nivel de igual porcentaje, al aumentar, que al disminuir el caudal... Pensar, ¿Cuál sería la explicación?. Obviamente no tiene nada que ver con el sentido de la variación. \n",
    "</div>"
   ]
  },
  {
   "cell_type": "markdown",
   "id": "a78c28a9-fecc-4ee5-9c96-9165dd217f28",
   "metadata": {
    "user_expressions": []
   },
   "source": [
    "<a id=\"id_tk3\"></a>\n",
    "## Modelo linealizado"
   ]
  },
  {
   "cell_type": "markdown",
   "id": "dd905b51-106b-4aaf-8827-b1a4a3821062",
   "metadata": {
    "user_expressions": []
   },
   "source": [
    "Al linializar es necesario considerar el punto de equilibrio y las condiciones iniciale considerado en el punto anterior y luego para la parte lineal es solo un cambio de variable de la forma:\n",
    "\n",
    "$$\n",
    "\\begin{split}\n",
    " h(t)   &= h_0+\\delta h(t) \\newline\n",
    " Q_i(t) &= Q_{i0}+\\delta Q_i(t)\\newline\n",
    " Q_o(t) &= Q_{o0}+\\delta Q_o(t)\n",
    "\\end{split}\n",
    "$$\n",
    "\n",
    "entonces:\n",
    "\n",
    "$$\n",
    "\\frac{dh(t)}{dt}=\\frac{d(h_0+\\delta h(t))}{dt}=\\frac{\\delta h(t)}{dt}=\\frac{1}{A}( \\underbrace{Q_{i0} - Q_{o0}}_{=0 \\, pto. eq.}+ \\delta Q_i(t)-\\delta Q_o(t))$$\n",
    "\n",
    "Linealizando la segunda ecuación, aplicamos Taylor y nos quedamos con el término lineal:\n",
    "$$\n",
    "Q_o(t)= Q_{o0}+\\delta Q_o(t) \\approx k\\sqrt{h_o}+\\frac{d\\{k\\sqrt{h(t)}\\}}{dh}\\bigg\\rvert_{h=h_0}\\underbrace{\\Bigl( h(t)-h(0)\\Bigl)}_{=\\delta h(t)}\n",
    "$$\n",
    "haciendo los cálculos y cambios de variables llegamos a:\n",
    "$$\n",
    "\\delta Q_o(t) = \\underbrace{k\\sqrt{h_o}-Q_{o0}}_{=0 \\, pto. eq.}+\\frac{k}{2\\sqrt{h_o}}\\delta h(t)\n",
    "$$\n",
    "\n",
    "      \n",
    "<div class=\"alert alert-block alert-info\">\n",
    "Finalmente, las <b>ecuaciones del sistema linealizado</b> queda de la forma:\n",
    "<br/>\n",
    "<br/>\n",
    "   $$\n",
    "   \\begin{split}\n",
    "   \\dot{\\delta h}(t) & = \\frac{1}{A}\\Bigl(\\delta Q_i(t)-\\delta Q_o(t)\\Bigl)\\newline\n",
    "       \\delta Q_o(t) & =\\frac{k}{2\\sqrt{h_o}}\\delta h(t)\n",
    "   \\end{split}\n",
    "   $$\n",
    "</div>"
   ]
  },
  {
   "cell_type": "markdown",
   "id": "a5a77b29-54e9-40b9-8095-3fb0e4edcb50",
   "metadata": {
    "user_expressions": []
   },
   "source": [
    "<a id=\"id_tk4\"></a>\n",
    "## Modelo en Espacio de Estados"
   ]
  },
  {
   "cell_type": "markdown",
   "id": "984fdaee-b9ac-4b55-9602-afce1661bb68",
   "metadata": {
    "user_expressions": []
   },
   "source": [
    "Los sistemas de primer orden tienen solo un modo de acumlación de energía, en este caso energía potencial del nivel de líquido del tanque, y por lo tanto se necesita solo una variable de estado, el nivel, o mejor dicho las variaciones del nivel al rededor de $h_0$, definido como $\\delta h(t)$. Donde:\n",
    "$$\n",
    "\\mathbf{x}=\\delta h(t) \\rightarrow \\dot{\\mathbf{x}}(t)= \\dot{\\delta h}(t)\\newline\n",
    "\\mathbf{u}=\\delta Q_i(t)\n",
    "$$\n",
    "<div class=\"alert alert-block alert-info\">\n",
    "Por lo que, la representación en <b>variables de estado</b> es:\n",
    "<br/>\n",
    "<br/>\n",
    "$$\n",
    "\\begin{split}\n",
    "\\dot{\\mathbf{x}}&=\\left[-\\frac{k}{2\\sqrt{h_o}}\\right][\\mathbf{x}]+\\left[\\frac{1}{A}\\right][\\mathbf{u}]\\newline\n",
    "y&=[1][\\mathbf{x}]\n",
    "\\end{split}\n",
    "$$\n",
    "</div>"
   ]
  },
  {
   "cell_type": "markdown",
   "id": "63819017-e658-49bb-9ed0-f0315dd9ef2a",
   "metadata": {
    "user_expressions": []
   },
   "source": [
    "No hay que perder de vista que el estado del sistema son las variaciones del nivel $\\delta h(t)$, al rededor del $h_0$, de la misma forma que la entrada deben ser las variaciones del caudal $\\delta Q_i(t)$, al rededor del punto de equilibrio $Q_i0$"
   ]
  },
  {
   "cell_type": "code",
   "execution_count": 6,
   "id": "600f80a3-84c0-4270-bfc5-0314ab75995a",
   "metadata": {},
   "outputs": [
    {
     "data": {
      "text/latex": [
       "$$\n",
       "\\left(\\begin{array}{rll|rll}\n",
       "-0.&\\hspace{-1em}0289&\\hspace{-1em}\\phantom{\\cdot}&1\\phantom{.}&\\hspace{-1em}&\\hspace{-1em}\\phantom{\\cdot}\\\\\n",
       "\\hline\n",
       "1\\phantom{.}&\\hspace{-1em}&\\hspace{-1em}\\phantom{\\cdot}&0\\phantom{.}&\\hspace{-1em}&\\hspace{-1em}\\phantom{\\cdot}\\\\\n",
       "\\end{array}\\right)\n",
       "$$"
      ],
      "text/plain": [
       "<LinearIOSystem:sys[2]:['u[0]']->['y[0]']>"
      ]
     },
     "execution_count": 6,
     "metadata": {},
     "output_type": "execute_result"
    }
   ],
   "source": [
    "#k = 0.1\n",
    "#A_tank = 1 #defino el parámetro área del tanque, A como A_tanque, porque A es la matriz de estados\n",
    "\n",
    "#h0 = 3\n",
    "\n",
    "A = -k/(2*np.sqrt(h0));\n",
    "B = 1/A_tank;\n",
    "C = 1;\n",
    "D = 0;\n",
    "\n",
    "tank_ss = ctrl.ss(A,B,C,D)\n",
    "tank_ss"
   ]
  },
  {
   "cell_type": "code",
   "execution_count": 7,
   "id": "8ecb1582-799b-4f6a-b2e5-8eab07d4e187",
   "metadata": {},
   "outputs": [
    {
     "data": {
      "image/png": "[encoded data removed]",
      "text/plain": [
       "<Figure size 640x480 with 1 Axes>"
      ]
     },
     "metadata": {},
     "output_type": "display_data"
    }
   ],
   "source": [
    "u = np.ones(T.size)*Qi0*.1 # es dQi=.1 un 10% de aumento \n",
    "x0 = [0] #recordar que el estado es dh =0\n",
    "\n",
    "t_lin1,y_lin1,x_lin1 = ctrl.forced_response(tank_ss,U=u,T=T,X0=x0,return_x=True);\n",
    "plt.plot(t_lin1,y_lin1)\n",
    "\n",
    "plt.title('Respuesta a lazo abierto al aumenta el 10% ')\n",
    "plt.xlabel('Tiempo [s]')\n",
    "plt.ylabel('Variación del nivel dh(t) [m]');\n",
    "\n",
    "plt.legend(['Nivel dh(t)'])\n",
    "plt.grid()\n",
    "plt.show(block=False)"
   ]
  },
  {
   "cell_type": "markdown",
   "id": "0ed0849a-350a-4e09-9ff1-5dab7dd0249a",
   "metadata": {
    "user_expressions": []
   },
   "source": [
    "En el siguiente gráfico, comparamos la respuesta ante la misma entrada del modelo lineal y no lineal."
   ]
  },
  {
   "cell_type": "code",
   "execution_count": 8,
   "id": "eccba236-ad0e-4d57-9b8d-7c6879c015c4",
   "metadata": {},
   "outputs": [
    {
     "data": {
      "image/png": "[encoded data removed]",
      "text/plain": [
       "<Figure size 640x480 with 1 Axes>"
      ]
     },
     "metadata": {},
     "output_type": "display_data"
    }
   ],
   "source": [
    "plt.plot(t_nolin1, y_nolin1,t_lin1,h0+y_lin1)\n",
    "\n",
    "plt.title('Comparacion del model No lineal vs lineal')\n",
    "plt.xlabel('Tiempo [s]')\n",
    "plt.ylabel('nivel h(t) [m]');\n",
    "\n",
    "plt.legend(['h(t) no lineal','h(t) lineal'])\n",
    "plt.grid()\n",
    "plt.show(block=False)"
   ]
  },
  {
   "cell_type": "markdown",
   "id": "441e9175-284f-46eb-95be-6fe8666b2bf8",
   "metadata": {
    "user_expressions": []
   },
   "source": [
    "Observar la diferencia en las respuestas del sistema, esto es la evidencia del error de la linealización, dependiendo de la no linealidad y de la magnitud de la perturbación sera cuanto se separa el modelo linealizado del modelo no lineal. Corolario, las perturbaciones a un sistema linealizado deben ser pequeñas (¿Cuán pequeña? depende del sistema) para que el error sea pequeño."
   ]
  },
  {
   "cell_type": "code",
   "execution_count": 9,
   "id": "44030f44-b950-4f74-aaa8-0ecde60c1c59",
   "metadata": {},
   "outputs": [
    {
     "name": "stdout",
     "output_type": "stream",
     "text": [
      "error estimado : 0.01731750573420603\n",
      "error real :  0.029558083855963257\n",
      "error relativo: 0.81  %\n",
      "número de condición: 0.5\n"
     ]
    }
   ],
   "source": [
    "h0=3\n",
    "dh= y_lin1[-1]\n",
    "\n",
    "print('error estimado :',abs(k/(2*np.sqrt(h0)))*abs(dh))\n",
    "print('error real : ',  y_nolin1[-1]-(h0+y_lin1)[-1])\n",
    "print('error relativo:',round((y_nolin1[-1]-(h0+y_lin1)[-1])/y_nolin1[-1]*100,2),' %')\n",
    "print('número de condición:',round(h0*k/(2*np.sqrt(h0))/(k*np.sqrt(h0)),2))"
   ]
  },
  {
   "cell_type": "markdown",
   "id": "14cb51a6-5270-425c-814d-5633f2ad78d0",
   "metadata": {
    "user_expressions": []
   },
   "source": [
    "<a id=\"id_tk5\"></a>\n",
    "## Modelo en Función de Transferencia\n",
    "Tomando la transformada de Laplace de las ecuaciones linealizadas, obtenemos la función de transferencia de primer orden del tanque.\n",
    "\n",
    "<div class=\"alert alert-block alert-info\">\n",
    "La <b>función de transferencia</b> queda de la forma:\n",
    "<br/>\n",
    "<br/>\n",
    "   $$\n",
    "   P(s)=\\frac{\\Delta H(s)}{\\Delta Q_i(s)} = \\frac{\\frac{1}{A}}{(s +\\frac{k}{2A\\sqrt{h_o}})}  \n",
    "   $$\n",
    "</div>"
   ]
  },
  {
   "cell_type": "code",
   "execution_count": 10,
   "id": "60896098-4304-4ff6-b0b4-e2d1dab940da",
   "metadata": {},
   "outputs": [
    {
     "data": {
      "text/latex": [
       "$$\\frac{1}{s + 0.02887}$$"
      ],
      "text/plain": [
       "TransferFunction(array([1.]), array([1.        , 0.02886751]))"
      ]
     },
     "execution_count": 10,
     "metadata": {},
     "output_type": "execute_result"
    }
   ],
   "source": [
    "P_tank = ctrl.tf(1/A_tank,[1,k/(2*A_tank*np.sqrt(h0))])\n",
    "P_tank"
   ]
  },
  {
   "cell_type": "code",
   "execution_count": 11,
   "id": "e4a621f5-3dc5-4d14-bc37-e855f61ae827",
   "metadata": {},
   "outputs": [
    {
     "data": {
      "image/png": "[encoded data removed]",
      "text/plain": [
       "<Figure size 640x480 with 1 Axes>"
      ]
     },
     "metadata": {},
     "output_type": "display_data"
    }
   ],
   "source": [
    "u = np.ones(T.size)*Qi0*.1 # es dQi=.1 un 10% de aumento \n",
    "\n",
    "t_lin2,y_lin2 = ctrl.forced_response(P_tank,U=u,T=T,X0=0);\n",
    "plt.plot(t_lin2,y_lin2)\n",
    "\n",
    "plt.title('Respuesta a lazo abierto al aumenta el 10% ')\n",
    "plt.xlabel('Tiempo [s]')\n",
    "plt.ylabel('Variación del nivel dh(t) [m]');\n",
    "\n",
    "plt.legend(['Nivel dh(t)'])\n",
    "plt.grid()\n",
    "plt.show(block=False)"
   ]
  },
  {
   "cell_type": "markdown",
   "id": "432d4a07-1eee-4f52-9504-763bb2cde4ba",
   "metadata": {
    "user_expressions": []
   },
   "source": [
    "El resultado es claramente identico al obtenido por el sistema en variables de estado, las dos representaciones son equivalentes y es fácil de pasar de un sistema a otro usando las funciones ss2tf o tf2ss o simplemente \"casteando\" una función de transferencia con la función ss o un sistema en variables de estados con la función tf.\n",
    "\n",
    "Los detalles del cálculo de la función de transferencia los pueden ver en el siguiente video\n",
    "\n",
    "[![tanque: descripción](fig3_video_part2.png)](https://www.youtube.com/watch?v=vTh6FbaZ61s \"Tanque: función de transferencia\")"
   ]
  },
  {
   "cell_type": "code",
   "execution_count": 12,
   "id": "f9d133e4-df52-453c-8aeb-72fb3d8569b1",
   "metadata": {},
   "outputs": [
    {
     "data": {
      "text/latex": [
       "$$\n",
       "\\left(\\begin{array}{rll|rll}\n",
       "-0.&\\hspace{-1em}0289&\\hspace{-1em}\\phantom{\\cdot}&1\\phantom{.}&\\hspace{-1em}&\\hspace{-1em}\\phantom{\\cdot}\\\\\n",
       "\\hline\n",
       "1\\phantom{.}&\\hspace{-1em}&\\hspace{-1em}\\phantom{\\cdot}&0\\phantom{.}&\\hspace{-1em}&\\hspace{-1em}\\phantom{\\cdot}\\\\\n",
       "\\end{array}\\right)\n",
       "$$"
      ],
      "text/plain": [
       "<LinearIOSystem:sys[7]:['u[0]']->['y[0]']>"
      ]
     },
     "execution_count": 12,
     "metadata": {},
     "output_type": "execute_result"
    }
   ],
   "source": [
    "ctrl.ss(P_tank)"
   ]
  },
  {
   "cell_type": "markdown",
   "id": "cecedb47-57ca-4b9b-8dec-f1144434a714",
   "metadata": {
    "user_expressions": []
   },
   "source": [
    "---\n",
    "<a id=\"id_tk7\"></a>"
   ]
  },
  {
   "cell_type": "markdown",
   "id": "a32124d7-0d30-4ecb-9502-e7cff6c8adda",
   "metadata": {
    "user_expressions": []
   },
   "source": [
    "## Citas y Referencias:\n",
    "\n",
    "<div class=\"alert alert-block alert-info\">\n",
    "<b></b> Por ahora dejo las citas y referencia con este formato, si encuentro algo mejor lo cambio.\n",
    "</div>\n",
    "\n",
    "\n",
    "___\n",
    "<a id=\"cite1\"></a>\n",
    "**REF#1: Control Tutorials for Matlab & Simulink**.\n",
    "\n",
    "title = Introduction: State-Space Methods for Controller Design.   \n",
    "url = https://ctms.engin.umich.edu/CTMS/index.php?example=Introduction&section=ControlStateSpace    \n",
    "note = Accessed: 2022-04-18   \n",
    "\n",
    "___\n",
    "<a id=\"cite2\"></a>\n",
    "**REF#2: Apuntes de Control Clásico y Variables de Estado**   \n",
    "\n",
    "autor = Molina, Gonzalo  \n",
    "url = https://gonmolina.github.io/CCyVE_book/sources/notebooks_sources/modulo1/linealizacion/linealizacion.html   \n",
    "note = Accessed: 2022-04-18    \n",
    "\n",
    "___ \n",
    "<a id=\"cite3\"></a>    \n",
    "**REF#3: Multivariable Feedback Control: Analysis and Design**\n",
    "\n",
    "author = Skogestad, Sigurd and Postlethwaite, Ian   \n",
    "year = 2005   \n",
    "isbn = 0470011688   \n",
    "publisher = John Wiley &amp; Sons, Inc.   \n",
    "address = Hoboken, NJ, USA   \n",
    "\n",
    "___\n",
    "\n",
    "    \n",
    "<!--bibtex\n",
    "@misc{ctms,\n",
    "  title = {{Control Tutorials for Matlab & Simulink} Introduction: State-Space Methods for Controller Design},\n",
    "  howpublished = {\\url{https://ctms.engin.umich.edu/CTMS/index.php?example=Introduction&section=ControlStateSpace}},\n",
    "  note = {Accessed: 2022-04-18}\n",
    "  \n",
    "\n",
    "@misc{CCyVE,\n",
    "  title = {{Apuntes de Control Clásico y Variables de Estado} Linealización},\n",
    "  author = {Molina, Gonzalo},\n",
    "  howpublished = \\url{https://gonmolina.github.io/CCyVE_book/sources/notebooks_sources/modulo1/linealizacion/linealizacion.html}},\n",
    "  note = {Accessed: 2022-04-18}\n",
    "  \n",
    "\n",
    " @book{10.5555/1121635,\n",
    "    author = {Skogestad, Sigurd and Postlethwaite, Ian},\n",
    "    title = {Multivariable Feedback Control: Analysis and Design},\n",
    "    year = {2005},\n",
    "    isbn = {0470011688},\n",
    "    publisher = {John Wiley &amp; Sons, Inc.},\n",
    "    address = {Hoboken, NJ, USA}\n",
    "    }\n",
    " -->"
   ]
  },
  {
   "cell_type": "markdown",
   "id": "3bbccf92-a001-4f81-b088-f3fcd4902886",
   "metadata": {
    "tags": [],
    "user_expressions": []
   },
   "source": [
    "<a rel=\"license\" href=\"http://creativecommons.org/licenses/by/4.0/\"><img alt=\"Licencia Creative Commons\" style=\"border-width:0\" src=\"https://i.creativecommons.org/l/by/4.0/88x31.png\" /></a><br />Esta obra está bajo una <a rel=\"license\" href=\"http://creativecommons.org/licenses/by/4.0/\">Licencia Creative Commons Atribución 4.0 Internacional</a>."
   ]
  }
 ],
 "metadata": {
  "kernelspec": {
   "display_name": "Python 3 (ipykernel)",
   "language": "python",
   "name": "python3"
  },
  "language_info": {
   "codemirror_mode": {
    "name": "ipython",
    "version": 3
   },
   "file_extension": ".py",
   "mimetype": "text/x-python",
   "name": "python",
   "nbconvert_exporter": "python",
   "pygments_lexer": "ipython3",
   "version": "3.11.5"
  }
 },
 "nbformat": 4,
 "nbformat_minor": 5
}
