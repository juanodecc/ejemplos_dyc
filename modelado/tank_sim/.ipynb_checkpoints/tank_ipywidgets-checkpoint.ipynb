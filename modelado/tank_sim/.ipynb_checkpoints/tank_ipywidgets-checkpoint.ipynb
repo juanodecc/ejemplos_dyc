{
 "cells": [
  {
   "cell_type": "code",
   "execution_count": 1,
   "id": "13d5b736-b657-46a0-ad3c-563eb3b85c59",
   "metadata": {},
   "outputs": [],
   "source": [
    "from ipywidgets.widgets import Label, FloatProgress, FloatSlider, Button\n",
    "from ipywidgets.widgets import Layout, HBox, VBox\n",
    "from IPython.display import display\n",
    "import numpy as np\n",
    "import bqplot as bq\n",
    "import time\n",
    "import threading\n",
    "from scipy.integrate import odeint"
   ]
  },
  {
   "cell_type": "code",
   "execution_count": 2,
   "id": "b946d834-9a0b-4900-8a81-a0c635f7899a",
   "metadata": {},
   "outputs": [],
   "source": [
    "flag = True\n",
    "x = np.linspace(0,2*np.pi,500)\n",
    "dx = x[1]-x[0]\n",
    "y = 1 + np.sin(x)"
   ]
  },
  {
   "cell_type": "code",
   "execution_count": 3,
   "id": "e069c1f1-b1c7-47e2-a874-2db5239eaab2",
   "metadata": {},
   "outputs": [],
   "source": [
    "b_stop = Button(\n",
    "    description = 'Stop',\n",
    "    icon = 'stop',\n",
    "    button_style = 'warning',\n",
    "    layout =  Layout(width='100px')\n",
    ")\n",
    "\n",
    "def stop_click(b):\n",
    "    global flag\n",
    "    flag = False\n",
    "    \n",
    "b_stop.on_click(stop_click)\n",
    "\n",
    "w1 = FloatProgress(\n",
    "    value = y[-1],\n",
    "    min=0,\n",
    "    max=2,\n",
    "    description = 'PV:',\n",
    "    style ={'description_width':'initial'},\n",
    "    layout=Layout(width='365px'),\n",
    "    orientation='vertical'\n",
    ")\n",
    "\n",
    "w2 = Label(\n",
    "    value=str(np.round(y[-1],2)),\n",
    "    layout=Layout(margin='0 10px 31px')\n",
    ")\n",
    "\n",
    "w12 = HBox(\n",
    "    children=(w1,w2),\n",
    "    layout = Layout(margin='0 0 0 43px')\n",
    ")\n",
    "\n",
    "wA = FloatSlider(\n",
    "    value=0,\n",
    "    min=0,\n",
    "    max= 100,\n",
    "    step =1,\n",
    "    description='Valve Out:',\n",
    "    layout=Layout(width='490px',margin='0 0 5px 0')\n",
    ")\n",
    "\n",
    "    "
   ]
  },
  {
   "cell_type": "code",
   "execution_count": 4,
   "id": "1de835af-7c71-42c9-8b03-cd9290cbf21b",
   "metadata": {},
   "outputs": [],
   "source": [
    "x_sc = bq.LinearScale()\n",
    "y_sc = bq.LinearScale()\n",
    "\n",
    "x_ax = bq.Axis(\n",
    "    label='time [min]',\n",
    "    scale=x_sc\n",
    ")\n",
    "\n",
    "y_ax = bq.Axis(\n",
    "    label='Level [m]',\n",
    "    scale=y_sc,\n",
    "    orientation= 'vertical'\n",
    ")\n",
    "\n",
    "Line = bq.Lines(\n",
    "    x=x,\n",
    "    y=y,\n",
    "    scales={'x':x_sc,'y':y_sc}\n",
    ")\n",
    "\n",
    "fig = bq.Figure(\n",
    "    layout=Layout(width='500px',height='300px'),\n",
    "    axes=[x_ax,y_ax],\n",
    "    marks= [Line],\n",
    "    fig_margin = dict(top=10,bottom=40,left=50, right=10)\n",
    ")"
   ]
  },
  {
   "cell_type": "code",
   "execution_count": 5,
   "id": "40c059d5-c574-4976-9062-0deacbc1098a",
   "metadata": {},
   "outputs": [],
   "source": [
    "box= VBox(\n",
    "    children=(fig,w12,wA),\n",
    "    layout=Layout(border='solid 2px gray',width='510px')\n",
    ")\n",
    "\n",
    "app =VBox(\n",
    "    children=(b_stop,box)\n",
    ")"
   ]
  },
  {
   "cell_type": "code",
   "execution_count": 6,
   "id": "7848064a-e0b7-48c5-99f6-82e6013e646f",
   "metadata": {},
   "outputs": [],
   "source": [
    "# define energy balance model\n",
    "def tank(x, t, u, params):\n",
    "    # Parameters\n",
    "    k=params.get('k', 0.1)\n",
    "    A=params.get('A', 1)\n",
    "    h_min = params.get('h_min',0)  # h mínimo no puede ser negativo, por defecto h debe ser mayor a 0\n",
    "    h_max = params.get('h_max',10) # h máximo debe ser mayor a h_max...por defecto a 10m \n",
    "\n",
    "    # variables de estado\n",
    "    h = x[0]\n",
    "\n",
    "    # Cálculo de la acción de control\n",
    "    Qi = u if u > 0 else 0 # solo caudales positivos\n",
    "\n",
    "    #calculo de la derivada de h... dh/dt\n",
    "    h_sat = max(h_min, min(h, h_max))\n",
    "    dh = (Qi - k*np.sqrt(h_sat))/A\n",
    "    return dh"
   ]
  },
  {
   "cell_type": "code",
   "execution_count": 7,
   "id": "4043ee5c-345c-4be5-b5da-cb9b519c2d6b",
   "metadata": {},
   "outputs": [],
   "source": [
    "def work():\n",
    "    global x\n",
    "    global y\n",
    "    \n",
    "    start_time = time.time()\n",
    "    prev_time = start_time\n",
    "    while flag:\n",
    "       # Sleep time\n",
    "        sleep_max = 1.0\n",
    "        sleep = sleep_max - (time.time() - prev_time)\n",
    "        if sleep>=0.01:\n",
    "            time.sleep(sleep-0.01)\n",
    "        else:\n",
    "            time.sleep(0.01)\n",
    "\n",
    "        # Record time and change in time\n",
    "        t = time.time()\n",
    "        dt = t - prev_time\n",
    "        prev_time = t\n",
    "        #tm[i] = t - start_time\n",
    "\n",
    "        A = wA.value\n",
    "        \n",
    "        t = np.delete(t, 0)\n",
    "        y = np.delete(y, 0)\n",
    "        \n",
    "        t = np.append(t,t[-1]+dt)\n",
    "\n",
    "        y = np.append(y,y = odeint(tank,y[-1],[0,dt],args=(u[-1],)))\n",
    "        #noise = A*np.random.rand()\n",
    "         \n",
    "        w1.value = y[-1]\n",
    "        w2.value = str(np.round(y[-1],2))\n",
    "        \n",
    "        Line.x = t\n",
    "        Line.y = y\n",
    "#        time.sleep(0.05)\n",
    "        "
   ]
  },
  {
   "cell_type": "code",
   "execution_count": 8,
   "id": "f6253ea1-1c12-4f78-bc00-490e44430e53",
   "metadata": {},
   "outputs": [
    {
     "data": {
      "application/vnd.jupyter.widget-view+json": {
       "model_id": "d499cc1be11b428e8d71ec6b15b9aa02",
       "version_major": 2,
       "version_minor": 0
      },
      "text/plain": [
       "VBox(children=(Button(button_style='warning', description='Stop', icon='stop', layout=Layout(width='100px'), s…"
      ]
     },
     "metadata": {},
     "output_type": "display_data"
    }
   ],
   "source": [
    "flag = True\n",
    "\n",
    "thread = threading.Thread(target=work)\n",
    "\n",
    "display(app)\n",
    "\n",
    "thread.start()\n"
   ]
  },
  {
   "cell_type": "code",
   "execution_count": null,
   "id": "c1b566d7-ee23-44d4-91a0-963f7e26efa4",
   "metadata": {},
   "outputs": [],
   "source": []
  }
 ],
 "metadata": {
  "kernelspec": {
   "display_name": "Python 3 (ipykernel)",
   "language": "python",
   "name": "python3"
  },
  "language_info": {
   "codemirror_mode": {
    "name": "ipython",
    "version": 3
   },
   "file_extension": ".py",
   "mimetype": "text/x-python",
   "name": "python",
   "nbconvert_exporter": "python",
   "pygments_lexer": "ipython3",
   "version": "3.8.16"
  }
 },
 "nbformat": 4,
 "nbformat_minor": 5
}
