{
 "cells": [
  {
   "cell_type": "code",
   "execution_count": 1,
   "id": "13d5b736-b657-46a0-ad3c-563eb3b85c59",
   "metadata": {},
   "outputs": [],
   "source": [
    "from ipywidgets.widgets import Label, FloatProgress, FloatSlider, Button\n",
    "from ipywidgets.widgets import Layout, HBox, VBox\n",
    "from IPython.display import display\n",
    "import numpy as np\n",
    "import bqplot as bq\n",
    "import time\n",
    "import threading\n",
    "from scipy.integrate import odeint"
   ]
  },
  {
   "cell_type": "code",
   "execution_count": 2,
   "id": "b946d834-9a0b-4900-8a81-a0c635f7899a",
   "metadata": {},
   "outputs": [
    {
     "name": "stdout",
     "output_type": "stream",
     "text": [
      "Caudal de equilibrio Qi0=  0.17320508075688773\n"
     ]
    }
   ],
   "source": [
    "flag = True\n",
    "tiempo_span = 10\n",
    "\n",
    "k=0.1\n",
    "#condición inicial\n",
    "h0 = 3                 # Altura inicial h0\n",
    "Qi0 = k*np.sqrt(h0) #cálculo del caudal de equilibrio\n",
    "print('Caudal de equilibrio Qi0= ',Qi0)\n",
    "\n",
    "\n",
    "tiempo = np.linspace(-tiempo_span,0,500)\n",
    "dt = abs(tiempo[1]-tiempo[0])\n",
    "y = np.ones(len(tiempo))*h0\n",
    "Qi = np.ones(len(tiempo))*Qi0#input model"
   ]
  },
  {
   "cell_type": "code",
   "execution_count": 3,
   "id": "e069c1f1-b1c7-47e2-a874-2db5239eaab2",
   "metadata": {},
   "outputs": [],
   "source": [
    "b_stop = Button(\n",
    "    description = 'Stop',\n",
    "    icon = 'stop',\n",
    "    button_style = 'warning',\n",
    "    layout =  Layout(width='100px')\n",
    ")\n",
    "\n",
    "def stop_click(b):\n",
    "    global flag\n",
    "    flag = False\n",
    "    \n",
    "b_stop.on_click(stop_click)\n",
    "\n",
    "w1 = FloatProgress(\n",
    "    value = y[-1],\n",
    "    min=0,\n",
    "    max=10,\n",
    "    description = 'PV:',\n",
    "    style ={'description_width':'initial'},\n",
    "    layout=Layout(width='40px'),\n",
    "    orientation='vertical'\n",
    ")\n",
    "\n",
    "w2 = Label(\n",
    "    value=str(np.round(y[-1],2)),\n",
    "    layout=Layout(width='50px',margin='0 10px 30px')\n",
    ")\n",
    "\n",
    "w12 = HBox(\n",
    "    children=(w1,w2),\n",
    "    layout = Layout(margin='0 0 0 10px')\n",
    ")\n",
    "#Barra de caudal y texto\n",
    "QiProg = FloatProgress(\n",
    "    value = Qi[-1],\n",
    "    min=0,\n",
    "    max=1,\n",
    "    description = 'Qi:',\n",
    "    style ={'description_width':'initial'},\n",
    "    layout=Layout(width='40px'),\n",
    "    orientation='vertical'\n",
    ")\n",
    "\n",
    "QiLabel = Label(\n",
    "    value=str(np.round(Qi[-1],3)),\n",
    "    layout=Layout(width='50px',margin='0 10px 30px')\n",
    ")\n",
    "\n",
    "QiPL = HBox(\n",
    "    children=(QiProg,QiLabel),\n",
    "    layout = Layout(margin='0 0 0 10px')\n",
    ")\n",
    "\n",
    "wA = FloatSlider(\n",
    "    value=Qi0,\n",
    "    min= 0,\n",
    "    max= 1,\n",
    "    step =0.005,\n",
    "    description='Valve Input:',\n",
    "    layout=Layout(width='490px',margin='0 0 5px 0')\n",
    ")"
   ]
  },
  {
   "cell_type": "code",
   "execution_count": 4,
   "id": "1de835af-7c71-42c9-8b03-cd9290cbf21b",
   "metadata": {},
   "outputs": [],
   "source": [
    "#firgura de Nivel(t)\n",
    "\n",
    "x_sc = bq.LinearScale()\n",
    "y_sc = bq.LinearScale()\n",
    "\n",
    "x_ax = bq.Axis(\n",
    "    label='time [s]',\n",
    "    scale=x_sc\n",
    ")\n",
    "\n",
    "y_ax = bq.Axis(\n",
    "    label='Level [m]',\n",
    "    scale=y_sc,\n",
    "    orientation= 'vertical'\n",
    ")\n",
    "\n",
    "Line = bq.Lines(\n",
    "    x=tiempo,\n",
    "    y=y,\n",
    "    scales={'x':x_sc,'y':y_sc}\n",
    ")\n",
    "\n",
    "fig = bq.Figure(\n",
    "    layout=Layout(width='500px',height='300px'),\n",
    "    axes=[x_ax,y_ax],\n",
    "    marks= [Line],\n",
    "    fig_margin = dict(top=10,bottom=40,left=50, right=10)\n",
    ")"
   ]
  },
  {
   "cell_type": "code",
   "execution_count": 5,
   "id": "69e5f09f-6b02-478b-8c86-601b3d2403a1",
   "metadata": {},
   "outputs": [],
   "source": [
    "#firgura de Nivel(t)\n",
    "\n",
    "x_sc = bq.LinearScale()\n",
    "y_sc = bq.LinearScale()\n",
    "\n",
    "x_ax = bq.Axis(\n",
    "    label='time [s]',\n",
    "    scale=x_sc\n",
    ")\n",
    "\n",
    "y_ax = bq.Axis(\n",
    "    label='Caudal [m³/s]',\n",
    "    scale=y_sc,\n",
    "    orientation= 'vertical'\n",
    ")\n",
    "\n",
    "Line2 = bq.Lines(\n",
    "    x=tiempo,\n",
    "    y=Qi,\n",
    "    line_style='dashed',\n",
    "    scales={'x':x_sc,'y':y_sc}\n",
    ")\n",
    "\n",
    "fig_Q = bq.Figure(\n",
    "    layout=Layout(width='500px',height='300px'),\n",
    "    axes=[x_ax,y_ax],\n",
    "    marks= [Line2],\n",
    "    fig_margin = dict(top=10,bottom=40,left=50, right=10)\n",
    ")"
   ]
  },
  {
   "cell_type": "code",
   "execution_count": 6,
   "id": "40c059d5-c574-4976-9062-0deacbc1098a",
   "metadata": {},
   "outputs": [],
   "source": [
    "box1 = HBox(\n",
    "    children=(fig,w12),\n",
    "    layout=Layout(border='solid 2px gray',width='530px')\n",
    ")\n",
    "box2 = HBox(\n",
    "    children=(fig_Q,QiPL),\n",
    "    layout=Layout(border='solid 2px gray',width='530px')\n",
    ")\n",
    "\n",
    "app =VBox(\n",
    "    children=(b_stop,wA,box1,box2)\n",
    ")"
   ]
  },
  {
   "cell_type": "code",
   "execution_count": 7,
   "id": "7848064a-e0b7-48c5-99f6-82e6013e646f",
   "metadata": {},
   "outputs": [],
   "source": [
    "# define energy balance model\n",
    "def tank(x, t, u):\n",
    "    # Parameters\n",
    "    k= 0.1\n",
    "    A=1\n",
    "    h_min = 0  # h mínimo no puede ser negativo, por defecto h debe ser mayor a 0\n",
    "    h_max = 10 # h máximo debe ser mayor a h_max...por defecto a 10m \n",
    "\n",
    "    # variables de estado\n",
    "    h = x[0]\n",
    "\n",
    "    # Cálculo de la acción de control\n",
    "    Qi = u if u > 0 else 0 # solo caudales positivos\n",
    "\n",
    "    #calculo de la derivada de h... dh/dt\n",
    "    h_sat = max(h_min, min(h, h_max))\n",
    "    dh = (Qi - k*np.sqrt(h_sat))/A\n",
    "    return dh"
   ]
  },
  {
   "cell_type": "code",
   "execution_count": 8,
   "id": "4043ee5c-345c-4be5-b5da-cb9b519c2d6b",
   "metadata": {},
   "outputs": [],
   "source": [
    "def work():\n",
    "    global tiempo #tiempo de simulación\n",
    "    global y\n",
    "    global Qi\n",
    "    \n",
    "    prev_time = time.time()\n",
    "    sleep_max = .5\n",
    "    while flag:\n",
    "        # Record time and change in time\n",
    "        t = time.time()\n",
    "        dt = t - prev_time\n",
    "        prev_time = t\n",
    "        tiempo = np.delete(tiempo, 0)\n",
    "        tiempo = np.append(tiempo,tiempo[-1]+dt)\n",
    "\n",
    "        #calculo input\n",
    "        Qi = np.delete(Qi, 0)\n",
    "        A = wA.value\n",
    "        Qi = np.append(Qi,A)\n",
    "        \n",
    "        #Calculo de nivel para u=Qi\n",
    "        y = np.delete(y, 0)\n",
    "        level = odeint(tank,y[-1],[0,dt],args=(Qi[-1],))\n",
    "        y = np.append(y,level[-1])\n",
    "         \n",
    "\n",
    "        #actualización de widgets\n",
    "        w1.value = y[-1]\n",
    "        w2.value = str(np.round(y[-1],3))\n",
    "        \n",
    "        Line.x = tiempo\n",
    "        Line.y = y\n",
    "\n",
    "        QiProg.value = Qi[-1]\n",
    "        QiLabel.value = str(np.round(Qi[-1],3))\n",
    "        \n",
    "        Line2.x = tiempo\n",
    "        Line2.y = Qi\n",
    "\n",
    "        # Sleep time\n",
    "        sleep = sleep_max - (time.time() - prev_time)\n",
    "        if sleep>=0.01:\n",
    "            time.sleep(sleep-0.01)\n",
    "        else:\n",
    "            time.sleep(0.01)        "
   ]
  },
  {
   "cell_type": "code",
   "execution_count": 9,
   "id": "f6253ea1-1c12-4f78-bc00-490e44430e53",
   "metadata": {},
   "outputs": [
    {
     "data": {
      "application/vnd.jupyter.widget-view+json": {
       "model_id": "761f32a5d1a84792a97b355454342522",
       "version_major": 2,
       "version_minor": 0
      },
      "text/plain": [
       "VBox(children=(Button(button_style='warning', description='Stop', icon='stop', layout=Layout(width='100px'), s…"
      ]
     },
     "metadata": {},
     "output_type": "display_data"
    }
   ],
   "source": [
    "flag = True\n",
    "\n",
    "thread = threading.Thread(target=work)\n",
    "\n",
    "display(app)\n",
    "\n",
    "thread.start()\n"
   ]
  },
  {
   "cell_type": "code",
   "execution_count": 10,
   "id": "c0816a6a-317b-46a9-8a4d-271318cdd021",
   "metadata": {},
   "outputs": [],
   "source": [
    "import matplotlib.pyplot as plt\n"
   ]
  },
  {
   "cell_type": "code",
   "execution_count": 11,
   "id": "e7c297be-afe3-4625-af7f-010acd8ca14f",
   "metadata": {},
   "outputs": [
    {
     "data": {
      "text/plain": [
       "(500,)"
      ]
     },
     "execution_count": 11,
     "metadata": {},
     "output_type": "execute_result"
    }
   ],
   "source": [
    "np.shape(y)"
   ]
  },
  {
   "cell_type": "code",
   "execution_count": 12,
   "id": "d4475aef-9862-4429-a209-6a769b1d5d67",
   "metadata": {},
   "outputs": [
    {
     "ename": "NameError",
     "evalue": "name 'level' is not defined",
     "output_type": "error",
     "traceback": [
      "\u001b[0;31m---------------------------------------------------------------------------\u001b[0m",
      "\u001b[0;31mNameError\u001b[0m                                 Traceback (most recent call last)",
      "Cell \u001b[0;32mIn[12], line 1\u001b[0m\n\u001b[0;32m----> 1\u001b[0m \u001b[43mlevel\u001b[49m\n",
      "\u001b[0;31mNameError\u001b[0m: name 'level' is not defined"
     ]
    }
   ],
   "source": [
    "level\n"
   ]
  },
  {
   "cell_type": "code",
   "execution_count": null,
   "id": "66300e96-0bad-4f3d-909d-cf559207cc76",
   "metadata": {},
   "outputs": [],
   "source": [
    "level = odeint(tank,3,[0,.5],args=(.18,))"
   ]
  },
  {
   "cell_type": "code",
   "execution_count": null,
   "id": "d547d600-f908-4f7f-9449-534de118c22d",
   "metadata": {},
   "outputs": [],
   "source": [
    "level\n"
   ]
  },
  {
   "cell_type": "code",
   "execution_count": null,
   "id": "e60cfccc-62e3-4feb-b3a1-8893bd121a45",
   "metadata": {},
   "outputs": [],
   "source": []
  }
 ],
 "metadata": {
  "kernelspec": {
   "display_name": "Python 3 (ipykernel)",
   "language": "python",
   "name": "python3"
  },
  "language_info": {
   "codemirror_mode": {
    "name": "ipython",
    "version": 3
   },
   "file_extension": ".py",
   "mimetype": "text/x-python",
   "name": "python",
   "nbconvert_exporter": "python",
   "pygments_lexer": "ipython3",
   "version": "3.8.16"
  }
 },
 "nbformat": 4,
 "nbformat_minor": 5
}
