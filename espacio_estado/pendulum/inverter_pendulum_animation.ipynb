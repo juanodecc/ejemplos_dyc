{
 "cells": [
  {
   "cell_type": "markdown",
   "id": "9082bdd8-8d0a-47d4-af92-9aa2b1357185",
   "metadata": {},
   "source": [
    "# Péndulo intervertido.\n",
    "\n",
    "Parámetros:\n",
    "\n",
    "\n",
    "\n",
    "(M)       mass of the cart                         0.5 kg\n",
    "\n",
    "(m)       mass of the pendulum                     0.2 kg\n",
    "\n",
    "(b)       coefficient of friction for cart         0.1 N/m/sec\n",
    "\n",
    "(l)       length to pendulum center of mass        0.3 m\n",
    "\n",
    "(I)       mass moment of inertia of the pendulum   0.006 kg.m^2\n",
    "\n",
    "(F)       force applied to the cart\n",
    "\n",
    "(x)       cart position coordinate\n",
    "\n",
    "(theta)   pendulum angle from vertical (down)\n"
   ]
  },
  {
   "cell_type": "markdown",
   "id": "de8d5a91-d03e-457d-9f89-e1d9a63db629",
   "metadata": {},
   "source": [
    "## Esquema\n",
    "\n",
    "![Pendulo invertido](pendulum2.png)"
   ]
  },
  {
   "cell_type": "markdown",
   "id": "859a72f6-ea4f-4583-924b-0a696a7a38be",
   "metadata": {},
   "source": [
    "## Ecuaciones linealizadas:"
   ]
  },
  {
   "cell_type": "markdown",
   "id": "ec70e593-a3fa-463f-98ba-c3246a08ca2f",
   "metadata": {},
   "source": [
    "$$\n",
    "\\left[{\\begin{array}{c}\n",
    "  \\dot{x}\\\\ \\ddot{x}\\\\ \\dot{\\phi}\\\\ \\ddot{\\phi}\n",
    "\\end{array}}\\right] =\n",
    "\\left[{\\begin{array}{cccc}\n",
    "  0&1&0&0\\\\\n",
    "  0&\\frac{-(I+ml^2)b}{I(M+m)+Mml^2}&\\frac{m^2gl^2}{I(M+m)+Mml^2}&0\\\\\n",
    "  0&0&0&1\\\\\n",
    "  0&\\frac{-mlb}{I(M+m)+Mml^2}&\\frac{mgl(M+m)}{I(M+m)+Mml^2}&0\n",
    "\\end{array}}\\right]\n",
    "\\left[{\\begin{array}{c}\n",
    "  x\\\\ \\dot{x}\\\\ \\phi\\\\ \\dot{\\phi}\n",
    "\\end{array}}\\right]+\n",
    "\\left[{\\begin{array}{c}0\\\\\n",
    "  \\frac{I+ml^2}{I(M+m)+Mml^2}\\\\\n",
    "  0 \\\\\n",
    "  \\frac{ml}{I(M+m)+Mml^2}\n",
    "\\end{array}}\\right]u$$\n",
    "\n",
    "$${\\bf y} =\n",
    "\\left[{\\begin{array}{cccc}\n",
    "  1&0&0&0\\\\0&0&1&0\n",
    "\\end{array}}\\right]\n",
    "\\left[{\\begin{array}{c}\n",
    "  x\\\\ \\dot{x}\\\\ \\phi\\\\ \\dot{\\phi}\n",
    "\\end{array}}\\right]+\n",
    "\\left[{\\begin{array}{c}\n",
    "  0\\\\0\n",
    "\\end{array}}\\right]u$$"
   ]
  },
  {
   "cell_type": "code",
   "execution_count": 1,
   "id": "e99eafd2-444a-4052-aba1-3c98a040c6e7",
   "metadata": {},
   "outputs": [],
   "source": [
    "import matplotlib.animation as animation\n",
    "import numpy as np\n",
    "import matplotlib.pyplot as plt\n",
    "import control as ctrl"
   ]
  },
  {
   "cell_type": "code",
   "execution_count": 2,
   "id": "3c53b48a-8352-4f33-affe-ecae0ab390f6",
   "metadata": {
    "tags": []
   },
   "outputs": [],
   "source": [
    "M = 0.5\n",
    "m = 0.2\n",
    "b = 0.1\n",
    "I = 0.006\n",
    "g = 9.8\n",
    "l = 0.3\n",
    "p = I*(M+m)+M*m*l**2;"
   ]
  },
  {
   "cell_type": "code",
   "execution_count": 3,
   "id": "fb9b0010-53cd-4b66-82f6-5bf9a2637d66",
   "metadata": {},
   "outputs": [
    {
     "data": {
      "text/latex": [
       "$$\n",
       "\\left(\\begin{array}{rllrllrllrll|rll}\n",
       "0\\phantom{.}&\\hspace{-1em}&\\hspace{-1em}\\phantom{\\cdot}&1\\phantom{.}&\\hspace{-1em}&\\hspace{-1em}\\phantom{\\cdot}&0\\phantom{.}&\\hspace{-1em}&\\hspace{-1em}\\phantom{\\cdot}&0\\phantom{.}&\\hspace{-1em}&\\hspace{-1em}\\phantom{\\cdot}&0\\phantom{.}&\\hspace{-1em}&\\hspace{-1em}\\phantom{\\cdot}\\\\\n",
       "0\\phantom{.}&\\hspace{-1em}&\\hspace{-1em}\\phantom{\\cdot}&-0.&\\hspace{-1em}182&\\hspace{-1em}\\phantom{\\cdot}&2.&\\hspace{-1em}67&\\hspace{-1em}\\phantom{\\cdot}&0\\phantom{.}&\\hspace{-1em}&\\hspace{-1em}\\phantom{\\cdot}&1.&\\hspace{-1em}82&\\hspace{-1em}\\phantom{\\cdot}\\\\\n",
       "0\\phantom{.}&\\hspace{-1em}&\\hspace{-1em}\\phantom{\\cdot}&0\\phantom{.}&\\hspace{-1em}&\\hspace{-1em}\\phantom{\\cdot}&0\\phantom{.}&\\hspace{-1em}&\\hspace{-1em}\\phantom{\\cdot}&1\\phantom{.}&\\hspace{-1em}&\\hspace{-1em}\\phantom{\\cdot}&0\\phantom{.}&\\hspace{-1em}&\\hspace{-1em}\\phantom{\\cdot}\\\\\n",
       "0\\phantom{.}&\\hspace{-1em}&\\hspace{-1em}\\phantom{\\cdot}&-0.&\\hspace{-1em}455&\\hspace{-1em}\\phantom{\\cdot}&31.&\\hspace{-1em}2&\\hspace{-1em}\\phantom{\\cdot}&0\\phantom{.}&\\hspace{-1em}&\\hspace{-1em}\\phantom{\\cdot}&4.&\\hspace{-1em}55&\\hspace{-1em}\\phantom{\\cdot}\\\\\n",
       "\\hline\n",
       "1\\phantom{.}&\\hspace{-1em}&\\hspace{-1em}\\phantom{\\cdot}&0\\phantom{.}&\\hspace{-1em}&\\hspace{-1em}\\phantom{\\cdot}&0\\phantom{.}&\\hspace{-1em}&\\hspace{-1em}\\phantom{\\cdot}&0\\phantom{.}&\\hspace{-1em}&\\hspace{-1em}\\phantom{\\cdot}&0\\phantom{.}&\\hspace{-1em}&\\hspace{-1em}\\phantom{\\cdot}\\\\\n",
       "0\\phantom{.}&\\hspace{-1em}&\\hspace{-1em}\\phantom{\\cdot}&0\\phantom{.}&\\hspace{-1em}&\\hspace{-1em}\\phantom{\\cdot}&1\\phantom{.}&\\hspace{-1em}&\\hspace{-1em}\\phantom{\\cdot}&0\\phantom{.}&\\hspace{-1em}&\\hspace{-1em}\\phantom{\\cdot}&0\\phantom{.}&\\hspace{-1em}&\\hspace{-1em}\\phantom{\\cdot}\\\\\n",
       "\\end{array}\\right)\n",
       "$$"
      ],
      "text/plain": [
       "<LinearIOSystem:sys[2]:['u']->['x', 'phi']>"
      ]
     },
     "execution_count": 3,
     "metadata": {},
     "output_type": "execute_result"
    }
   ],
   "source": [
    "A = np.matrix([[0, 1, 0,0],\n",
    "     [0, -(I+m*l**2)*b/p,  (m**2*g*l**2)/p, 0],\n",
    "     [0, 0, 0,  1],\n",
    "     [0, -(m*l*b)/p, m*g*l*(M+m)/p, 0]])\n",
    "\n",
    "B =np.matrix([[0],\n",
    "     [(I+m*l**2)/p],\n",
    "          [0],\n",
    "        [m*l/p]])\n",
    "\n",
    "C = np.matrix([[1, 0, 0, 0],\n",
    "     [0, 0, 1, 0]])\n",
    "\n",
    "D = np.matrix([[0],\n",
    "               [0]])\n",
    "\n",
    "states = ['x', 'x_dot', 'phi', 'phi_dot']\n",
    "inputs = ['u']\n",
    "outputs = ['x', 'phi']\n",
    "\n",
    "pendulo = ctrl.ss(A,B,C,D, states=states, inputs=inputs, outputs=outputs)\n",
    "pendulo"
   ]
  },
  {
   "cell_type": "code",
   "execution_count": 4,
   "id": "62467fac-2006-4845-93fb-72e6819cddfe",
   "metadata": {},
   "outputs": [
    {
     "data": {
      "text/plain": [
       "array([-50. +0.j, -40. +0.j, -10.+10.j, -10.-10.j])"
      ]
     },
     "execution_count": 4,
     "metadata": {},
     "output_type": "execute_result"
    }
   ],
   "source": [
    "p1 = -10 + 10j;\n",
    "p2 = -10 - 10j;\n",
    "p3 = -50;\n",
    "p4 = -40;\n",
    "p_obj1= [p1, p2, p3,p4]\n",
    "\n",
    "K1 = ctrl.place(A,B,p_obj1);\n",
    "sys_cl1 = ctrl.ss(A-B*K1,B,C,0,);\n",
    "\n",
    "sys_cl1.pole()"
   ]
  },
  {
   "cell_type": "code",
   "execution_count": 5,
   "id": "7ce1a5dd-4421-4c5e-ad42-a35bd6741214",
   "metadata": {},
   "outputs": [
    {
     "data": {
      "text/plain": [
       "Text(0, 0.5, 'Angular Posicion (rad)/ Posicion (m)')"
      ]
     },
     "execution_count": 5,
     "metadata": {},
     "output_type": "execute_result"
    },
    {
     "data": {
      "image/png": "[encoded data removed]",
      "text/plain": [
       "<Figure size 640x480 with 1 Axes>"
      ]
     },
     "metadata": {},
     "output_type": "display_data"
    }
   ],
   "source": [
    "n = 300\n",
    "tf = 2#24.0\n",
    "#plt.rcParams['animation.html'] = 'html5'\n",
    "time = np.linspace(0,tf,n)\n",
    "\n",
    "#t = np.arange(0,2,0.01)\n",
    "u = np.zeros(time.size)\n",
    "x0 = [0, 0, np.radians(1), 0]\n",
    "\n",
    "t1,y1,x1 =ctrl.forced_response(sys_cl1,U=u,T=time,X0=x0,return_x=True)\n",
    "x=y1[0,:];\n",
    "theta_a=y1[1,:];\n",
    "plt.plot(t1,x)#pos\n",
    "plt.plot(t1,theta_a)#angulo en rad\n",
    "plt.grid()\n",
    "plt.xlabel('Time (sec)')\n",
    "plt.ylabel('Angular Posicion (rad)/ Posicion (m)')"
   ]
  },
  {
   "cell_type": "code",
   "execution_count": 9,
   "id": "b62c0598-6887-4424-beaa-ce4a34f2cc46",
   "metadata": {},
   "outputs": [],
   "source": [
    "#Defining the time, we will go beyond the 6.2s\n",
    "#to check if the objective was achieved\n",
    "\n",
    "#plt.rcParams['animation.html'] = 'html5'\n",
    "#################################\n",
    "#Weight of item\n",
    "m2 = np.ones(n)\n",
    "\n",
    "\n",
    "x1 = x\n",
    "y1 = np.zeros(len(time))\n",
    "\n",
    "#suppose that l = 1\n",
    "x2 = 1*np.sin(theta_a)+x1\n",
    "x2b = 1.05*np.sin(theta_a)+x1\n",
    "y2 = 1*np.cos(theta_a)-y1\n",
    "y2b = 1.05*np.cos(theta_a)-y1\n",
    "\n",
    "plt.plot(time,x2)\n",
    "plt.grid()"
   ]
  },
  {
   "cell_type": "code",
   "execution_count": 8,
   "id": "fbde7bc5-045a-439c-8668-bfc64db757d0",
   "metadata": {},
   "outputs": [],
   "source": [
    "%matplotlib qt5\n",
    "\n",
    "# Pendulum animation by Everton Colling\n",
    "\n",
    "fig = plt.figure(figsize=(8,6.4))\n",
    "ax = fig.add_subplot(111,autoscale_on=False,\\\n",
    "                     xlim=(-1.8,0.8),ylim=(-0.4,1.2))\n",
    "ax.set_xlabel('position')\n",
    "ax.get_yaxis().set_visible(False)\n",
    "\n",
    "crane_rail, = ax.plot([-2.0,1.0],[-0.2,-0.2],'k-',lw=4)\n",
    "start, = ax.plot([-1,-1],[-1.5,1.5],'k:',lw=2)\n",
    "objective, = ax.plot([0,0],[-0.5,1.5],'k:',lw=2)\n",
    "mass1, = ax.plot([],[],linestyle='None',marker='s',\\\n",
    "                 markersize=40,markeredgecolor='k',\\\n",
    "                 color='orange',markeredgewidth=2)\n",
    "mass2, = ax.plot([],[],linestyle='None',marker='o',\\\n",
    "                 markersize=20,markeredgecolor='k',\\\n",
    "                 color='orange',markeredgewidth=2)\n",
    "line, = ax.plot([],[],'o-',color='orange',lw=4,\\\n",
    "                markersize=6,markeredgecolor='k',\\\n",
    "                markerfacecolor='k')\n",
    "time_template = 'time = %.1fs'\n",
    "time_text = ax.text(0.05,0.9,'',transform=ax.transAxes)\n",
    "wgt_template = 'weight = %.1f'\n",
    "wgt_text = ax.text(0.75,0.9,'',transform=ax.transAxes)\n",
    "start_text = ax.text(-1.06,-0.3,'start',ha='right')\n",
    "end_text = ax.text(0.06,-0.3,'objective',ha='left')\n",
    "\n",
    "def init():\n",
    "    mass1.set_data([],[])\n",
    "    mass2.set_data([],[])\n",
    "    line.set_data([],[])\n",
    "    time_text.set_text('')\n",
    "    wgt_text.set_text('')\n",
    "    return line, mass1, mass2, time_text, wgt_text\n",
    "\n",
    "def animate(i):\n",
    "    mass1.set_data([x1[i]],[y1[i]-0.1])\n",
    "    mass2.set_data([x2b[i]],[y2b[i]])\n",
    "    line.set_data([x1[i],x2[i]],[y1[i],y2[i]])\n",
    "    time_text.set_text(time_template % time[i])\n",
    "    wgt_text.set_text(wgt_template % m2[i])\n",
    "    return line, mass1, mass2, time_text, wgt_text\n",
    "\n",
    "ani_a = animation.FuncAnimation(fig, animate, \\\n",
    "         np.arange(1,len(time)), \\\n",
    "         interval=40,blit=False,init_func=init)\n",
    "\n",
    "# requires ffmpeg to save mp4 file\n",
    "#  available from https://ffmpeg.zeranoe.com/builds/\n",
    "#  add ffmpeg.exe to path such as C:\\ffmpeg\\bin\\ in\n",
    "#  environment variables\n",
    "#ani_a.save('Pendulum_Control.mp4',fps=30)\n",
    "#ani_a.save('animation.gif', writer='PillowWriter', fps=30)\n",
    "plt.show()"
   ]
  }
 ],
 "metadata": {
  "kernelspec": {
   "display_name": "Python 3 (ipykernel)",
   "language": "python",
   "name": "python3"
  },
  "language_info": {
   "codemirror_mode": {
    "name": "ipython",
    "version": 3
   },
   "file_extension": ".py",
   "mimetype": "text/x-python",
   "name": "python",
   "nbconvert_exporter": "python",
   "pygments_lexer": "ipython3",
   "version": "3.11.5"
  }
 },
 "nbformat": 4,
 "nbformat_minor": 5
}
