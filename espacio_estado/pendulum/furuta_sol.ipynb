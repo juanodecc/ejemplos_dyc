{
 "cells": [
  {
   "cell_type": "markdown",
   "id": "f5220ee9-77d8-4b39-a433-94322c9ef655",
   "metadata": {},
   "source": [
    "# Furuta Pendulum\n",
    "\n",
    "Ecuaciones del pendulo de furuta extraidas del artículo \"On the Dynamics of the furuta Pendulum\" https://www.hindawi.com/journals/jcse/2011/528341/\n",
    "\n",
    "paper de Astrom y Furuta\n",
    "https://ieeexplore.ieee.org/document/4776708\n",
    "\n",
    "paper control furuta https://ieeexplore.ieee.org/document/4108038\n",
    "\n",
    "https://ieeexplore.ieee.org/author/37276435400"
   ]
  },
  {
   "attachments": {
    "5c2f3d3d-3752-40e6-98e7-5fd740a9aae1.png": {
     "image/png": "[encoded data removed]"
    }
   },
   "cell_type": "markdown",
   "id": "bb6e6322-bb27-4bc9-a855-8b97b1471c7a",
   "metadata": {},
   "source": [
    "Linealizando la el sistema en el punto de equilibrio superior:\n",
    "\n",
    "$\\theta_{1e}=0$\n",
    "\n",
    "$\\dot\\theta_{1e}=\\pi$\n",
    "\n",
    "$\\theta_{2e}=0$\n",
    "\n",
    "$\\dot\\theta_{2e}=0$\n",
    "\n",
    "usando Jacobian para linealizar, se obtiene el siguiente sistema en espacio de estado linealizado:\n",
    "\n",
    "![image.png](attachment:5c2f3d3d-3752-40e6-98e7-5fd740a9aae1.png)\n"
   ]
  },
  {
   "cell_type": "markdown",
   "id": "16eaa47e-e215-4487-a5d3-6ab2540ef5d5",
   "metadata": {},
   "source": [
    "1. A partir del modelo y sus parámetros, obtener los polos, y ceros del sistema considerando la entrada de control torque $\\tau_1$ y perturbación torque $\\tau_2$. Analizar la controlabilidad y observabilidad del sistema. ¿Cual o cuales considera que deberían ser las mediciones del sistema considerando que el objetivo de control es mantener el péndulo en posición vertical?\n",
    "2. Analizar restricciones generales de control. Elegir una realimentación de estados usando para diseñar un regulador tal que tenga una repuesta con un sobrepico del 16% ($M_p<=16\\%$) y un tiempo de establecimiento al 2% en menos 5 segundos ($t_s^{2\\%}<=5$) y **limitaciones de performance**. Justificar elección.\n",
    "3. Realizar otra realimentación de estados con los polos ubicados de forma tal que el sistema a lazo cerrado minimice el siguiente funcional de costo:\n",
    "\n",
    "   $$J=\\int_0^\\infty (x_1^2(t)+0.5x_2^2(t)+0.1x_3^2(t)+0.3x_4^2(t)+u(t))dt$$\n",
    "\n",
    "Comparar la ubicación de los polos obtenidas mediante este criterio con la anterior.\n",
    "   \n",
    "5. Realizar un estimador reducido para la variable $\\theta_1$.\n",
    "6. La perturbación del sistema se representa por la entrada $\\tau2$, es decir, torque sobre el eje del péndulo. Investigar la respuesta del sistema realimentado ante perturbaciones. Mostrar en simulación.\n",
    "7. Obtener el equivalente necesario para estudiar el margen de fase y ganancia del sistema a lazo cerrado para la realimentación de estados obtenida a partir del LQR y el estimador reducido anterior. Verificar si el controlador obtenido es estable.\n"
   ]
  },
  {
   "cell_type": "markdown",
   "id": "c33e4654-4674-458c-b8b3-127a73dfbb50",
   "metadata": {},
   "source": [
    "g)Obtener el equivalente necesario para estudiar el margen de fase y ganancia del sistema a lazo cerrado para la realimentación de estados obtenida a partir del LQR y el estimador reducido anterior. Verificar si el controlador obtenido es estable. Comparar con lo analizado en (b). (20%)"
   ]
  },
  {
   "cell_type": "code",
   "execution_count": 66,
   "id": "ec1d04ce-effb-441f-8ff9-e0259c55bee6",
   "metadata": {},
   "outputs": [],
   "source": [
    "import numpy as np\n",
    "import matplotlib.pyplot as plt\n",
    "import control as ctrl"
   ]
  },
  {
   "cell_type": "code",
   "execution_count": 67,
   "id": "3f73c390-0475-47c6-a2de-4e674f01049d",
   "metadata": {},
   "outputs": [],
   "source": [
    "g=9.81       #m/s²\n",
    "\n",
    "L1 = 0.278   #m\n",
    "L2 = 0.300   #m\n",
    "l1 = 0.150   #m\n",
    "l2 = 0.148   #m\n",
    "m1 = 0.300   #kg\n",
    "m2 = 0.075   #kg\n",
    "J1 = 2.48e-2 #kg*m²\n",
    "J2 = 3.86e-3 #kg*m²\n",
    "b1 = 1.00e-4 #Nms\n",
    "b2 = 2.80e-4 #Nms\n",
    "Lm = 0.005   #H\n",
    "Rm = 7.8     #ohm\n",
    "Km = 0.090   #Nm/A\n",
    "\n",
    "J1_hat = J1 + m1*l1**2\n",
    "J2_hat = J2 + m2*l2**2\n",
    "\n",
    "J0_hat = J1 + m1*l1**2+ m2*L1**2\n",
    "\n",
    "p =  J0_hat*J2_hat-m2**2*L1**2*l2**2"
   ]
  },
  {
   "cell_type": "code",
   "execution_count": 152,
   "id": "98a056c5-e9dd-4b8f-92f4-088af85b2390",
   "metadata": {},
   "outputs": [],
   "source": [
    "A31 = 0\n",
    "A32 = g*m2**2*l2**2*L1/p\n",
    "A33 = -b1*J2_hat/p\n",
    "A34 = -b2*m2*l2*L1/p\n",
    "\n",
    "A41 = 0\n",
    "A42 = g*m2*l2*J0_hat/p\n",
    "A43 = -b1*m2*l2*L1/p\n",
    "A44 = -b2*J0_hat/p\n",
    "\n",
    "B31 = J2_hat/p\n",
    "B41 = m2*L1*l2/p\n",
    "B32 = m2*L1*l2/p\n",
    "B42 = J0_hat/p\n",
    "\n",
    "#downward position\n",
    "#A34 = -A34\n",
    "#A42 = -A42\n",
    "#A43 = -A43\n",
    "#B32 = -B32\n",
    "#B41 = -B41"
   ]
  },
  {
   "cell_type": "code",
   "execution_count": 153,
   "id": "6821f94a-ee24-4c83-b091-6c2f1b2920c0",
   "metadata": {},
   "outputs": [],
   "source": [
    "\n",
    "A = np.matrix([[0  , 0  , 1  ,   0],\n",
    "               [0  , 0  , 0  ,   1],\n",
    "               [A31, A32, A33,  A34],\n",
    "               [A41, A42, A43,  A44]])\n",
    "\n",
    "B = np.matrix([[0   ,0],\n",
    "               [0   ,0],\n",
    "               [B31 ,B32],\n",
    "               [B41 ,B42]])\n",
    "\n",
    "B_tau1 = B[:,0]\n",
    "B_tau2 = B[:,0]\n",
    "\n",
    "C = np.eye(4)\n",
    "\n",
    "C_theta1 = C[0,:]\n",
    "C_theta2 = C[1,:]\n",
    "C_theta1_2 = C[0:2,:]\n",
    "\n",
    "D = np.zeros([4,1])\n",
    "\n",
    "\n",
    "states = ['theta1', 'theta2', 'theta1_dot', 'theta2_dot']\n",
    "inputs = ['tau1']\n",
    "outputs = ['theta1', 'theta2', 'theta1_dot', 'theta2_dot']"
   ]
  },
  {
   "cell_type": "code",
   "execution_count": 154,
   "id": "17890f10-f770-4a23-8d2b-4d47117840f9",
   "metadata": {},
   "outputs": [
    {
     "data": {
      "text/latex": [
       "$$\n",
       "\\left(\\begin{array}{rllrllrllrll|rll}\n",
       "0\\phantom{.}&\\hspace{-1em}&\\hspace{-1em}\\phantom{\\cdot}&0\\phantom{.}&\\hspace{-1em}&\\hspace{-1em}\\phantom{\\cdot}&1\\phantom{.}&\\hspace{-1em}&\\hspace{-1em}\\phantom{\\cdot}&0\\phantom{.}&\\hspace{-1em}&\\hspace{-1em}\\phantom{\\cdot}&0\\phantom{.}&\\hspace{-1em}&\\hspace{-1em}\\phantom{\\cdot}\\\\\n",
       "0\\phantom{.}&\\hspace{-1em}&\\hspace{-1em}\\phantom{\\cdot}&0\\phantom{.}&\\hspace{-1em}&\\hspace{-1em}\\phantom{\\cdot}&0\\phantom{.}&\\hspace{-1em}&\\hspace{-1em}\\phantom{\\cdot}&1\\phantom{.}&\\hspace{-1em}&\\hspace{-1em}\\phantom{\\cdot}&0\\phantom{.}&\\hspace{-1em}&\\hspace{-1em}\\phantom{\\cdot}\\\\\n",
       "0\\phantom{.}&\\hspace{-1em}&\\hspace{-1em}\\phantom{\\cdot}&1.&\\hspace{-1em}71&\\hspace{-1em}\\phantom{\\cdot}&-0.&\\hspace{-1em}00281&\\hspace{-1em}\\phantom{\\cdot}&-0.&\\hspace{-1em}00441&\\hspace{-1em}\\phantom{\\cdot}&28.&\\hspace{-1em}1&\\hspace{-1em}\\phantom{\\cdot}\\\\\n",
       "0\\phantom{.}&\\hspace{-1em}&\\hspace{-1em}\\phantom{\\cdot}&20.&\\hspace{-1em}7&\\hspace{-1em}\\phantom{\\cdot}&-0.&\\hspace{-1em}00157&\\hspace{-1em}\\phantom{\\cdot}&-0.&\\hspace{-1em}0534&\\hspace{-1em}\\phantom{\\cdot}&15.&\\hspace{-1em}7&\\hspace{-1em}\\phantom{\\cdot}\\\\\n",
       "\\hline\n",
       "1\\phantom{.}&\\hspace{-1em}&\\hspace{-1em}\\phantom{\\cdot}&0\\phantom{.}&\\hspace{-1em}&\\hspace{-1em}\\phantom{\\cdot}&0\\phantom{.}&\\hspace{-1em}&\\hspace{-1em}\\phantom{\\cdot}&0\\phantom{.}&\\hspace{-1em}&\\hspace{-1em}\\phantom{\\cdot}&0\\phantom{.}&\\hspace{-1em}&\\hspace{-1em}\\phantom{\\cdot}\\\\\n",
       "\\end{array}\\right)\n",
       "$$"
      ],
      "text/plain": [
       "<LinearIOSystem:sys[73]:['u[0]']->['y[0]']>"
      ]
     },
     "execution_count": 154,
     "metadata": {},
     "output_type": "execute_result"
    }
   ],
   "source": [
    "furuta_T1_theta1 = ctrl.ss(A,B_tau1,C_theta1,0)\n",
    "furuta_T1_theta1"
   ]
  },
  {
   "cell_type": "code",
   "execution_count": 155,
   "id": "54fd586c-e8b9-42d9-9505-a95fc1939f50",
   "metadata": {},
   "outputs": [
    {
     "data": {
      "text/latex": [
       "$$\n",
       "\\left(\\begin{array}{rllrllrllrll|rllrll}\n",
       "0\\phantom{.}&\\hspace{-1em}&\\hspace{-1em}\\phantom{\\cdot}&0\\phantom{.}&\\hspace{-1em}&\\hspace{-1em}\\phantom{\\cdot}&1\\phantom{.}&\\hspace{-1em}&\\hspace{-1em}\\phantom{\\cdot}&0\\phantom{.}&\\hspace{-1em}&\\hspace{-1em}\\phantom{\\cdot}&0\\phantom{.}&\\hspace{-1em}&\\hspace{-1em}\\phantom{\\cdot}&0\\phantom{.}&\\hspace{-1em}&\\hspace{-1em}\\phantom{\\cdot}\\\\\n",
       "0\\phantom{.}&\\hspace{-1em}&\\hspace{-1em}\\phantom{\\cdot}&0\\phantom{.}&\\hspace{-1em}&\\hspace{-1em}\\phantom{\\cdot}&0\\phantom{.}&\\hspace{-1em}&\\hspace{-1em}\\phantom{\\cdot}&1\\phantom{.}&\\hspace{-1em}&\\hspace{-1em}\\phantom{\\cdot}&0\\phantom{.}&\\hspace{-1em}&\\hspace{-1em}\\phantom{\\cdot}&0\\phantom{.}&\\hspace{-1em}&\\hspace{-1em}\\phantom{\\cdot}\\\\\n",
       "0\\phantom{.}&\\hspace{-1em}&\\hspace{-1em}\\phantom{\\cdot}&1.&\\hspace{-1em}71&\\hspace{-1em}\\phantom{\\cdot}&-0.&\\hspace{-1em}00281&\\hspace{-1em}\\phantom{\\cdot}&-0.&\\hspace{-1em}00441&\\hspace{-1em}\\phantom{\\cdot}&28.&\\hspace{-1em}1&\\hspace{-1em}\\phantom{\\cdot}&15.&\\hspace{-1em}7&\\hspace{-1em}\\phantom{\\cdot}\\\\\n",
       "0\\phantom{.}&\\hspace{-1em}&\\hspace{-1em}\\phantom{\\cdot}&20.&\\hspace{-1em}7&\\hspace{-1em}\\phantom{\\cdot}&-0.&\\hspace{-1em}00157&\\hspace{-1em}\\phantom{\\cdot}&-0.&\\hspace{-1em}0534&\\hspace{-1em}\\phantom{\\cdot}&15.&\\hspace{-1em}7&\\hspace{-1em}\\phantom{\\cdot}&191\\phantom{.}&\\hspace{-1em}&\\hspace{-1em}\\phantom{\\cdot}\\\\\n",
       "\\hline\n",
       "1\\phantom{.}&\\hspace{-1em}&\\hspace{-1em}\\phantom{\\cdot}&0\\phantom{.}&\\hspace{-1em}&\\hspace{-1em}\\phantom{\\cdot}&0\\phantom{.}&\\hspace{-1em}&\\hspace{-1em}\\phantom{\\cdot}&0\\phantom{.}&\\hspace{-1em}&\\hspace{-1em}\\phantom{\\cdot}&0\\phantom{.}&\\hspace{-1em}&\\hspace{-1em}\\phantom{\\cdot}&0\\phantom{.}&\\hspace{-1em}&\\hspace{-1em}\\phantom{\\cdot}\\\\\n",
       "0\\phantom{.}&\\hspace{-1em}&\\hspace{-1em}\\phantom{\\cdot}&1\\phantom{.}&\\hspace{-1em}&\\hspace{-1em}\\phantom{\\cdot}&0\\phantom{.}&\\hspace{-1em}&\\hspace{-1em}\\phantom{\\cdot}&0\\phantom{.}&\\hspace{-1em}&\\hspace{-1em}\\phantom{\\cdot}&0\\phantom{.}&\\hspace{-1em}&\\hspace{-1em}\\phantom{\\cdot}&0\\phantom{.}&\\hspace{-1em}&\\hspace{-1em}\\phantom{\\cdot}\\\\\n",
       "0\\phantom{.}&\\hspace{-1em}&\\hspace{-1em}\\phantom{\\cdot}&0\\phantom{.}&\\hspace{-1em}&\\hspace{-1em}\\phantom{\\cdot}&1\\phantom{.}&\\hspace{-1em}&\\hspace{-1em}\\phantom{\\cdot}&0\\phantom{.}&\\hspace{-1em}&\\hspace{-1em}\\phantom{\\cdot}&0\\phantom{.}&\\hspace{-1em}&\\hspace{-1em}\\phantom{\\cdot}&0\\phantom{.}&\\hspace{-1em}&\\hspace{-1em}\\phantom{\\cdot}\\\\\n",
       "0\\phantom{.}&\\hspace{-1em}&\\hspace{-1em}\\phantom{\\cdot}&0\\phantom{.}&\\hspace{-1em}&\\hspace{-1em}\\phantom{\\cdot}&0\\phantom{.}&\\hspace{-1em}&\\hspace{-1em}\\phantom{\\cdot}&1\\phantom{.}&\\hspace{-1em}&\\hspace{-1em}\\phantom{\\cdot}&0\\phantom{.}&\\hspace{-1em}&\\hspace{-1em}\\phantom{\\cdot}&0\\phantom{.}&\\hspace{-1em}&\\hspace{-1em}\\phantom{\\cdot}\\\\\n",
       "\\end{array}\\right)\n",
       "$$"
      ],
      "text/plain": [
       "<LinearIOSystem:sys[74]:['u[0]', 'u[1]']->['y[0]', 'y[1]', 'y[2]', 'y[3]']>"
      ]
     },
     "execution_count": 155,
     "metadata": {},
     "output_type": "execute_result"
    }
   ],
   "source": [
    "furuta_Torque = ctrl.ss(A,B,C,0)\n",
    "furuta_Torque"
   ]
  },
  {
   "cell_type": "code",
   "execution_count": 156,
   "id": "e97dc2a7-ed89-43b6-8b9a-0daec0592a64",
   "metadata": {},
   "outputs": [
    {
     "data": {
      "text/plain": [
       "(array([ 0.00000000e+00+0.j, -4.58200698e+00+0.j,  4.52852151e+00+0.j,\n",
       "        -2.67764138e-03+0.j]),\n",
       " array([ 4.4230342 +0.j, -4.47391739+0.j]))"
      ]
     },
     "execution_count": 156,
     "metadata": {},
     "output_type": "execute_result"
    },
    {
     "data": {
      "image/png": "[encoded data removed]",
      "text/plain": [
       "<Figure size 640x480 with 1 Axes>"
      ]
     },
     "metadata": {},
     "output_type": "display_data"
    }
   ],
   "source": [
    "ctrl.pzmap(furuta_Torque[0,0])# tau1 a theta1"
   ]
  },
  {
   "cell_type": "code",
   "execution_count": 157,
   "id": "404d90f3-8631-471a-b7fe-299e55904f0d",
   "metadata": {},
   "outputs": [
    {
     "data": {
      "text/plain": [
       "(array([ 0.00000000e+00+0.j, -4.58200698e+00+0.j,  4.52852151e+00+0.j,\n",
       "        -2.67764138e-03+0.j]),\n",
       " array([-6.20666445e-18+0.j,  0.00000000e+00+0.j]))"
      ]
     },
     "execution_count": 157,
     "metadata": {},
     "output_type": "execute_result"
    },
    {
     "data": {
      "image/png": "[encoded data removed]",
      "text/plain": [
       "<Figure size 640x480 with 1 Axes>"
      ]
     },
     "metadata": {},
     "output_type": "display_data"
    }
   ],
   "source": [
    "ctrl.pzmap(furuta_Torque[1,0])# tau1 a theta2"
   ]
  },
  {
   "cell_type": "code",
   "execution_count": 136,
   "id": "72bf84cb-29b6-4c6c-8c2d-2212941242f1",
   "metadata": {},
   "outputs": [
    {
     "data": {
      "text/plain": [
       "array([ 4.4230342 +0.j, -4.47391739+0.j])"
      ]
     },
     "execution_count": 136,
     "metadata": {},
     "output_type": "execute_result"
    }
   ],
   "source": [
    "furuta_torque.zeros()"
   ]
  },
  {
   "cell_type": "code",
   "execution_count": 137,
   "id": "a7f3f033-8dae-48ea-9dcd-e0dd299c82be",
   "metadata": {},
   "outputs": [
    {
     "data": {
      "text/plain": [
       "(4, -76526164.5069937)"
      ]
     },
     "execution_count": 137,
     "metadata": {},
     "output_type": "execute_result"
    }
   ],
   "source": [
    "Co=ctrl.ctrb(A,B1)\n",
    "np.linalg.matrix_rank(Co),np.linalg.det(Co)"
   ]
  },
  {
   "cell_type": "code",
   "execution_count": 138,
   "id": "f8a4ce56-e4f3-4a68-a22d-b5a64fcafcc9",
   "metadata": {},
   "outputs": [
    {
     "data": {
      "text/plain": [
       "4"
      ]
     },
     "execution_count": 138,
     "metadata": {},
     "output_type": "execute_result"
    }
   ],
   "source": [
    "Ob1=ctrl.obsv(A,C[0,:])\n",
    "np.linalg.matrix_rank(Ob1)"
   ]
  },
  {
   "cell_type": "code",
   "execution_count": 139,
   "id": "892233e0-be5a-4c17-b52a-a77abe6ce8f3",
   "metadata": {},
   "outputs": [
    {
     "data": {
      "text/plain": [
       "3"
      ]
     },
     "execution_count": 139,
     "metadata": {},
     "output_type": "execute_result"
    }
   ],
   "source": [
    "Ob2=ctrl.obsv(A,C[1,:])\n",
    "np.linalg.matrix_rank(Ob2)"
   ]
  },
  {
   "cell_type": "code",
   "execution_count": 140,
   "id": "08cfd0e2-633a-4907-b1b3-ebedd3990e72",
   "metadata": {},
   "outputs": [
    {
     "data": {
      "text/plain": [
       "3"
      ]
     },
     "execution_count": 140,
     "metadata": {},
     "output_type": "execute_result"
    }
   ],
   "source": [
    "Ob3=ctrl.obsv(A,C[2,:])\n",
    "np.linalg.matrix_rank(Ob3)"
   ]
  },
  {
   "cell_type": "code",
   "execution_count": 141,
   "id": "7a028283-a9b7-467b-b4f3-5ffd373d8014",
   "metadata": {},
   "outputs": [
    {
     "data": {
      "text/plain": [
       "3"
      ]
     },
     "execution_count": 141,
     "metadata": {},
     "output_type": "execute_result"
    }
   ],
   "source": [
    "Ob4=ctrl.obsv(A,C[3,:])\n",
    "np.linalg.matrix_rank(Ob4)"
   ]
  },
  {
   "cell_type": "markdown",
   "id": "6f30e962-5ecb-4ac2-be12-0fbb55745135",
   "metadata": {},
   "source": [
    "## Punto 2\n"
   ]
  },
  {
   "cell_type": "markdown",
   "id": "ae1682d4-5630-4617-8c57-dc4c79d16084",
   "metadata": {},
   "source": [
    "### Ubicación de polos del sistema\n",
    "\n",
    "Las especificaciones en el dominio temporal para el sistema son:"
   ]
  },
  {
   "cell_type": "code",
   "execution_count": 142,
   "id": "bcd19614-7667-416f-8f0d-6ee4cf932c10",
   "metadata": {},
   "outputs": [
    {
     "data": {
      "text/plain": [
       "(0.1552591268514642, 0.8, 1.5686274509803921, 0.51, 1.3492931779154753)"
      ]
     },
     "execution_count": 142,
     "metadata": {},
     "output_type": "execute_result"
    }
   ],
   "source": [
    "ts=5\n",
    "sigma = 4/ts\n",
    "\n",
    "xi=.51\n",
    "Mp= np.exp(-xi*np.pi/np.sqrt(1-xi**2))\n",
    "\n",
    "wn=sigma/xi\n",
    "\n",
    "wd=wn*np.sqrt(1-xi**2)\n",
    "\n",
    "Mp,sigma,wn,xi,wd "
   ]
  },
  {
   "cell_type": "markdown",
   "id": "2e4b0fa2-5430-40dc-9307-ed5295c7aef5",
   "metadata": {},
   "source": [
    "Además, el polo en C+ hace que el sistema requiera un ancho de banda mínimo según:"
   ]
  },
  {
   "cell_type": "code",
   "execution_count": 143,
   "id": "e6c78737-0356-400c-83d7-6a5d1d632856",
   "metadata": {},
   "outputs": [
    {
     "data": {
      "text/plain": [
       "(9.04, 4.610399999999999, 7.775976584326884)"
      ]
     },
     "execution_count": 143,
     "metadata": {},
     "output_type": "execute_result"
    }
   ],
   "source": [
    "p_inestable = 4.52\n",
    "wn= 2*p_inestable\n",
    "sigma=wn*xi\n",
    "wd=wn*np.sqrt(1-xi**2)\n",
    "\n",
    "wn,sigma,wd"
   ]
  },
  {
   "cell_type": "code",
   "execution_count": 144,
   "id": "2798bf42-2e83-41f4-9e2e-4d575e699c53",
   "metadata": {},
   "outputs": [
    {
     "data": {
      "text/plain": [
       "[(-4.610399999999999+7.775976584326884j),\n",
       " (-4.610399999999999-7.775976584326884j),\n",
       " -18.441599999999998,\n",
       " -18.441599999999998]"
      ]
     },
     "execution_count": 144,
     "metadata": {},
     "output_type": "execute_result"
    }
   ],
   "source": [
    "p_obj1= [-sigma+wd*1j,-sigma-wd*1j,-4*sigma,-4*sigma]\n",
    "p_obj1"
   ]
  },
  {
   "cell_type": "markdown",
   "id": "343c55f7-49c8-40ba-8283-64ee62f6aaa7",
   "metadata": {},
   "source": [
    "### Cálculo de ley de control"
   ]
  },
  {
   "cell_type": "code",
   "execution_count": 145,
   "id": "8f3fdf8e-901c-41ac-83fe-11314c6dfd03",
   "metadata": {},
   "outputs": [
    {
     "name": "stdout",
     "output_type": "stream",
     "text": [
      "[[-50.02296895 139.92881497 -11.19792653  22.8934896 ]]\n"
     ]
    }
   ],
   "source": [
    "K1 = ctrl.acker(A,B1,p_obj1);\n",
    "print(K1)"
   ]
  },
  {
   "cell_type": "code",
   "execution_count": 146,
   "id": "3615c871-d8a2-41b0-a6b3-cd8183471916",
   "metadata": {},
   "outputs": [
    {
     "data": {
      "text/plain": [
       "array([-18.4416+2.82845579e-06j, -18.4416-2.82845579e-06j,\n",
       "        -4.6104+7.77597658e+00j,  -4.6104-7.77597658e+00j])"
      ]
     },
     "execution_count": 146,
     "metadata": {},
     "output_type": "execute_result"
    }
   ],
   "source": [
    "np.linalg.eigvals(A-B1*K1)# verificación de la ley de control"
   ]
  },
  {
   "cell_type": "code",
   "execution_count": 103,
   "id": "d9d4fbd4-7718-4ec8-a063-d150fe8830ad",
   "metadata": {},
   "outputs": [
    {
     "data": {
      "text/latex": [
       "$$\n",
       "\\left(\\begin{array}{rllrllrllrll|rll}\n",
       "0\\phantom{.}&\\hspace{-1em}&\\hspace{-1em}\\phantom{\\cdot}&0\\phantom{.}&\\hspace{-1em}&\\hspace{-1em}\\phantom{\\cdot}&1\\phantom{.}&\\hspace{-1em}&\\hspace{-1em}\\phantom{\\cdot}&0\\phantom{.}&\\hspace{-1em}&\\hspace{-1em}\\phantom{\\cdot}&0\\phantom{.}&\\hspace{-1em}&\\hspace{-1em}\\phantom{\\cdot}\\\\\n",
       "0\\phantom{.}&\\hspace{-1em}&\\hspace{-1em}\\phantom{\\cdot}&0\\phantom{.}&\\hspace{-1em}&\\hspace{-1em}\\phantom{\\cdot}&0\\phantom{.}&\\hspace{-1em}&\\hspace{-1em}\\phantom{\\cdot}&1\\phantom{.}&\\hspace{-1em}&\\hspace{-1em}\\phantom{\\cdot}&0\\phantom{.}&\\hspace{-1em}&\\hspace{-1em}\\phantom{\\cdot}\\\\\n",
       "-1.&\\hspace{-1em}28&\\hspace{-1em}\\cdot10^{3}&988\\phantom{.}&\\hspace{-1em}&\\hspace{-1em}\\phantom{\\cdot}&-280\\phantom{.}&\\hspace{-1em}&\\hspace{-1em}\\phantom{\\cdot}&417\\phantom{.}&\\hspace{-1em}&\\hspace{-1em}\\phantom{\\cdot}&28.&\\hspace{-1em}1&\\hspace{-1em}\\phantom{\\cdot}\\\\\n",
       "-718\\phantom{.}&\\hspace{-1em}&\\hspace{-1em}\\phantom{\\cdot}&533\\phantom{.}&\\hspace{-1em}&\\hspace{-1em}\\phantom{\\cdot}&-157\\phantom{.}&\\hspace{-1em}&\\hspace{-1em}\\phantom{\\cdot}&234\\phantom{.}&\\hspace{-1em}&\\hspace{-1em}\\phantom{\\cdot}&15.&\\hspace{-1em}7&\\hspace{-1em}\\phantom{\\cdot}\\\\\n",
       "\\hline\n",
       "1\\phantom{.}&\\hspace{-1em}&\\hspace{-1em}\\phantom{\\cdot}&0\\phantom{.}&\\hspace{-1em}&\\hspace{-1em}\\phantom{\\cdot}&0\\phantom{.}&\\hspace{-1em}&\\hspace{-1em}\\phantom{\\cdot}&0\\phantom{.}&\\hspace{-1em}&\\hspace{-1em}\\phantom{\\cdot}&0\\phantom{.}&\\hspace{-1em}&\\hspace{-1em}\\phantom{\\cdot}\\\\\n",
       "0\\phantom{.}&\\hspace{-1em}&\\hspace{-1em}\\phantom{\\cdot}&1\\phantom{.}&\\hspace{-1em}&\\hspace{-1em}\\phantom{\\cdot}&0\\phantom{.}&\\hspace{-1em}&\\hspace{-1em}\\phantom{\\cdot}&0\\phantom{.}&\\hspace{-1em}&\\hspace{-1em}\\phantom{\\cdot}&0\\phantom{.}&\\hspace{-1em}&\\hspace{-1em}\\phantom{\\cdot}\\\\\n",
       "\\end{array}\\right)\n",
       "$$"
      ],
      "text/plain": [
       "<LinearIOSystem:sys[46]:['u[0]']->['y[0]', 'y[1]']>"
      ]
     },
     "execution_count": 103,
     "metadata": {},
     "output_type": "execute_result"
    }
   ],
   "source": [
    "sys_cl1 = ctrl.ss(A-B1*K1,B1,C[0:2,:],0,);\n",
    "sys_cl1"
   ]
  },
  {
   "cell_type": "code",
   "execution_count": 104,
   "id": "da3e4213-37ae-45ea-9b40-2fd64601325e",
   "metadata": {},
   "outputs": [
    {
     "data": {
      "text/plain": [
       "array([-18.4416+2.94647360e-06j, -18.4416-2.94647360e-06j,\n",
       "        -4.6104+7.77597658e+00j,  -4.6104-7.77597658e+00j])"
      ]
     },
     "execution_count": 104,
     "metadata": {},
     "output_type": "execute_result"
    }
   ],
   "source": [
    "sys_cl1.pole()"
   ]
  },
  {
   "cell_type": "code",
   "execution_count": 105,
   "id": "3d1dc30f-b86b-4f82-8b66-e9cddb86b75e",
   "metadata": {},
   "outputs": [],
   "source": [
    "t1,y1 =ctrl.step_response(sys_cl1) #escalón Tau1 de 1"
   ]
  },
  {
   "cell_type": "code",
   "execution_count": 106,
   "id": "ad126a92-d048-4b7f-8ca1-80d2ad00243e",
   "metadata": {},
   "outputs": [
    {
     "data": {
      "text/plain": [
       "[<matplotlib.lines.Line2D at 0x7fc98f2b5650>]"
      ]
     },
     "execution_count": 106,
     "metadata": {},
     "output_type": "execute_result"
    },
    {
     "data": {
      "image/png": "[encoded data removed]",
      "text/plain": [
       "<Figure size 640x480 with 1 Axes>"
      ]
     },
     "metadata": {},
     "output_type": "display_data"
    }
   ],
   "source": [
    "theta_1=y1[0][0,:];\n",
    "theta_2=y1[1][0,:];\n",
    "\n",
    "plt.plot(t1,theta_1)#angulo 1 en rad\n",
    "plt.plot(t1,theta_2)#angulo 2 en rad (a controlar)"
   ]
  },
  {
   "cell_type": "code",
   "execution_count": 107,
   "id": "a0f6f414-2a70-4e87-a488-049866c1ad76",
   "metadata": {},
   "outputs": [
    {
     "data": {
      "text/plain": [
       "[[{'RiseTime': 0.0521795488038694,\n",
       "   'SettlingTime': 1.2001296224889964,\n",
       "   'SettlingMin': 0.0020853241743525944,\n",
       "   'SettlingMax': 0.029747029038441057,\n",
       "   'Overshoot': 35.62464383168595,\n",
       "   'Undershoot': 0,\n",
       "   'Peak': 0.029747029038441057,\n",
       "   'PeakTime': 0.11926754012313007,\n",
       "   'SteadyStateValue': 0.021933350899972108}],\n",
       " [{'RiseTime': 0.0,\n",
       "   'SettlingTime': nan,\n",
       "   'SettlingMin': -0.010326895132357525,\n",
       "   'SettlingMax': 0.001547348757125046,\n",
       "   'Overshoot': 1.228633689318549e+16,\n",
       "   'Undershoot': 1.8745660398542944e+16,\n",
       "   'Peak': 0.01575607691743409,\n",
       "   'PeakTime': 0.11181331886543444,\n",
       "   'SteadyStateValue': -8.405186364444527e-17}]]"
      ]
     },
     "execution_count": 107,
     "metadata": {},
     "output_type": "execute_result"
    }
   ],
   "source": [
    "ctrl.step_info(sys_cl1)"
   ]
  },
  {
   "cell_type": "code",
   "execution_count": 108,
   "id": "63c48d6d-4f71-4cbe-9af2-a52a2f766ee7",
   "metadata": {},
   "outputs": [
    {
     "data": {
      "text/plain": [
       "array([-54.36485602])"
      ]
     },
     "execution_count": 108,
     "metadata": {},
     "output_type": "execute_result"
    }
   ],
   "source": [
    "Nbar=-1/np.abs(sys_cl1(1)[0])\n",
    "Nbar"
   ]
  },
  {
   "cell_type": "code",
   "execution_count": 109,
   "id": "b85b50dc-b813-410f-86c8-d00accb5c01b",
   "metadata": {},
   "outputs": [
    {
     "data": {
      "text/plain": [
       "[<matplotlib.lines.Line2D at 0x7fc98ea9e0d0>]"
      ]
     },
     "execution_count": 109,
     "metadata": {},
     "output_type": "execute_result"
    },
    {
     "data": {
      "image/png": "[encoded data removed]",
      "text/plain": [
       "<Figure size 640x480 with 1 Axes>"
      ]
     },
     "metadata": {},
     "output_type": "display_data"
    }
   ],
   "source": [
    "t2,y2 =ctrl.step_response(sys_cl1*Nbar)\n",
    "plt.plot(t2,y2[1][0,:])"
   ]
  },
  {
   "cell_type": "code",
   "execution_count": 110,
   "id": "5e166af1-7173-4f6f-912f-cb946339faba",
   "metadata": {},
   "outputs": [
    {
     "data": {
      "text/plain": [
       "[[{'RiseTime': 0.0521795488038694,\n",
       "   'SettlingTime': 1.2001296224889964,\n",
       "   'SettlingMin': -1.6171929508041796,\n",
       "   'SettlingMax': -0.11336834850118353,\n",
       "   'Overshoot': 35.62464383168312,\n",
       "   'Undershoot': 0,\n",
       "   'Peak': 1.6171929508041796,\n",
       "   'PeakTime': 0.11926754012313007,\n",
       "   'SteadyStateValue': -1.192403463791725}],\n",
       " [{'RiseTime': 0.0,\n",
       "   'SettlingTime': nan,\n",
       "   'SettlingMin': -0.08412139239935132,\n",
       "   'SettlingMax': 0.561420167041264,\n",
       "   'Overshoot': 1.0436639628988634e+16,\n",
       "   'Undershoot': 1.592351763490241e+16,\n",
       "   'Peak': 0.8565768531127916,\n",
       "   'PeakTime': 0.11181331886543444,\n",
       "   'SteadyStateValue': 5.3793192732444975e-15}]]"
      ]
     },
     "execution_count": 110,
     "metadata": {},
     "output_type": "execute_result"
    }
   ],
   "source": [
    "ctrl.step_info(sys_cl1*Nbar)"
   ]
  },
  {
   "cell_type": "code",
   "execution_count": 111,
   "id": "0c601c62-4464-44d1-aeb1-a648e9a2a86f",
   "metadata": {},
   "outputs": [
    {
     "data": {
      "text/plain": [
       "array([-18.4416+1.84890219e-06j, -18.4416-1.84890219e-06j,\n",
       "        -4.6104+3.88798829e+00j,  -4.6104-3.88798829e+00j])"
      ]
     },
     "execution_count": 111,
     "metadata": {},
     "output_type": "execute_result"
    }
   ],
   "source": [
    "p_obj2= [-sigma+.5*wd*1j,-sigma-.5*wd*1j,-4*sigma,-4*sigma];\n",
    "K2 = ctrl.acker(A,B1,p_obj2);\n",
    "sys_cl2 = ctrl.ss(A-B1*K2,B1,C[0:2,:],0,);\n",
    "sys_cl2.pole()"
   ]
  },
  {
   "cell_type": "code",
   "execution_count": 112,
   "id": "69a1a0cc-34dd-43e0-9e75-5d78d9e2b3fe",
   "metadata": {},
   "outputs": [
    {
     "data": {
      "text/plain": [
       "[<matplotlib.lines.Line2D at 0x7fc98eaa2510>]"
      ]
     },
     "execution_count": 112,
     "metadata": {},
     "output_type": "execute_result"
    },
    {
     "data": {
      "image/png": "[encoded data removed]",
      "text/plain": [
       "<Figure size 640x480 with 1 Axes>"
      ]
     },
     "metadata": {},
     "output_type": "display_data"
    }
   ],
   "source": [
    "Nbar2=-1/np.abs(sys_cl2(0)[0])\n",
    "t3,y3 =ctrl.step_response(sys_cl2*Nbar2)\n",
    "plt.plot(t3,y3[1][0,:])"
   ]
  },
  {
   "cell_type": "code",
   "execution_count": 113,
   "id": "312e6ad1-faf8-4d50-9fbf-690009261012",
   "metadata": {},
   "outputs": [
    {
     "data": {
      "text/plain": [
       "[[{'RiseTime': 0.7752390108003261,\n",
       "   'SettlingTime': 0.9317776572119304,\n",
       "   'SettlingMin': -1.0145971197477612,\n",
       "   'SettlingMax': -0.9037393423391827,\n",
       "   'Overshoot': 1.4597119747755827,\n",
       "   'Undershoot': 0,\n",
       "   'Peak': 1.0145971197477612,\n",
       "   'PeakTime': 1.1852211799735755,\n",
       "   'SteadyStateValue': -1.0000000000000053}],\n",
       " [{'RiseTime': 0.0,\n",
       "   'SettlingTime': nan,\n",
       "   'SettlingMin': -0.003692540431171501,\n",
       "   'SettlingMax': 0.15483997775193262,\n",
       "   'Overshoot': 5756861412635425.0,\n",
       "   'Undershoot': 1.2991501242361644e+16,\n",
       "   'Peak': 0.34942716510706445,\n",
       "   'PeakTime': 0.1192675401231271,\n",
       "   'SteadyStateValue': 2.689659636622136e-15}]]"
      ]
     },
     "execution_count": 113,
     "metadata": {},
     "output_type": "execute_result"
    }
   ],
   "source": [
    "ctrl.step_info(sys_cl2*Nbar2)"
   ]
  },
  {
   "cell_type": "code",
   "execution_count": 114,
   "id": "cdba7aaa-ca05-410e-b41a-0b6f4e2f233c",
   "metadata": {},
   "outputs": [
    {
     "data": {
      "text/plain": [
       "(array([[0.70710678, 1.76178259, 0.64191591, 0.05428376]]),\n",
       " array([[ 0.45414823,  0.03518107,  0.05624549, -0.05539047],\n",
       "        [ 0.03518107,  2.04911616,  0.08713895, -0.04349654],\n",
       "        [ 0.05624549,  0.08713895,  0.05015942, -0.04867782],\n",
       "        [-0.05539047, -0.04349654, -0.04867782,  0.09025317]]),\n",
       " array([-16.031094 +0.j       ,  -1.2969875+0.j       ,\n",
       "         -0.8030408+4.4817805j,  -0.8030408-4.4817805j], dtype=complex64))"
      ]
     },
     "execution_count": 114,
     "metadata": {},
     "output_type": "execute_result"
    }
   ],
   "source": [
    "K3, S, E =ctrl.lqr(A,B1,[[.5,0,0,0],[0,1,0,0],[0,0,.3,0],[0,0,0,.1]],[[1]])\n",
    "K3, S, E"
   ]
  },
  {
   "cell_type": "code",
   "execution_count": 115,
   "id": "bcb1f715-2a90-4aa4-b24d-b0dc31653883",
   "metadata": {},
   "outputs": [
    {
     "data": {
      "text/plain": [
       "[<matplotlib.lines.Line2D at 0x7fc98e806110>]"
      ]
     },
     "execution_count": 115,
     "metadata": {},
     "output_type": "execute_result"
    },
    {
     "data": {
      "image/png": "[encoded data removed]",
      "text/plain": [
       "<Figure size 640x480 with 1 Axes>"
      ]
     },
     "metadata": {},
     "output_type": "display_data"
    }
   ],
   "source": [
    "\n",
    "sys_cl3 = ctrl.ss(A-B1*K3,B1,C[0:2,:],0,);\n",
    "Nbar3=-1/np.abs(sys_cl3(0)[0])\n",
    "t4,y4 =ctrl.step_response(sys_cl3*Nbar3)\n",
    "plt.plot(t4,y4[1][0,:])"
   ]
  },
  {
   "cell_type": "markdown",
   "id": "4f17bdd9-bc26-4b56-b192-9dfcb89ceed2",
   "metadata": {},
   "source": [
    "## Furuta con dinámica del motor"
   ]
  },
  {
   "cell_type": "code",
   "execution_count": 116,
   "id": "7b3d405e-bb18-4f1f-b58c-a16392ba92f1",
   "metadata": {},
   "outputs": [],
   "source": [
    "\n",
    "A = np.matrix([[0  , 0  , 1  ,   0 , 0],\n",
    "               [0  , 0  , 0  ,   1 , 0],\n",
    "               [A31, A32, A33,  A34, B31*Km],\n",
    "               [A41, A42, A43,  A44, B41*Km],\n",
    "               [0  , 0  ,-Km/Lm, 0 , -Rm/Lm ]])\n",
    "\n",
    "B = np.matrix([[0 ],\n",
    "               [0 ],\n",
    "               [0 ],\n",
    "               [0 ],\n",
    "               [1/Lm]])\n",
    "\n",
    "C = np.eye(5)\n",
    "\n",
    "D = np.zeros([5,1])\n",
    "\n",
    "\n",
    "states = ['theta1', 'theta2', 'theta1_dot', 'theta2_dot','i']\n",
    "inputs = ['V']\n",
    "outputs = ['theta1', 'theta2', 'theta1_dot', 'theta2_dot','i']"
   ]
  },
  {
   "cell_type": "code",
   "execution_count": 126,
   "id": "9fdbfa6e-78bf-423f-99bb-fc541e909d94",
   "metadata": {},
   "outputs": [
    {
     "data": {
      "text/plain": [
       "0"
      ]
     },
     "execution_count": 126,
     "metadata": {},
     "output_type": "execute_result"
    }
   ],
   "source": [
    "A41\n"
   ]
  },
  {
   "cell_type": "code",
   "execution_count": 117,
   "id": "094ecec8-0634-4aff-9a5f-ae24f82626d6",
   "metadata": {},
   "outputs": [
    {
     "data": {
      "text/latex": [
       "$$\n",
       "\\left(\\begin{array}{rllrllrllrllrll|rll}\n",
       "0\\phantom{.}&\\hspace{-1em}&\\hspace{-1em}\\phantom{\\cdot}&0\\phantom{.}&\\hspace{-1em}&\\hspace{-1em}\\phantom{\\cdot}&1\\phantom{.}&\\hspace{-1em}&\\hspace{-1em}\\phantom{\\cdot}&0\\phantom{.}&\\hspace{-1em}&\\hspace{-1em}\\phantom{\\cdot}&0\\phantom{.}&\\hspace{-1em}&\\hspace{-1em}\\phantom{\\cdot}&0\\phantom{.}&\\hspace{-1em}&\\hspace{-1em}\\phantom{\\cdot}\\\\\n",
       "0\\phantom{.}&\\hspace{-1em}&\\hspace{-1em}\\phantom{\\cdot}&0\\phantom{.}&\\hspace{-1em}&\\hspace{-1em}\\phantom{\\cdot}&0\\phantom{.}&\\hspace{-1em}&\\hspace{-1em}\\phantom{\\cdot}&1\\phantom{.}&\\hspace{-1em}&\\hspace{-1em}\\phantom{\\cdot}&0\\phantom{.}&\\hspace{-1em}&\\hspace{-1em}\\phantom{\\cdot}&0\\phantom{.}&\\hspace{-1em}&\\hspace{-1em}\\phantom{\\cdot}\\\\\n",
       "0\\phantom{.}&\\hspace{-1em}&\\hspace{-1em}\\phantom{\\cdot}&1.&\\hspace{-1em}71&\\hspace{-1em}\\phantom{\\cdot}&-0.&\\hspace{-1em}00281&\\hspace{-1em}\\phantom{\\cdot}&0.&\\hspace{-1em}00441&\\hspace{-1em}\\phantom{\\cdot}&2.&\\hspace{-1em}53&\\hspace{-1em}\\phantom{\\cdot}&0\\phantom{.}&\\hspace{-1em}&\\hspace{-1em}\\phantom{\\cdot}\\\\\n",
       "0\\phantom{.}&\\hspace{-1em}&\\hspace{-1em}\\phantom{\\cdot}&-20.&\\hspace{-1em}7&\\hspace{-1em}\\phantom{\\cdot}&0.&\\hspace{-1em}00157&\\hspace{-1em}\\phantom{\\cdot}&-0.&\\hspace{-1em}0534&\\hspace{-1em}\\phantom{\\cdot}&-1.&\\hspace{-1em}42&\\hspace{-1em}\\phantom{\\cdot}&0\\phantom{.}&\\hspace{-1em}&\\hspace{-1em}\\phantom{\\cdot}\\\\\n",
       "0\\phantom{.}&\\hspace{-1em}&\\hspace{-1em}\\phantom{\\cdot}&0\\phantom{.}&\\hspace{-1em}&\\hspace{-1em}\\phantom{\\cdot}&-18\\phantom{.}&\\hspace{-1em}&\\hspace{-1em}\\phantom{\\cdot}&0\\phantom{.}&\\hspace{-1em}&\\hspace{-1em}\\phantom{\\cdot}&-1.&\\hspace{-1em}56&\\hspace{-1em}\\cdot10^{3}&200\\phantom{.}&\\hspace{-1em}&\\hspace{-1em}\\phantom{\\cdot}\\\\\n",
       "\\hline\n",
       "0\\phantom{.}&\\hspace{-1em}&\\hspace{-1em}\\phantom{\\cdot}&1\\phantom{.}&\\hspace{-1em}&\\hspace{-1em}\\phantom{\\cdot}&0\\phantom{.}&\\hspace{-1em}&\\hspace{-1em}\\phantom{\\cdot}&0\\phantom{.}&\\hspace{-1em}&\\hspace{-1em}\\phantom{\\cdot}&0\\phantom{.}&\\hspace{-1em}&\\hspace{-1em}\\phantom{\\cdot}&0\\phantom{.}&\\hspace{-1em}&\\hspace{-1em}\\phantom{\\cdot}\\\\\n",
       "\\end{array}\\right)\n",
       "$$"
      ],
      "text/plain": [
       "<LinearIOSystem:sys[64]:['u[0]']->['y[0]']>"
      ]
     },
     "execution_count": 117,
     "metadata": {},
     "output_type": "execute_result"
    }
   ],
   "source": [
    "furuta = ctrl.ss(A,B,C[1,:],D[0,:])#, states=states, inputs=inputs, outputs=outputs)\n",
    "furuta"
   ]
  },
  {
   "cell_type": "code",
   "execution_count": 118,
   "id": "355f07ed-184a-4034-811f-8168874aec9e",
   "metadata": {},
   "outputs": [
    {
     "data": {
      "text/plain": [
       "(array([ 0.00000000e+00+0.j       , -1.55997084e+03+0.j       ,\n",
       "        -2.74182421e-02+4.5551002j, -2.74182421e-02-4.5551002j,\n",
       "        -3.04845275e-02+0.j       ]),\n",
       " array([-9.74915195e-16+0.j,  0.00000000e+00+0.j]))"
      ]
     },
     "execution_count": 118,
     "metadata": {},
     "output_type": "execute_result"
    },
    {
     "data": {
      "image/png": "[encoded data removed]",
      "text/plain": [
       "<Figure size 640x480 with 1 Axes>"
      ]
     },
     "metadata": {},
     "output_type": "display_data"
    }
   ],
   "source": [
    "ctrl.pzmap(furuta)"
   ]
  },
  {
   "cell_type": "code",
   "execution_count": 124,
   "id": "4cdb11ea-d1ff-41e5-a2fb-f7e329c19026",
   "metadata": {},
   "outputs": [
    {
     "data": {
      "text/latex": [
       "$$\n",
       "\\left(\\begin{array}{rllrllrllrllrll|rll}\n",
       "0\\phantom{.}&\\hspace{-1em}&\\hspace{-1em}\\phantom{\\cdot}&4.&\\hspace{-1em}27&\\hspace{-1em}\\cdot10^{-12}&3.&\\hspace{-1em}51&\\hspace{-1em}\\cdot10^{-14}&-7.&\\hspace{-1em}92&\\hspace{-1em}\\cdot10^{-16}&1.&\\hspace{-1em}4&\\hspace{-1em}\\cdot10^{-16}&10.&\\hspace{-1em}1&\\hspace{-1em}\\phantom{\\cdot}\\\\\n",
       "0\\phantom{.}&\\hspace{-1em}&\\hspace{-1em}\\phantom{\\cdot}&-1.&\\hspace{-1em}56&\\hspace{-1em}\\cdot10^{3}&1.&\\hspace{-1em}84&\\hspace{-1em}\\cdot10^{-13}&1.&\\hspace{-1em}44&\\hspace{-1em}\\cdot10^{-13}&2.&\\hspace{-1em}66&\\hspace{-1em}\\cdot10^{-15}&200\\phantom{.}&\\hspace{-1em}&\\hspace{-1em}\\phantom{\\cdot}\\\\\n",
       "0\\phantom{.}&\\hspace{-1em}&\\hspace{-1em}\\phantom{\\cdot}&-3.&\\hspace{-1em}16&\\hspace{-1em}\\cdot10^{-15}&-0.&\\hspace{-1em}0274&\\hspace{-1em}\\phantom{\\cdot}&-1\\phantom{.}&\\hspace{-1em}&\\hspace{-1em}\\phantom{\\cdot}&4.&\\hspace{-1em}82&\\hspace{-1em}\\cdot10^{-17}&0.&\\hspace{-1em}000406&\\hspace{-1em}\\phantom{\\cdot}\\\\\n",
       "0\\phantom{.}&\\hspace{-1em}&\\hspace{-1em}\\phantom{\\cdot}&9.&\\hspace{-1em}01&\\hspace{-1em}\\cdot10^{-14}&20.&\\hspace{-1em}7&\\hspace{-1em}\\phantom{\\cdot}&-0.&\\hspace{-1em}0274&\\hspace{-1em}\\phantom{\\cdot}&-1.&\\hspace{-1em}68&\\hspace{-1em}\\cdot10^{-17}&-0.&\\hspace{-1em}182&\\hspace{-1em}\\phantom{\\cdot}\\\\\n",
       "0\\phantom{.}&\\hspace{-1em}&\\hspace{-1em}\\phantom{\\cdot}&-4.&\\hspace{-1em}27&\\hspace{-1em}\\cdot10^{-12}&-3.&\\hspace{-1em}9&\\hspace{-1em}\\cdot10^{-14}&-4.&\\hspace{-1em}21&\\hspace{-1em}\\cdot10^{-15}&-0.&\\hspace{-1em}0305&\\hspace{-1em}\\phantom{\\cdot}&-10.&\\hspace{-1em}1&\\hspace{-1em}\\phantom{\\cdot}\\\\\n",
       "\\hline\n",
       "0\\phantom{.}&\\hspace{-1em}&\\hspace{-1em}\\phantom{\\cdot}&-5.&\\hspace{-1em}82&\\hspace{-1em}\\cdot10^{-7}&-0.&\\hspace{-1em}997&\\hspace{-1em}\\phantom{\\cdot}&-0.&\\hspace{-1em}00139&\\hspace{-1em}\\phantom{\\cdot}&-2.&\\hspace{-1em}63&\\hspace{-1em}\\cdot10^{-5}&0\\phantom{.}&\\hspace{-1em}&\\hspace{-1em}\\phantom{\\cdot}\\\\\n",
       "\\end{array}\\right)\n",
       "$$"
      ],
      "text/plain": [
       "StateSpace(array([[ 0.00000000e+00,  4.26519075e-12,  3.51344163e-14,\n",
       "        -7.91895986e-16,  1.40246382e-16],\n",
       "       [ 0.00000000e+00, -1.55997084e+03,  1.83575377e-13,\n",
       "         1.43662859e-13,  2.66453526e-15],\n",
       "       [ 0.00000000e+00, -3.16261774e-15, -2.74182421e-02,\n",
       "        -9.99964607e-01,  4.82183564e-17],\n",
       "       [ 0.00000000e+00,  9.01357033e-14,  2.07496723e+01,\n",
       "        -2.74182421e-02, -1.67916936e-17],\n",
       "       [ 0.00000000e+00, -4.26687071e-12, -3.90290441e-14,\n",
       "        -4.21090868e-15, -3.04845275e-02]]), array([[ 1.01351351e+01],\n",
       "       [ 2.00004083e+02],\n",
       "       [ 4.05869323e-04],\n",
       "       [-1.82294509e-01],\n",
       "       [-1.01400863e+01]]), array([[ 0.00000000e+00, -5.82319204e-07, -9.96599339e-01,\n",
       "        -1.39351924e-03, -2.63236824e-05]]), array([[0.]]))"
      ]
     },
     "execution_count": 124,
     "metadata": {},
     "output_type": "execute_result"
    }
   ],
   "source": [
    "sys,T=ctrl.canonical_form(furuta,'modal')\n",
    "sys"
   ]
  },
  {
   "cell_type": "code",
   "execution_count": 120,
   "id": "b9e8b9f2-3396-42be-afb2-69ba97fcb2e6",
   "metadata": {},
   "outputs": [
    {
     "data": {
      "text/plain": [
       "(3, -1606682128904605.5)"
      ]
     },
     "execution_count": 120,
     "metadata": {},
     "output_type": "execute_result"
    }
   ],
   "source": [
    "Co=ctrl.ctrb(A,B)\n",
    "np.linalg.matrix_rank(Co),np.linalg.det(Co)"
   ]
  },
  {
   "cell_type": "markdown",
   "id": "59b0b41f-4b2c-4889-8bef-be7ff4876dcf",
   "metadata": {},
   "source": [
    "Es sistema no es controlable el rango de la matriz de controlabilidad es 3 y el sistema tiene orden 5\n",
    "\n",
    "hacemos un test de estabilidad, no sé si esta bien, esto lo saque de acá https://electronics.stackexchange.com/questions/432133/how-to-control-state-space-when-it-is-not-controllable\n"
   ]
  },
  {
   "cell_type": "code",
   "execution_count": 123,
   "id": "9f306c7f-fda7-4e77-9d3b-6f95d1991230",
   "metadata": {},
   "outputs": [
    {
     "data": {
      "text/plain": [
       "array([], dtype=complex128)"
      ]
     },
     "execution_count": 123,
     "metadata": {},
     "output_type": "execute_result"
    }
   ],
   "source": [
    "polos=sys.pole()\n",
    "polo_re_pos=polos[np.real(polos)>0]\n",
    "polo_re_pos"
   ]
  },
  {
   "cell_type": "code",
   "execution_count": null,
   "id": "47ad1d1d-eb21-40a0-b7f1-edfd553571b1",
   "metadata": {},
   "outputs": [],
   "source": [
    "np.linalg.matrix_rank(np.hstack([polo_re_pos*np.eye(5), B]))#con rango 5 el sistema es estabilizable"
   ]
  },
  {
   "cell_type": "markdown",
   "id": "d62d43bd-da30-4295-acca-02d4395bfccc",
   "metadata": {},
   "source": [
    "Gramiano es posible calcular solo para sistemas controlables: https://controlautomaticoeducacion.com/sistemas-dinamicos-lineales/gramianos-de-controlabilidad-y-observabilidad/"
   ]
  },
  {
   "cell_type": "code",
   "execution_count": 64,
   "id": "9bd120f9-c47f-409d-b076-bcbfc1e3d890",
   "metadata": {},
   "outputs": [
    {
     "ename": "ValueError",
     "evalue": "Oops, the system is unstable!",
     "output_type": "error",
     "traceback": [
      "\u001b[0;31m---------------------------------------------------------------------------\u001b[0m",
      "\u001b[0;31mValueError\u001b[0m                                Traceback (most recent call last)",
      "Cell \u001b[0;32mIn[64], line 4\u001b[0m\n\u001b[1;32m      1\u001b[0m \u001b[38;5;66;03m#G = ctrl.rss(4)\u001b[39;00m\n\u001b[1;32m      2\u001b[0m \u001b[38;5;66;03m#Wc = ctrl.gram(sys, 'c')\u001b[39;00m\n\u001b[1;32m      3\u001b[0m \u001b[38;5;66;03m#Wo = ctrl.gram(sys, 'o')\u001b[39;00m\n\u001b[0;32m----> 4\u001b[0m Rc \u001b[38;5;241m=\u001b[39m \u001b[43mctrl\u001b[49m\u001b[38;5;241;43m.\u001b[39;49m\u001b[43mgram\u001b[49m\u001b[43m(\u001b[49m\u001b[43msys\u001b[49m\u001b[43m,\u001b[49m\u001b[43m \u001b[49m\u001b[38;5;124;43m'\u001b[39;49m\u001b[38;5;124;43mcf\u001b[39;49m\u001b[38;5;124;43m'\u001b[39;49m\u001b[43m)\u001b[49m  \u001b[38;5;66;03m# where Wc = Rc' * Rc\u001b[39;00m\n\u001b[1;32m      5\u001b[0m Ro \u001b[38;5;241m=\u001b[39m ctrl\u001b[38;5;241m.\u001b[39mgram(sys, \u001b[38;5;124m'\u001b[39m\u001b[38;5;124mof\u001b[39m\u001b[38;5;124m'\u001b[39m)  \u001b[38;5;66;03m# where Wo = Ro' * Ro\u001b[39;00m\n\u001b[1;32m      7\u001b[0m sys, Wc, Wo, Rc,Ro\n",
      "File \u001b[0;32m~/miniconda3/envs/tclab/lib/python3.11/site-packages/control/statefbk.py:1098\u001b[0m, in \u001b[0;36mgram\u001b[0;34m(sys, type)\u001b[0m\n\u001b[1;32m   1095\u001b[0m \u001b[38;5;66;03m# TODO: Check system is stable, perhaps a utility in ctrlutil.py\u001b[39;00m\n\u001b[1;32m   1096\u001b[0m \u001b[38;5;66;03m# or a method of the StateSpace class?\u001b[39;00m\n\u001b[1;32m   1097\u001b[0m \u001b[38;5;28;01mif\u001b[39;00m np\u001b[38;5;241m.\u001b[39many(np\u001b[38;5;241m.\u001b[39mlinalg\u001b[38;5;241m.\u001b[39meigvals(sys\u001b[38;5;241m.\u001b[39mA)\u001b[38;5;241m.\u001b[39mreal \u001b[38;5;241m>\u001b[39m\u001b[38;5;241m=\u001b[39m \u001b[38;5;241m0.0\u001b[39m):\n\u001b[0;32m-> 1098\u001b[0m     \u001b[38;5;28;01mraise\u001b[39;00m \u001b[38;5;167;01mValueError\u001b[39;00m(\u001b[38;5;124m\"\u001b[39m\u001b[38;5;124mOops, the system is unstable!\u001b[39m\u001b[38;5;124m\"\u001b[39m)\n\u001b[1;32m   1100\u001b[0m \u001b[38;5;28;01mif\u001b[39;00m \u001b[38;5;28mtype\u001b[39m \u001b[38;5;241m==\u001b[39m \u001b[38;5;124m'\u001b[39m\u001b[38;5;124mc\u001b[39m\u001b[38;5;124m'\u001b[39m \u001b[38;5;129;01mor\u001b[39;00m \u001b[38;5;28mtype\u001b[39m \u001b[38;5;241m==\u001b[39m \u001b[38;5;124m'\u001b[39m\u001b[38;5;124mo\u001b[39m\u001b[38;5;124m'\u001b[39m:\n\u001b[1;32m   1101\u001b[0m     \u001b[38;5;66;03m# Compute Gramian by the Slycot routine sb03md\u001b[39;00m\n\u001b[1;32m   1102\u001b[0m     \u001b[38;5;66;03m# make sure Slycot is installed\u001b[39;00m\n\u001b[1;32m   1103\u001b[0m     \u001b[38;5;28;01mif\u001b[39;00m sb03md \u001b[38;5;129;01mis\u001b[39;00m \u001b[38;5;28;01mNone\u001b[39;00m:\n",
      "\u001b[0;31mValueError\u001b[0m: Oops, the system is unstable!"
     ]
    }
   ],
   "source": [
    "#G = ctrl.rss(4)\n",
    "#Wc = ctrl.gram(sys, 'c')\n",
    "#Wo = ctrl.gram(sys, 'o')\n",
    "Rc = ctrl.gram(sys, 'cf')  # where Wc = Rc' * Rc\n",
    "Ro = ctrl.gram(sys, 'of')  # where Wo = Ro' * Ro\n",
    "\n",
    "sys, Wc, Wo, Rc,Ro"
   ]
  },
  {
   "cell_type": "code",
   "execution_count": 41,
   "id": "218021a9-c0b0-4fe5-8aa1-b8a55245adcf",
   "metadata": {},
   "outputs": [
    {
     "data": {
      "text/plain": [
       "(10000,)"
      ]
     },
     "execution_count": 41,
     "metadata": {},
     "output_type": "execute_result"
    }
   ],
   "source": [
    "t,y=ctrl.step_response(furuta,T=np.linspace(0,400,10000))\n",
    "y.shape"
   ]
  },
  {
   "cell_type": "code",
   "execution_count": 42,
   "id": "af0dd5e0-867a-4943-8ccd-d3fc1c4e8126",
   "metadata": {},
   "outputs": [
    {
     "data": {
      "text/plain": [
       "[<matplotlib.lines.Line2D at 0x7fc98f1f8d90>]"
      ]
     },
     "execution_count": 42,
     "metadata": {},
     "output_type": "execute_result"
    },
    {
     "data": {
      "image/png": "[encoded data removed]",
      "text/plain": [
       "<Figure size 640x480 with 1 Axes>"
      ]
     },
     "metadata": {},
     "output_type": "display_data"
    }
   ],
   "source": [
    "plt.plot(t,y)"
   ]
  },
  {
   "cell_type": "code",
   "execution_count": null,
   "id": "893352d0-3722-4df8-8f29-eb6018e9b155",
   "metadata": {},
   "outputs": [],
   "source": [
    "plt.plot(t,y[0,0])"
   ]
  },
  {
   "cell_type": "code",
   "execution_count": null,
   "id": "3451bf46-6196-42ce-9508-337d540b95d1",
   "metadata": {},
   "outputs": [],
   "source": [
    "plt.plot(t,y[1,0])"
   ]
  },
  {
   "cell_type": "code",
   "execution_count": null,
   "id": "dac5ea44-184c-4c94-8e2b-485dda8720e9",
   "metadata": {},
   "outputs": [],
   "source": [
    "plt.plot(t,y[2,0])"
   ]
  },
  {
   "cell_type": "code",
   "execution_count": null,
   "id": "73d3b006-b15f-4491-8721-def7b753c3b9",
   "metadata": {},
   "outputs": [],
   "source": []
  },
  {
   "cell_type": "code",
   "execution_count": null,
   "id": "673a2e4c-ee16-4068-8524-b202cdc0492b",
   "metadata": {},
   "outputs": [],
   "source": []
  }
 ],
 "metadata": {
  "kernelspec": {
   "display_name": "Python 3 (ipykernel)",
   "language": "python",
   "name": "python3"
  },
  "language_info": {
   "codemirror_mode": {
    "name": "ipython",
    "version": 3
   },
   "file_extension": ".py",
   "mimetype": "text/x-python",
   "name": "python",
   "nbconvert_exporter": "python",
   "pygments_lexer": "ipython3",
   "version": "3.11.5"
  }
 },
 "nbformat": 4,
 "nbformat_minor": 5
}
